{
  "nbformat": 4,
  "nbformat_minor": 0,
  "metadata": {
    "colab": {
      "provenance": [],
      "authorship_tag": "ABX9TyNHkL9fBSLzEHE6U0DX2Xsi",
      "include_colab_link": true
    },
    "kernelspec": {
      "name": "python3",
      "display_name": "Python 3"
    },
    "language_info": {
      "name": "python"
    }
  },
  "cells": [
    {
      "cell_type": "markdown",
      "metadata": {
        "id": "view-in-github",
        "colab_type": "text"
      },
      "source": [
        "<a href=\"https://colab.research.google.com/github/hyakuroume/-/blob/main/%E9%81%BA%E4%BC%9D%E5%AD%90%E9%85%8D%E5%88%97%E8%A7%A3%E6%9E%90.ipynb\" target=\"_parent\"><img src=\"https://colab.research.google.com/assets/colab-badge.svg\" alt=\"Open In Colab\"/></a>"
      ]
    },
    {
      "cell_type": "code",
      "execution_count": 7,
      "metadata": {
        "colab": {
          "base_uri": "https://localhost:8080/"
        },
        "id": "GEj7yLCVe5EO",
        "outputId": "b6afa574-bfd3-4280-ded1-f0c0169cbffa"
      },
      "outputs": [
        {
          "output_type": "stream",
          "name": "stdout",
          "text": [
            "\u001b[?25l   \u001b[90m━━━━━━━━━━━━━━━━━━━━━━━━━━━━━━━━━━━━━━━━\u001b[0m \u001b[32m0.0/1.3 MB\u001b[0m \u001b[31m?\u001b[0m eta \u001b[36m-:--:--\u001b[0m\r\u001b[2K   \u001b[91m━━━\u001b[0m\u001b[90m╺\u001b[0m\u001b[90m━━━━━━━━━━━━━━━━━━━━━━━━━━━━━━━━━━━━\u001b[0m \u001b[32m0.1/1.3 MB\u001b[0m \u001b[31m3.1 MB/s\u001b[0m eta \u001b[36m0:00:01\u001b[0m\r\u001b[2K   \u001b[91m━━━━━━━━━━━━━━━━━━━━━━━\u001b[0m\u001b[90m╺\u001b[0m\u001b[90m━━━━━━━━━━━━━━━━\u001b[0m \u001b[32m0.8/1.3 MB\u001b[0m \u001b[31m11.1 MB/s\u001b[0m eta \u001b[36m0:00:01\u001b[0m\r\u001b[2K   \u001b[90m━━━━━━━━━━━━━━━━━━━━━━━━━━━━━━━━━━━━━━━━\u001b[0m \u001b[32m1.3/1.3 MB\u001b[0m \u001b[31m12.9 MB/s\u001b[0m eta \u001b[36m0:00:00\u001b[0m\n",
            "\u001b[?25h"
          ]
        }
      ],
      "source": [
        "!pip install -q pytorch_lightning==2.5.1  monai==1.3.0"
      ]
    },
    {
      "cell_type": "code",
      "source": [
        "import matplotlib\n",
        "import matplotlib.pyplot as plt\n",
        "import seaborn as sns\n",
        "\n",
        "import torch\n",
        "import torch.nn as nn\n",
        "import torch.nn.functional as F\n",
        "import torchvision\n",
        "import pytorch_lightning as pl\n",
        "\n",
        "import monai\n",
        "\n",
        "import h5py"
      ],
      "metadata": {
        "id": "mqAG_Wgxe_6A"
      },
      "execution_count": 45,
      "outputs": []
    },
    {
      "cell_type": "code",
      "source": [
        "# バージョン確認\n",
        "print(f\" pytorch version : {torch.__version__}\\n pytorch lightning : {pl.__version__}\\n monai : {monai.__version__}\")"
      ],
      "metadata": {
        "colab": {
          "base_uri": "https://localhost:8080/"
        },
        "id": "WpoYfCIDfacn",
        "outputId": "52fb5e9f-66e4-4883-da9f-4ece793533ea"
      },
      "execution_count": 16,
      "outputs": [
        {
          "output_type": "stream",
          "name": "stdout",
          "text": [
            " pytorch version : 2.6.0+cu124\n",
            " pytorch lightning : 2.5.1\n",
            " monai : 1.3.0\n"
          ]
        }
      ]
    },
    {
      "cell_type": "code",
      "source": [
        "# データセットのダウンロード\n",
        "%%capture\n",
        "!if [ ! -e seq.h5 ]; then wget https://github.com/japan-medical-ai/medical-ai-course-materials/releases/download/v0.1/seq.h5; fi"
      ],
      "metadata": {
        "id": "plCgOXatfrTa"
      },
      "execution_count": 17,
      "outputs": []
    },
    {
      "cell_type": "code",
      "source": [
        "!h5dump -n seq.h5"
      ],
      "metadata": {
        "colab": {
          "base_uri": "https://localhost:8080/"
        },
        "id": "oSDwJlWviXyS",
        "outputId": "23a73046-c632-47ee-a21f-58db5e6bbd18"
      },
      "execution_count": 21,
      "outputs": [
        {
          "output_type": "stream",
          "name": "stdout",
          "text": [
            "/bin/bash: line 1: h5dump: command not found\n"
          ]
        }
      ]
    },
    {
      "cell_type": "code",
      "source": [
        "# データの確認\n",
        "def show_hdf5_structure(file_path):\n",
        "    \"\"\"HDF5形式のファイル構造を描画する関数\n",
        "\n",
        "    Args:\n",
        "        file_path (str): HDF5ファイルのパス\n",
        "\n",
        "    Prints:\n",
        "        HDF5ファイルの構造を描画する\n",
        "    \"\"\"\n",
        "    def _print_structure(name, obj):\n",
        "        \"\"\"再帰的に構造を出力する\"\"\"\n",
        "        indent = \"  \" * name.count(\"/\")  # 深さに応じたインデント\n",
        "        obj_type = \"Group\" if isinstance(obj, h5py.Group) else \"Dataset\"\n",
        "        print(f\"{indent}- {name} ({obj_type})\")\n",
        "\n",
        "    with h5py.File(file_path, \"r\") as hdf:\n",
        "        print(f\"📂 HDF5 structure of '{file_path}':\")\n",
        "        hdf.visititems(_print_structure)\n"
      ],
      "metadata": {
        "colab": {
          "base_uri": "https://localhost:8080/"
        },
        "id": "S531toEMi-kE",
        "outputId": "5f87b295-5276-40e0-f428-3677566e9e09"
      },
      "execution_count": 24,
      "outputs": [
        {
          "output_type": "stream",
          "name": "stdout",
          "text": [
            "📂 HDF5 structure of 'seq.h5':\n",
            "- target_labels (Dataset)\n",
            "- test_in (Dataset)\n",
            "- test_out (Dataset)\n",
            "- train_in (Dataset)\n",
            "- train_out (Dataset)\n",
            "- valid_in (Dataset)\n",
            "- valid_out (Dataset)\n"
          ]
        }
      ]
    },
    {
      "cell_type": "code",
      "source": [
        "# データの読み込み\n",
        "with h5py.File(\"seq.h5\", \"r\") as hf:\n",
        "    x_train, t_train = hf[\"train_in\"][()], hf[\"train_out\"][()]\n",
        "    x_val, t_val = hf[\"valid_in\"][()], hf[\"valid_out\"][()]\n",
        "    x_test, t_test = hf[\"test_in\"][()], hf[\"test_out\"][()]\n",
        "    label = hf[\"target_labels\"][()]"
      ],
      "metadata": {
        "id": "tjgPh4MRh_5c"
      },
      "execution_count": 32,
      "outputs": []
    },
    {
      "cell_type": "code",
      "source": [
        "# データ数の確認\n",
        "print(f\"train : {x_train.shape} {t_train.shape}\")\n",
        "print(f\"val   : {x_val.shape} {t_val.shape}\")\n",
        "print(f\"test  : {x_test.shape} {t_test.shape}\")"
      ],
      "metadata": {
        "colab": {
          "base_uri": "https://localhost:8080/"
        },
        "id": "fKVEDmlcmg5I",
        "outputId": "478aa159-ad42-4d70-b64d-ffa8bb1c60d5"
      },
      "execution_count": 37,
      "outputs": [
        {
          "output_type": "stream",
          "name": "stdout",
          "text": [
            "train : (5000, 131072, 4) (5000, 1024, 10)\n",
            "val   : (500, 131072, 4) (500, 1024, 10)\n",
            "test  : (500, 131072, 4) (500, 1024, 10)\n"
          ]
        }
      ]
    },
    {
      "cell_type": "code",
      "source": [
        "# ラベルの確認\n",
        "label"
      ],
      "metadata": {
        "colab": {
          "base_uri": "https://localhost:8080/"
        },
        "id": "ojEdJoQymkU-",
        "outputId": "74fd59f0-763a-40b7-a8ae-f1ace969503c"
      },
      "execution_count": 40,
      "outputs": [
        {
          "output_type": "execute_result",
          "data": {
            "text/plain": [
              "array([b'ENCSR000EQH_1_1', b'ENCSR000EKJ_1_1', b'ENCSR000EOM_2_1',\n",
              "       b'ENCSR257BGZ_2_2', b'ENCSR937UWI_2_2', b'ENCSR000EPP_2_1',\n",
              "       b'ENCSR000EPD_1_1', b'ENCSR000EQL_2_1', b'ENCSR000EMI_1_1',\n",
              "       b'ENCSR083STA_1_2'], dtype='|S29')"
            ]
          },
          "metadata": {},
          "execution_count": 40
        }
      ]
    },
    {
      "cell_type": "code",
      "source": [
        "x_train[0, :10, :]"
      ],
      "metadata": {
        "colab": {
          "base_uri": "https://localhost:8080/"
        },
        "id": "ooSeEQvapQvA",
        "outputId": "f3e109d6-f04f-48c5-be64-43da3313a28d"
      },
      "execution_count": 41,
      "outputs": [
        {
          "output_type": "execute_result",
          "data": {
            "text/plain": [
              "array([[False,  True, False, False],\n",
              "       [False, False, False,  True],\n",
              "       [ True, False, False, False],\n",
              "       [False, False, False,  True],\n",
              "       [ True, False, False, False],\n",
              "       [False, False, False,  True],\n",
              "       [False, False,  True, False],\n",
              "       [False, False, False,  True],\n",
              "       [False, False,  True, False],\n",
              "       [ True, False, False, False]])"
            ]
          },
          "metadata": {},
          "execution_count": 41
        }
      ]
    },
    {
      "cell_type": "code",
      "source": [
        "t_train[0, :5, :]"
      ],
      "metadata": {
        "colab": {
          "base_uri": "https://localhost:8080/"
        },
        "id": "69-4f1eJr-cc",
        "outputId": "aef9b8c9-68d4-4b3b-8be6-82a1d930745b"
      },
      "execution_count": 42,
      "outputs": [
        {
          "output_type": "execute_result",
          "data": {
            "text/plain": [
              "array([[1.034 , 0.    , 0.9663, 1.952 , 2.576 , 0.1135, 0.1472, 0.65  ,\n",
              "        0.0697, 1.127 ],\n",
              "       [0.4507, 0.    , 0.    , 3.232 , 3.793 , 0.9253, 0.895 , 0.    ,\n",
              "        0.    , 2.152 ],\n",
              "       [0.7114, 0.    , 0.3726, 6.14  , 6.254 , 1.3   , 0.    , 0.    ,\n",
              "        0.    , 2.117 ],\n",
              "       [0.929 , 0.    , 0.622 , 4.08  , 2.861 , 1.004 , 0.    , 1.129 ,\n",
              "        0.    , 2.66  ],\n",
              "       [0.1335, 0.    , 0.1277, 4.707 , 0.5234, 0.    , 0.4475, 0.629 ,\n",
              "        0.3198, 2.492 ]], dtype=float16)"
            ]
          },
          "metadata": {},
          "execution_count": 42
        }
      ]
    },
    {
      "cell_type": "code",
      "source": [
        "plt.figure(figsize=(24, 9))\n",
        "value = t_train[0, :, 1]\n",
        "plt.bar(range(len(value)), value)"
      ],
      "metadata": {
        "colab": {
          "base_uri": "https://localhost:8080/",
          "height": 612
        },
        "id": "9HhJCzxisnA5",
        "outputId": "7b00870c-d46d-4fdf-a001-d05b23f40cfc"
      },
      "execution_count": 44,
      "outputs": [
        {
          "output_type": "execute_result",
          "data": {
            "text/plain": [
              "<BarContainer object of 1024 artists>"
            ]
          },
          "metadata": {},
          "execution_count": 44
        },
        {
          "output_type": "display_data",
          "data": {
            "text/plain": [
              "<Figure size 2400x900 with 1 Axes>"
            ],
            "image/png": "[encoded data removed]"
          },
          "metadata": {}
        }
      ]
    },
    {
      "cell_type": "code",
      "source": [
        "# データの分布をプロット\n",
        "sns.displot(value)"
      ],
      "metadata": {
        "colab": {
          "base_uri": "https://localhost:8080/",
          "height": 524
        },
        "id": "MnL5eoKDu-W-",
        "outputId": "6989f8c2-4e43-435f-c869-fefa1b256c88"
      },
      "execution_count": 47,
      "outputs": [
        {
          "output_type": "execute_result",
          "data": {
            "text/plain": [
              "<seaborn.axisgrid.FacetGrid at 0x7d80da0ae550>"
            ]
          },
          "metadata": {},
          "execution_count": 47
        },
        {
          "output_type": "display_data",
          "data": {
            "text/plain": [
              "<Figure size 500x500 with 1 Axes>"
            ],
            "image/png": "[encoded data removed]"
          },
          "metadata": {}
        }
      ]
    },
    {
      "cell_type": "code",
      "source": [],
      "metadata": {
        "id": "LG2l_krnv99O"
      },
      "execution_count": null,
      "outputs": []
    }
  ]
}
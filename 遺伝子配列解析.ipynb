{
  "nbformat": 4,
  "nbformat_minor": 0,
  "metadata": {
    "colab": {
      "provenance": [],
      "gpuType": "T4",
      "authorship_tag": "ABX9TyPgB0O9jAUuXiHRK34gCSEj",
      "include_colab_link": true
    },
    "kernelspec": {
      "name": "python3",
      "display_name": "Python 3"
    },
    "language_info": {
      "name": "python"
    },
    "accelerator": "GPU",
    "widgets": {
      "application/vnd.jupyter.widget-state+json": {
        "daf547c38e1d49889ba9c1d8318ead5a": {
          "model_module": "@jupyter-widgets/controls",
          "model_name": "HBoxModel",
          "model_module_version": "1.5.0",
          "state": {
            "_dom_classes": [],
            "_model_module": "@jupyter-widgets/controls",
            "_model_module_version": "1.5.0",
            "_model_name": "HBoxModel",
            "_view_count": null,
            "_view_module": "@jupyter-widgets/controls",
            "_view_module_version": "1.5.0",
            "_view_name": "HBoxView",
            "box_style": "",
            "children": [
              "IPY_MODEL_de16faa737d94c23941eb13f96da6018",
              "IPY_MODEL_10f7b841838b40a0aa38bd8b93de9bd3",
              "IPY_MODEL_6b19d8c3c085460e8cc852cadd94a3f6"
            ],
            "layout": "IPY_MODEL_63f20a5cab6a4a8187b3fce38c102a52"
          }
        },
        "de16faa737d94c23941eb13f96da6018": {
          "model_module": "@jupyter-widgets/controls",
          "model_name": "HTMLModel",
          "model_module_version": "1.5.0",
          "state": {
            "_dom_classes": [],
            "_model_module": "@jupyter-widgets/controls",
            "_model_module_version": "1.5.0",
            "_model_name": "HTMLModel",
            "_view_count": null,
            "_view_module": "@jupyter-widgets/controls",
            "_view_module_version": "1.5.0",
            "_view_name": "HTMLView",
            "description": "",
            "description_tooltip": null,
            "layout": "IPY_MODEL_2aedb5b84f1f4e6095ed362b45f7dc19",
            "placeholder": "​",
            "style": "IPY_MODEL_b5d60aac79034fc5803bd8162ffc7ac4",
            "value": "Sanity Checking DataLoader 0: 100%"
          }
        },
        "10f7b841838b40a0aa38bd8b93de9bd3": {
          "model_module": "@jupyter-widgets/controls",
          "model_name": "FloatProgressModel",
          "model_module_version": "1.5.0",
          "state": {
            "_dom_classes": [],
            "_model_module": "@jupyter-widgets/controls",
            "_model_module_version": "1.5.0",
            "_model_name": "FloatProgressModel",
            "_view_count": null,
            "_view_module": "@jupyter-widgets/controls",
            "_view_module_version": "1.5.0",
            "_view_name": "ProgressView",
            "bar_style": "",
            "description": "",
            "description_tooltip": null,
            "layout": "IPY_MODEL_903bba6e0f154de88bf89e6282be2faa",
            "max": 2,
            "min": 0,
            "orientation": "horizontal",
            "style": "IPY_MODEL_f094cf4a39174c508a5b8dadd5115ccd",
            "value": 2
          }
        },
        "6b19d8c3c085460e8cc852cadd94a3f6": {
          "model_module": "@jupyter-widgets/controls",
          "model_name": "HTMLModel",
          "model_module_version": "1.5.0",
          "state": {
            "_dom_classes": [],
            "_model_module": "@jupyter-widgets/controls",
            "_model_module_version": "1.5.0",
            "_model_name": "HTMLModel",
            "_view_count": null,
            "_view_module": "@jupyter-widgets/controls",
            "_view_module_version": "1.5.0",
            "_view_name": "HTMLView",
            "description": "",
            "description_tooltip": null,
            "layout": "IPY_MODEL_7a4d9a1be38e47dface21b018967f85e",
            "placeholder": "​",
            "style": "IPY_MODEL_b5c9e0efb18742e09ce30c955373d9c5",
            "value": " 2/2 [00:01&lt;00:00,  1.19it/s]"
          }
        },
        "63f20a5cab6a4a8187b3fce38c102a52": {
          "model_module": "@jupyter-widgets/base",
          "model_name": "LayoutModel",
          "model_module_version": "1.2.0",
          "state": {
            "_model_module": "@jupyter-widgets/base",
            "_model_module_version": "1.2.0",
            "_model_name": "LayoutModel",
            "_view_count": null,
            "_view_module": "@jupyter-widgets/base",
            "_view_module_version": "1.2.0",
            "_view_name": "LayoutView",
            "align_content": null,
            "align_items": null,
            "align_self": null,
            "border": null,
            "bottom": null,
            "display": "inline-flex",
            "flex": null,
            "flex_flow": "row wrap",
            "grid_area": null,
            "grid_auto_columns": null,
            "grid_auto_flow": null,
            "grid_auto_rows": null,
            "grid_column": null,
            "grid_gap": null,
            "grid_row": null,
            "grid_template_areas": null,
            "grid_template_columns": null,
            "grid_template_rows": null,
            "height": null,
            "justify_content": null,
            "justify_items": null,
            "left": null,
            "margin": null,
            "max_height": null,
            "max_width": null,
            "min_height": null,
            "min_width": null,
            "object_fit": null,
            "object_position": null,
            "order": null,
            "overflow": null,
            "overflow_x": null,
            "overflow_y": null,
            "padding": null,
            "right": null,
            "top": null,
            "visibility": "hidden",
            "width": "100%"
          }
        },
        "2aedb5b84f1f4e6095ed362b45f7dc19": {
          "model_module": "@jupyter-widgets/base",
          "model_name": "LayoutModel",
          "model_module_version": "1.2.0",
          "state": {
            "_model_module": "@jupyter-widgets/base",
            "_model_module_version": "1.2.0",
            "_model_name": "LayoutModel",
            "_view_count": null,
            "_view_module": "@jupyter-widgets/base",
            "_view_module_version": "1.2.0",
            "_view_name": "LayoutView",
            "align_content": null,
            "align_items": null,
            "align_self": null,
            "border": null,
            "bottom": null,
            "display": null,
            "flex": null,
            "flex_flow": null,
            "grid_area": null,
            "grid_auto_columns": null,
            "grid_auto_flow": null,
            "grid_auto_rows": null,
            "grid_column": null,
            "grid_gap": null,
            "grid_row": null,
            "grid_template_areas": null,
            "grid_template_columns": null,
            "grid_template_rows": null,
            "height": null,
            "justify_content": null,
            "justify_items": null,
            "left": null,
            "margin": null,
            "max_height": null,
            "max_width": null,
            "min_height": null,
            "min_width": null,
            "object_fit": null,
            "object_position": null,
            "order": null,
            "overflow": null,
            "overflow_x": null,
            "overflow_y": null,
            "padding": null,
            "right": null,
            "top": null,
            "visibility": null,
            "width": null
          }
        },
        "b5d60aac79034fc5803bd8162ffc7ac4": {
          "model_module": "@jupyter-widgets/controls",
          "model_name": "DescriptionStyleModel",
          "model_module_version": "1.5.0",
          "state": {
            "_model_module": "@jupyter-widgets/controls",
            "_model_module_version": "1.5.0",
            "_model_name": "DescriptionStyleModel",
            "_view_count": null,
            "_view_module": "@jupyter-widgets/base",
            "_view_module_version": "1.2.0",
            "_view_name": "StyleView",
            "description_width": ""
          }
        },
        "903bba6e0f154de88bf89e6282be2faa": {
          "model_module": "@jupyter-widgets/base",
          "model_name": "LayoutModel",
          "model_module_version": "1.2.0",
          "state": {
            "_model_module": "@jupyter-widgets/base",
            "_model_module_version": "1.2.0",
            "_model_name": "LayoutModel",
            "_view_count": null,
            "_view_module": "@jupyter-widgets/base",
            "_view_module_version": "1.2.0",
            "_view_name": "LayoutView",
            "align_content": null,
            "align_items": null,
            "align_self": null,
            "border": null,
            "bottom": null,
            "display": null,
            "flex": "2",
            "flex_flow": null,
            "grid_area": null,
            "grid_auto_columns": null,
            "grid_auto_flow": null,
            "grid_auto_rows": null,
            "grid_column": null,
            "grid_gap": null,
            "grid_row": null,
            "grid_template_areas": null,
            "grid_template_columns": null,
            "grid_template_rows": null,
            "height": null,
            "justify_content": null,
            "justify_items": null,
            "left": null,
            "margin": null,
            "max_height": null,
            "max_width": null,
            "min_height": null,
            "min_width": null,
            "object_fit": null,
            "object_position": null,
            "order": null,
            "overflow": null,
            "overflow_x": null,
            "overflow_y": null,
            "padding": null,
            "right": null,
            "top": null,
            "visibility": null,
            "width": null
          }
        },
        "f094cf4a39174c508a5b8dadd5115ccd": {
          "model_module": "@jupyter-widgets/controls",
          "model_name": "ProgressStyleModel",
          "model_module_version": "1.5.0",
          "state": {
            "_model_module": "@jupyter-widgets/controls",
            "_model_module_version": "1.5.0",
            "_model_name": "ProgressStyleModel",
            "_view_count": null,
            "_view_module": "@jupyter-widgets/base",
            "_view_module_version": "1.2.0",
            "_view_name": "StyleView",
            "bar_color": null,
            "description_width": ""
          }
        },
        "7a4d9a1be38e47dface21b018967f85e": {
          "model_module": "@jupyter-widgets/base",
          "model_name": "LayoutModel",
          "model_module_version": "1.2.0",
          "state": {
            "_model_module": "@jupyter-widgets/base",
            "_model_module_version": "1.2.0",
            "_model_name": "LayoutModel",
            "_view_count": null,
            "_view_module": "@jupyter-widgets/base",
            "_view_module_version": "1.2.0",
            "_view_name": "LayoutView",
            "align_content": null,
            "align_items": null,
            "align_self": null,
            "border": null,
            "bottom": null,
            "display": null,
            "flex": null,
            "flex_flow": null,
            "grid_area": null,
            "grid_auto_columns": null,
            "grid_auto_flow": null,
            "grid_auto_rows": null,
            "grid_column": null,
            "grid_gap": null,
            "grid_row": null,
            "grid_template_areas": null,
            "grid_template_columns": null,
            "grid_template_rows": null,
            "height": null,
            "justify_content": null,
            "justify_items": null,
            "left": null,
            "margin": null,
            "max_height": null,
            "max_width": null,
            "min_height": null,
            "min_width": null,
            "object_fit": null,
            "object_position": null,
            "order": null,
            "overflow": null,
            "overflow_x": null,
            "overflow_y": null,
            "padding": null,
            "right": null,
            "top": null,
            "visibility": null,
            "width": null
          }
        },
        "b5c9e0efb18742e09ce30c955373d9c5": {
          "model_module": "@jupyter-widgets/controls",
          "model_name": "DescriptionStyleModel",
          "model_module_version": "1.5.0",
          "state": {
            "_model_module": "@jupyter-widgets/controls",
            "_model_module_version": "1.5.0",
            "_model_name": "DescriptionStyleModel",
            "_view_count": null,
            "_view_module": "@jupyter-widgets/base",
            "_view_module_version": "1.2.0",
            "_view_name": "StyleView",
            "description_width": ""
          }
        },
        "08d8c748cf0d4340a8b55aa0a244af75": {
          "model_module": "@jupyter-widgets/controls",
          "model_name": "HBoxModel",
          "model_module_version": "1.5.0",
          "state": {
            "_dom_classes": [],
            "_model_module": "@jupyter-widgets/controls",
            "_model_module_version": "1.5.0",
            "_model_name": "HBoxModel",
            "_view_count": null,
            "_view_module": "@jupyter-widgets/controls",
            "_view_module_version": "1.5.0",
            "_view_name": "HBoxView",
            "box_style": "",
            "children": [
              "IPY_MODEL_80911db0bbbf49f4a5de224ff72bd337",
              "IPY_MODEL_a9146f9abdfa4d86a19280a038a09bd9",
              "IPY_MODEL_789d7729001642da808401ddc7d7e8c3"
            ],
            "layout": "IPY_MODEL_2ed19fbdf6314db0b06f043dc2572665"
          }
        },
        "80911db0bbbf49f4a5de224ff72bd337": {
          "model_module": "@jupyter-widgets/controls",
          "model_name": "HTMLModel",
          "model_module_version": "1.5.0",
          "state": {
            "_dom_classes": [],
            "_model_module": "@jupyter-widgets/controls",
            "_model_module_version": "1.5.0",
            "_model_name": "HTMLModel",
            "_view_count": null,
            "_view_module": "@jupyter-widgets/controls",
            "_view_module_version": "1.5.0",
            "_view_name": "HTMLView",
            "description": "",
            "description_tooltip": null,
            "layout": "IPY_MODEL_42a7a76cf59641c081bcf028ae04904f",
            "placeholder": "​",
            "style": "IPY_MODEL_c83d790b6d494927a771fe4ad853e8c5",
            "value": "Epoch 1:  26%"
          }
        },
        "a9146f9abdfa4d86a19280a038a09bd9": {
          "model_module": "@jupyter-widgets/controls",
          "model_name": "FloatProgressModel",
          "model_module_version": "1.5.0",
          "state": {
            "_dom_classes": [],
            "_model_module": "@jupyter-widgets/controls",
            "_model_module_version": "1.5.0",
            "_model_name": "FloatProgressModel",
            "_view_count": null,
            "_view_module": "@jupyter-widgets/controls",
            "_view_module_version": "1.5.0",
            "_view_name": "ProgressView",
            "bar_style": "",
            "description": "",
            "description_tooltip": null,
            "layout": "IPY_MODEL_89db02e884184a488ac4fd7554f19860",
            "max": 78,
            "min": 0,
            "orientation": "horizontal",
            "style": "IPY_MODEL_2169194fecdb4006858be8b730eda695",
            "value": 20
          }
        },
        "789d7729001642da808401ddc7d7e8c3": {
          "model_module": "@jupyter-widgets/controls",
          "model_name": "HTMLModel",
          "model_module_version": "1.5.0",
          "state": {
            "_dom_classes": [],
            "_model_module": "@jupyter-widgets/controls",
            "_model_module_version": "1.5.0",
            "_model_name": "HTMLModel",
            "_view_count": null,
            "_view_module": "@jupyter-widgets/controls",
            "_view_module_version": "1.5.0",
            "_view_name": "HTMLView",
            "description": "",
            "description_tooltip": null,
            "layout": "IPY_MODEL_cdbbfa0620874205a05b69d18a92a5cf",
            "placeholder": "​",
            "style": "IPY_MODEL_dcae15847c764e6ea73a474e527252d9",
            "value": " 20/78 [00:14&lt;00:43,  1.34it/s, v_num=0, train_loss_step=0.315, train_r2_step=0.347, train_loss_epoch=0.475, train_r2_epoch=0.206]"
          }
        },
        "2ed19fbdf6314db0b06f043dc2572665": {
          "model_module": "@jupyter-widgets/base",
          "model_name": "LayoutModel",
          "model_module_version": "1.2.0",
          "state": {
            "_model_module": "@jupyter-widgets/base",
            "_model_module_version": "1.2.0",
            "_model_name": "LayoutModel",
            "_view_count": null,
            "_view_module": "@jupyter-widgets/base",
            "_view_module_version": "1.2.0",
            "_view_name": "LayoutView",
            "align_content": null,
            "align_items": null,
            "align_self": null,
            "border": null,
            "bottom": null,
            "display": "inline-flex",
            "flex": null,
            "flex_flow": "row wrap",
            "grid_area": null,
            "grid_auto_columns": null,
            "grid_auto_flow": null,
            "grid_auto_rows": null,
            "grid_column": null,
            "grid_gap": null,
            "grid_row": null,
            "grid_template_areas": null,
            "grid_template_columns": null,
            "grid_template_rows": null,
            "height": null,
            "justify_content": null,
            "justify_items": null,
            "left": null,
            "margin": null,
            "max_height": null,
            "max_width": null,
            "min_height": null,
            "min_width": null,
            "object_fit": null,
            "object_position": null,
            "order": null,
            "overflow": null,
            "overflow_x": null,
            "overflow_y": null,
            "padding": null,
            "right": null,
            "top": null,
            "visibility": null,
            "width": "100%"
          }
        },
        "42a7a76cf59641c081bcf028ae04904f": {
          "model_module": "@jupyter-widgets/base",
          "model_name": "LayoutModel",
          "model_module_version": "1.2.0",
          "state": {
            "_model_module": "@jupyter-widgets/base",
            "_model_module_version": "1.2.0",
            "_model_name": "LayoutModel",
            "_view_count": null,
            "_view_module": "@jupyter-widgets/base",
            "_view_module_version": "1.2.0",
            "_view_name": "LayoutView",
            "align_content": null,
            "align_items": null,
            "align_self": null,
            "border": null,
            "bottom": null,
            "display": null,
            "flex": null,
            "flex_flow": null,
            "grid_area": null,
            "grid_auto_columns": null,
            "grid_auto_flow": null,
            "grid_auto_rows": null,
            "grid_column": null,
            "grid_gap": null,
            "grid_row": null,
            "grid_template_areas": null,
            "grid_template_columns": null,
            "grid_template_rows": null,
            "height": null,
            "justify_content": null,
            "justify_items": null,
            "left": null,
            "margin": null,
            "max_height": null,
            "max_width": null,
            "min_height": null,
            "min_width": null,
            "object_fit": null,
            "object_position": null,
            "order": null,
            "overflow": null,
            "overflow_x": null,
            "overflow_y": null,
            "padding": null,
            "right": null,
            "top": null,
            "visibility": null,
            "width": null
          }
        },
        "c83d790b6d494927a771fe4ad853e8c5": {
          "model_module": "@jupyter-widgets/controls",
          "model_name": "DescriptionStyleModel",
          "model_module_version": "1.5.0",
          "state": {
            "_model_module": "@jupyter-widgets/controls",
            "_model_module_version": "1.5.0",
            "_model_name": "DescriptionStyleModel",
            "_view_count": null,
            "_view_module": "@jupyter-widgets/base",
            "_view_module_version": "1.2.0",
            "_view_name": "StyleView",
            "description_width": ""
          }
        },
        "89db02e884184a488ac4fd7554f19860": {
          "model_module": "@jupyter-widgets/base",
          "model_name": "LayoutModel",
          "model_module_version": "1.2.0",
          "state": {
            "_model_module": "@jupyter-widgets/base",
            "_model_module_version": "1.2.0",
            "_model_name": "LayoutModel",
            "_view_count": null,
            "_view_module": "@jupyter-widgets/base",
            "_view_module_version": "1.2.0",
            "_view_name": "LayoutView",
            "align_content": null,
            "align_items": null,
            "align_self": null,
            "border": null,
            "bottom": null,
            "display": null,
            "flex": "2",
            "flex_flow": null,
            "grid_area": null,
            "grid_auto_columns": null,
            "grid_auto_flow": null,
            "grid_auto_rows": null,
            "grid_column": null,
            "grid_gap": null,
            "grid_row": null,
            "grid_template_areas": null,
            "grid_template_columns": null,
            "grid_template_rows": null,
            "height": null,
            "justify_content": null,
            "justify_items": null,
            "left": null,
            "margin": null,
            "max_height": null,
            "max_width": null,
            "min_height": null,
            "min_width": null,
            "object_fit": null,
            "object_position": null,
            "order": null,
            "overflow": null,
            "overflow_x": null,
            "overflow_y": null,
            "padding": null,
            "right": null,
            "top": null,
            "visibility": null,
            "width": null
          }
        },
        "2169194fecdb4006858be8b730eda695": {
          "model_module": "@jupyter-widgets/controls",
          "model_name": "ProgressStyleModel",
          "model_module_version": "1.5.0",
          "state": {
            "_model_module": "@jupyter-widgets/controls",
            "_model_module_version": "1.5.0",
            "_model_name": "ProgressStyleModel",
            "_view_count": null,
            "_view_module": "@jupyter-widgets/base",
            "_view_module_version": "1.2.0",
            "_view_name": "StyleView",
            "bar_color": null,
            "description_width": ""
          }
        },
        "cdbbfa0620874205a05b69d18a92a5cf": {
          "model_module": "@jupyter-widgets/base",
          "model_name": "LayoutModel",
          "model_module_version": "1.2.0",
          "state": {
            "_model_module": "@jupyter-widgets/base",
            "_model_module_version": "1.2.0",
            "_model_name": "LayoutModel",
            "_view_count": null,
            "_view_module": "@jupyter-widgets/base",
            "_view_module_version": "1.2.0",
            "_view_name": "LayoutView",
            "align_content": null,
            "align_items": null,
            "align_self": null,
            "border": null,
            "bottom": null,
            "display": null,
            "flex": null,
            "flex_flow": null,
            "grid_area": null,
            "grid_auto_columns": null,
            "grid_auto_flow": null,
            "grid_auto_rows": null,
            "grid_column": null,
            "grid_gap": null,
            "grid_row": null,
            "grid_template_areas": null,
            "grid_template_columns": null,
            "grid_template_rows": null,
            "height": null,
            "justify_content": null,
            "justify_items": null,
            "left": null,
            "margin": null,
            "max_height": null,
            "max_width": null,
            "min_height": null,
            "min_width": null,
            "object_fit": null,
            "object_position": null,
            "order": null,
            "overflow": null,
            "overflow_x": null,
            "overflow_y": null,
            "padding": null,
            "right": null,
            "top": null,
            "visibility": null,
            "width": null
          }
        },
        "dcae15847c764e6ea73a474e527252d9": {
          "model_module": "@jupyter-widgets/controls",
          "model_name": "DescriptionStyleModel",
          "model_module_version": "1.5.0",
          "state": {
            "_model_module": "@jupyter-widgets/controls",
            "_model_module_version": "1.5.0",
            "_model_name": "DescriptionStyleModel",
            "_view_count": null,
            "_view_module": "@jupyter-widgets/base",
            "_view_module_version": "1.2.0",
            "_view_name": "StyleView",
            "description_width": ""
          }
        },
        "0dd9f2e6d9a44be6945fcd821f15cc92": {
          "model_module": "@jupyter-widgets/controls",
          "model_name": "HBoxModel",
          "model_module_version": "1.5.0",
          "state": {
            "_dom_classes": [],
            "_model_module": "@jupyter-widgets/controls",
            "_model_module_version": "1.5.0",
            "_model_name": "HBoxModel",
            "_view_count": null,
            "_view_module": "@jupyter-widgets/controls",
            "_view_module_version": "1.5.0",
            "_view_name": "HBoxView",
            "box_style": "",
            "children": [
              "IPY_MODEL_257f9a01dca048adadd05a4e7e772065",
              "IPY_MODEL_ce1afc6a64ce463ba61d5b048f55cc11",
              "IPY_MODEL_f53418fb676a4b5a9256624a87233529"
            ],
            "layout": "IPY_MODEL_7f00bf7203154323866f970c45d0fa3f"
          }
        },
        "257f9a01dca048adadd05a4e7e772065": {
          "model_module": "@jupyter-widgets/controls",
          "model_name": "HTMLModel",
          "model_module_version": "1.5.0",
          "state": {
            "_dom_classes": [],
            "_model_module": "@jupyter-widgets/controls",
            "_model_module_version": "1.5.0",
            "_model_name": "HTMLModel",
            "_view_count": null,
            "_view_module": "@jupyter-widgets/controls",
            "_view_module_version": "1.5.0",
            "_view_name": "HTMLView",
            "description": "",
            "description_tooltip": null,
            "layout": "IPY_MODEL_75462a1fbd0449dbb9aeefdfa0246af9",
            "placeholder": "​",
            "style": "IPY_MODEL_bf955dc93a8a406aa667a9c6aa8eb1a1",
            "value": "Validation DataLoader 0: 100%"
          }
        },
        "ce1afc6a64ce463ba61d5b048f55cc11": {
          "model_module": "@jupyter-widgets/controls",
          "model_name": "FloatProgressModel",
          "model_module_version": "1.5.0",
          "state": {
            "_dom_classes": [],
            "_model_module": "@jupyter-widgets/controls",
            "_model_module_version": "1.5.0",
            "_model_name": "FloatProgressModel",
            "_view_count": null,
            "_view_module": "@jupyter-widgets/controls",
            "_view_module_version": "1.5.0",
            "_view_name": "ProgressView",
            "bar_style": "",
            "description": "",
            "description_tooltip": null,
            "layout": "IPY_MODEL_a1cc1a13b5d44579aa7c8c90cc816f77",
            "max": 8,
            "min": 0,
            "orientation": "horizontal",
            "style": "IPY_MODEL_f8ffeacf098e44c9b7f7de707e645604",
            "value": 8
          }
        },
        "f53418fb676a4b5a9256624a87233529": {
          "model_module": "@jupyter-widgets/controls",
          "model_name": "HTMLModel",
          "model_module_version": "1.5.0",
          "state": {
            "_dom_classes": [],
            "_model_module": "@jupyter-widgets/controls",
            "_model_module_version": "1.5.0",
            "_model_name": "HTMLModel",
            "_view_count": null,
            "_view_module": "@jupyter-widgets/controls",
            "_view_module_version": "1.5.0",
            "_view_name": "HTMLView",
            "description": "",
            "description_tooltip": null,
            "layout": "IPY_MODEL_8c4e3684fd78437e96a84c5d2f917b61",
            "placeholder": "​",
            "style": "IPY_MODEL_016fa352584a492c9b3885744476fc60",
            "value": " 8/8 [00:02&lt;00:00,  3.24it/s]"
          }
        },
        "7f00bf7203154323866f970c45d0fa3f": {
          "model_module": "@jupyter-widgets/base",
          "model_name": "LayoutModel",
          "model_module_version": "1.2.0",
          "state": {
            "_model_module": "@jupyter-widgets/base",
            "_model_module_version": "1.2.0",
            "_model_name": "LayoutModel",
            "_view_count": null,
            "_view_module": "@jupyter-widgets/base",
            "_view_module_version": "1.2.0",
            "_view_name": "LayoutView",
            "align_content": null,
            "align_items": null,
            "align_self": null,
            "border": null,
            "bottom": null,
            "display": "inline-flex",
            "flex": null,
            "flex_flow": "row wrap",
            "grid_area": null,
            "grid_auto_columns": null,
            "grid_auto_flow": null,
            "grid_auto_rows": null,
            "grid_column": null,
            "grid_gap": null,
            "grid_row": null,
            "grid_template_areas": null,
            "grid_template_columns": null,
            "grid_template_rows": null,
            "height": null,
            "justify_content": null,
            "justify_items": null,
            "left": null,
            "margin": null,
            "max_height": null,
            "max_width": null,
            "min_height": null,
            "min_width": null,
            "object_fit": null,
            "object_position": null,
            "order": null,
            "overflow": null,
            "overflow_x": null,
            "overflow_y": null,
            "padding": null,
            "right": null,
            "top": null,
            "visibility": "hidden",
            "width": "100%"
          }
        },
        "75462a1fbd0449dbb9aeefdfa0246af9": {
          "model_module": "@jupyter-widgets/base",
          "model_name": "LayoutModel",
          "model_module_version": "1.2.0",
          "state": {
            "_model_module": "@jupyter-widgets/base",
            "_model_module_version": "1.2.0",
            "_model_name": "LayoutModel",
            "_view_count": null,
            "_view_module": "@jupyter-widgets/base",
            "_view_module_version": "1.2.0",
            "_view_name": "LayoutView",
            "align_content": null,
            "align_items": null,
            "align_self": null,
            "border": null,
            "bottom": null,
            "display": null,
            "flex": null,
            "flex_flow": null,
            "grid_area": null,
            "grid_auto_columns": null,
            "grid_auto_flow": null,
            "grid_auto_rows": null,
            "grid_column": null,
            "grid_gap": null,
            "grid_row": null,
            "grid_template_areas": null,
            "grid_template_columns": null,
            "grid_template_rows": null,
            "height": null,
            "justify_content": null,
            "justify_items": null,
            "left": null,
            "margin": null,
            "max_height": null,
            "max_width": null,
            "min_height": null,
            "min_width": null,
            "object_fit": null,
            "object_position": null,
            "order": null,
            "overflow": null,
            "overflow_x": null,
            "overflow_y": null,
            "padding": null,
            "right": null,
            "top": null,
            "visibility": null,
            "width": null
          }
        },
        "bf955dc93a8a406aa667a9c6aa8eb1a1": {
          "model_module": "@jupyter-widgets/controls",
          "model_name": "DescriptionStyleModel",
          "model_module_version": "1.5.0",
          "state": {
            "_model_module": "@jupyter-widgets/controls",
            "_model_module_version": "1.5.0",
            "_model_name": "DescriptionStyleModel",
            "_view_count": null,
            "_view_module": "@jupyter-widgets/base",
            "_view_module_version": "1.2.0",
            "_view_name": "StyleView",
            "description_width": ""
          }
        },
        "a1cc1a13b5d44579aa7c8c90cc816f77": {
          "model_module": "@jupyter-widgets/base",
          "model_name": "LayoutModel",
          "model_module_version": "1.2.0",
          "state": {
            "_model_module": "@jupyter-widgets/base",
            "_model_module_version": "1.2.0",
            "_model_name": "LayoutModel",
            "_view_count": null,
            "_view_module": "@jupyter-widgets/base",
            "_view_module_version": "1.2.0",
            "_view_name": "LayoutView",
            "align_content": null,
            "align_items": null,
            "align_self": null,
            "border": null,
            "bottom": null,
            "display": null,
            "flex": "2",
            "flex_flow": null,
            "grid_area": null,
            "grid_auto_columns": null,
            "grid_auto_flow": null,
            "grid_auto_rows": null,
            "grid_column": null,
            "grid_gap": null,
            "grid_row": null,
            "grid_template_areas": null,
            "grid_template_columns": null,
            "grid_template_rows": null,
            "height": null,
            "justify_content": null,
            "justify_items": null,
            "left": null,
            "margin": null,
            "max_height": null,
            "max_width": null,
            "min_height": null,
            "min_width": null,
            "object_fit": null,
            "object_position": null,
            "order": null,
            "overflow": null,
            "overflow_x": null,
            "overflow_y": null,
            "padding": null,
            "right": null,
            "top": null,
            "visibility": null,
            "width": null
          }
        },
        "f8ffeacf098e44c9b7f7de707e645604": {
          "model_module": "@jupyter-widgets/controls",
          "model_name": "ProgressStyleModel",
          "model_module_version": "1.5.0",
          "state": {
            "_model_module": "@jupyter-widgets/controls",
            "_model_module_version": "1.5.0",
            "_model_name": "ProgressStyleModel",
            "_view_count": null,
            "_view_module": "@jupyter-widgets/base",
            "_view_module_version": "1.2.0",
            "_view_name": "StyleView",
            "bar_color": null,
            "description_width": ""
          }
        },
        "8c4e3684fd78437e96a84c5d2f917b61": {
          "model_module": "@jupyter-widgets/base",
          "model_name": "LayoutModel",
          "model_module_version": "1.2.0",
          "state": {
            "_model_module": "@jupyter-widgets/base",
            "_model_module_version": "1.2.0",
            "_model_name": "LayoutModel",
            "_view_count": null,
            "_view_module": "@jupyter-widgets/base",
            "_view_module_version": "1.2.0",
            "_view_name": "LayoutView",
            "align_content": null,
            "align_items": null,
            "align_self": null,
            "border": null,
            "bottom": null,
            "display": null,
            "flex": null,
            "flex_flow": null,
            "grid_area": null,
            "grid_auto_columns": null,
            "grid_auto_flow": null,
            "grid_auto_rows": null,
            "grid_column": null,
            "grid_gap": null,
            "grid_row": null,
            "grid_template_areas": null,
            "grid_template_columns": null,
            "grid_template_rows": null,
            "height": null,
            "justify_content": null,
            "justify_items": null,
            "left": null,
            "margin": null,
            "max_height": null,
            "max_width": null,
            "min_height": null,
            "min_width": null,
            "object_fit": null,
            "object_position": null,
            "order": null,
            "overflow": null,
            "overflow_x": null,
            "overflow_y": null,
            "padding": null,
            "right": null,
            "top": null,
            "visibility": null,
            "width": null
          }
        },
        "016fa352584a492c9b3885744476fc60": {
          "model_module": "@jupyter-widgets/controls",
          "model_name": "DescriptionStyleModel",
          "model_module_version": "1.5.0",
          "state": {
            "_model_module": "@jupyter-widgets/controls",
            "_model_module_version": "1.5.0",
            "_model_name": "DescriptionStyleModel",
            "_view_count": null,
            "_view_module": "@jupyter-widgets/base",
            "_view_module_version": "1.2.0",
            "_view_name": "StyleView",
            "description_width": ""
          }
        }
      }
    }
  },
  "cells": [
    {
      "cell_type": "markdown",
      "metadata": {
        "id": "view-in-github",
        "colab_type": "text"
      },
      "source": [
        "<a href=\"https://colab.research.google.com/github/hyakuroume/-/blob/main/%E9%81%BA%E4%BC%9D%E5%AD%90%E9%85%8D%E5%88%97%E8%A7%A3%E6%9E%90.ipynb\" target=\"_parent\"><img src=\"https://colab.research.google.com/assets/colab-badge.svg\" alt=\"Open In Colab\"/></a>"
      ]
    },
    {
      "cell_type": "code",
      "execution_count": 1,
      "metadata": {
        "colab": {
          "base_uri": "https://localhost:8080/"
        },
        "id": "GEj7yLCVe5EO",
        "outputId": "c3bd25d5-f890-4124-caa6-ca4ea10fa7cc"
      },
      "outputs": [
        {
          "output_type": "stream",
          "name": "stdout",
          "text": [
            "\u001b[?25l   \u001b[90m━━━━━━━━━━━━━━━━━━━━━━━━━━━━━━━━━━━━━━━━\u001b[0m \u001b[32m0.0/823.0 kB\u001b[0m \u001b[31m?\u001b[0m eta \u001b[36m-:--:--\u001b[0m\r\u001b[2K   \u001b[91m━━━━━━━━━━━━━━━━━━━━━━━━━━━━━━━━━━━━━━━\u001b[0m\u001b[91m╸\u001b[0m \u001b[32m819.2/823.0 kB\u001b[0m \u001b[31m33.7 MB/s\u001b[0m eta \u001b[36m0:00:01\u001b[0m\r\u001b[2K   \u001b[90m━━━━━━━━━━━━━━━━━━━━━━━━━━━━━━━━━━━━━━━━\u001b[0m \u001b[32m823.0/823.0 kB\u001b[0m \u001b[31m15.0 MB/s\u001b[0m eta \u001b[36m0:00:00\u001b[0m\n",
            "\u001b[2K   \u001b[90m━━━━━━━━━━━━━━━━━━━━━━━━━━━━━━━━━━━━━━━━\u001b[0m \u001b[32m1.3/1.3 MB\u001b[0m \u001b[31m55.2 MB/s\u001b[0m eta \u001b[36m0:00:00\u001b[0m\n",
            "\u001b[2K   \u001b[90m━━━━━━━━━━━━━━━━━━━━━━━━━━━━━━━━━━━━━━━━\u001b[0m \u001b[32m363.4/363.4 MB\u001b[0m \u001b[31m4.4 MB/s\u001b[0m eta \u001b[36m0:00:00\u001b[0m\n",
            "\u001b[2K   \u001b[90m━━━━━━━━━━━━━━━━━━━━━━━━━━━━━━━━━━━━━━━━\u001b[0m \u001b[32m13.8/13.8 MB\u001b[0m \u001b[31m125.3 MB/s\u001b[0m eta \u001b[36m0:00:00\u001b[0m\n",
            "\u001b[2K   \u001b[90m━━━━━━━━━━━━━━━━━━━━━━━━━━━━━━━━━━━━━━━━\u001b[0m \u001b[32m24.6/24.6 MB\u001b[0m \u001b[31m95.5 MB/s\u001b[0m eta \u001b[36m0:00:00\u001b[0m\n",
            "\u001b[2K   \u001b[90m━━━━━━━━━━━━━━━━━━━━━━━━━━━━━━━━━━━━━━━━\u001b[0m \u001b[32m883.7/883.7 kB\u001b[0m \u001b[31m63.4 MB/s\u001b[0m eta \u001b[36m0:00:00\u001b[0m\n",
            "\u001b[2K   \u001b[90m━━━━━━━━━━━━━━━━━━━━━━━━━━━━━━━━━━━━━━━\u001b[0m \u001b[32m664.8/664.8 MB\u001b[0m \u001b[31m806.0 kB/s\u001b[0m eta \u001b[36m0:00:00\u001b[0m\n",
            "\u001b[2K   \u001b[90m━━━━━━━━━━━━━━━━━━━━━━━━━━━━━━━━━━━━━━━━\u001b[0m \u001b[32m211.5/211.5 MB\u001b[0m \u001b[31m5.2 MB/s\u001b[0m eta \u001b[36m0:00:00\u001b[0m\n",
            "\u001b[2K   \u001b[90m━━━━━━━━━━━━━━━━━━━━━━━━━━━━━━━━━━━━━━━━\u001b[0m \u001b[32m56.3/56.3 MB\u001b[0m \u001b[31m14.6 MB/s\u001b[0m eta \u001b[36m0:00:00\u001b[0m\n",
            "\u001b[2K   \u001b[90m━━━━━━━━━━━━━━━━━━━━━━━━━━━━━━━━━━━━━━━━\u001b[0m \u001b[32m127.9/127.9 MB\u001b[0m \u001b[31m7.4 MB/s\u001b[0m eta \u001b[36m0:00:00\u001b[0m\n",
            "\u001b[2K   \u001b[90m━━━━━━━━━━━━━━━━━━━━━━━━━━━━━━━━━━━━━━━━\u001b[0m \u001b[32m207.5/207.5 MB\u001b[0m \u001b[31m6.7 MB/s\u001b[0m eta \u001b[36m0:00:00\u001b[0m\n",
            "\u001b[2K   \u001b[90m━━━━━━━━━━━━━━━━━━━━━━━━━━━━━━━━━━━━━━━━\u001b[0m \u001b[32m21.1/21.1 MB\u001b[0m \u001b[31m111.5 MB/s\u001b[0m eta \u001b[36m0:00:00\u001b[0m\n",
            "\u001b[2K   \u001b[90m━━━━━━━━━━━━━━━━━━━━━━━━━━━━━━━━━━━━━━━━\u001b[0m \u001b[32m963.5/963.5 kB\u001b[0m \u001b[31m59.4 MB/s\u001b[0m eta \u001b[36m0:00:00\u001b[0m\n",
            "\u001b[?25h"
          ]
        }
      ],
      "source": [
        "!pip install -q pytorch_lightning==2.5.1  monai==1.3.0"
      ]
    },
    {
      "cell_type": "code",
      "source": [
        "import matplotlib\n",
        "import matplotlib.pyplot as plt\n",
        "import seaborn as sns\n",
        "from sklearn.metrics import r2_score\n",
        "\n",
        "import torch\n",
        "import torch.nn as nn\n",
        "import torch.nn.functional as F\n",
        "import torchvision\n",
        "import pytorch_lightning as pl\n",
        "\n",
        "import monai\n",
        "from monai.networks.blocks import Convolution\n",
        "\n",
        "import h5py"
      ],
      "metadata": {
        "id": "mqAG_Wgxe_6A"
      },
      "execution_count": 2,
      "outputs": []
    },
    {
      "cell_type": "code",
      "source": [
        "# バージョン確認\n",
        "print(f\" pytorch version : {torch.__version__}\\n pytorch lightning : {pl.__version__}\\n monai : {monai.__version__}\")"
      ],
      "metadata": {
        "colab": {
          "base_uri": "https://localhost:8080/"
        },
        "id": "WpoYfCIDfacn",
        "outputId": "1458e925-5c4a-4d8d-e212-6e10cb5c2094"
      },
      "execution_count": 3,
      "outputs": [
        {
          "output_type": "stream",
          "name": "stdout",
          "text": [
            " pytorch version : 2.6.0+cu124\n",
            " pytorch lightning : 2.5.1\n",
            " monai : 1.3.0\n"
          ]
        }
      ]
    },
    {
      "cell_type": "code",
      "source": [
        "# データセットのダウンロード\n",
        "%%capture\n",
        "!if [ ! -e seq.h5 ]; then wget https://github.com/japan-medical-ai/medical-ai-course-materials/releases/download/v0.1/seq.h5; fi"
      ],
      "metadata": {
        "id": "plCgOXatfrTa"
      },
      "execution_count": 4,
      "outputs": []
    },
    {
      "cell_type": "code",
      "source": [
        "!h5dump -n seq.h5"
      ],
      "metadata": {
        "colab": {
          "base_uri": "https://localhost:8080/"
        },
        "id": "oSDwJlWviXyS",
        "outputId": "3f551048-3100-4f55-c7bf-6e465e6a6a2b"
      },
      "execution_count": 5,
      "outputs": [
        {
          "output_type": "stream",
          "name": "stdout",
          "text": [
            "/bin/bash: line 1: h5dump: command not found\n"
          ]
        }
      ]
    },
    {
      "cell_type": "code",
      "source": [
        "# データの確認\n",
        "def show_hdf5_structure(file_path):\n",
        "    \"\"\"HDF5形式のファイル構造を描画する関数\n",
        "\n",
        "    Args:\n",
        "        file_path (str): HDF5ファイルのパス\n",
        "\n",
        "    Prints:\n",
        "        HDF5ファイルの構造を描画する\n",
        "    \"\"\"\n",
        "    def _print_structure(name, obj):\n",
        "        \"\"\"再帰的に構造を出力する\"\"\"\n",
        "        indent = \"  \" * name.count(\"/\")  # 深さに応じたインデント\n",
        "        obj_type = \"Group\" if isinstance(obj, h5py.Group) else \"Dataset\"\n",
        "        print(f\"{indent}- {name} ({obj_type})\")\n",
        "\n",
        "    with h5py.File(file_path, \"r\") as hdf:\n",
        "        print(f\"📂 HDF5 structure of '{file_path}':\")\n",
        "        hdf.visititems(_print_structure)\n"
      ],
      "metadata": {
        "id": "S531toEMi-kE"
      },
      "execution_count": 6,
      "outputs": []
    },
    {
      "cell_type": "code",
      "source": [
        "# データの読み込み\n",
        "with h5py.File(\"seq.h5\", \"r\") as hf:\n",
        "    x_train, t_train = hf[\"train_in\"][()], hf[\"train_out\"][()]\n",
        "    x_val, t_val = hf[\"valid_in\"][()], hf[\"valid_out\"][()]\n",
        "    x_test, t_test = hf[\"test_in\"][()], hf[\"test_out\"][()]\n",
        "    label = hf[\"target_labels\"][()]"
      ],
      "metadata": {
        "id": "tjgPh4MRh_5c"
      },
      "execution_count": 7,
      "outputs": []
    },
    {
      "cell_type": "code",
      "source": [
        "# データ数の確認\n",
        "print(f\"train : {x_train.shape} {t_train.shape}\")\n",
        "print(f\"val   : {x_val.shape} {t_val.shape}\")\n",
        "print(f\"test  : {x_test.shape} {t_test.shape}\")"
      ],
      "metadata": {
        "colab": {
          "base_uri": "https://localhost:8080/"
        },
        "id": "fKVEDmlcmg5I",
        "outputId": "34f9e2d9-a0e1-436a-aff1-5717c84887a9"
      },
      "execution_count": 8,
      "outputs": [
        {
          "output_type": "stream",
          "name": "stdout",
          "text": [
            "train : (5000, 131072, 4) (5000, 1024, 10)\n",
            "val   : (500, 131072, 4) (500, 1024, 10)\n",
            "test  : (500, 131072, 4) (500, 1024, 10)\n"
          ]
        }
      ]
    },
    {
      "cell_type": "code",
      "source": [
        "# ラベルの確認\n",
        "label"
      ],
      "metadata": {
        "colab": {
          "base_uri": "https://localhost:8080/"
        },
        "id": "ojEdJoQymkU-",
        "outputId": "7a162dcf-8c71-4607-c084-b1dd364b0ac1"
      },
      "execution_count": 9,
      "outputs": [
        {
          "output_type": "execute_result",
          "data": {
            "text/plain": [
              "array([b'ENCSR000EQH_1_1', b'ENCSR000EKJ_1_1', b'ENCSR000EOM_2_1',\n",
              "       b'ENCSR257BGZ_2_2', b'ENCSR937UWI_2_2', b'ENCSR000EPP_2_1',\n",
              "       b'ENCSR000EPD_1_1', b'ENCSR000EQL_2_1', b'ENCSR000EMI_1_1',\n",
              "       b'ENCSR083STA_1_2'], dtype='|S29')"
            ]
          },
          "metadata": {},
          "execution_count": 9
        }
      ]
    },
    {
      "cell_type": "code",
      "source": [
        "x_train[0, :10, :]"
      ],
      "metadata": {
        "colab": {
          "base_uri": "https://localhost:8080/"
        },
        "id": "ooSeEQvapQvA",
        "outputId": "e55c687a-7976-4cae-f6a1-08e933073c53"
      },
      "execution_count": 10,
      "outputs": [
        {
          "output_type": "execute_result",
          "data": {
            "text/plain": [
              "array([[False,  True, False, False],\n",
              "       [False, False, False,  True],\n",
              "       [ True, False, False, False],\n",
              "       [False, False, False,  True],\n",
              "       [ True, False, False, False],\n",
              "       [False, False, False,  True],\n",
              "       [False, False,  True, False],\n",
              "       [False, False, False,  True],\n",
              "       [False, False,  True, False],\n",
              "       [ True, False, False, False]])"
            ]
          },
          "metadata": {},
          "execution_count": 10
        }
      ]
    },
    {
      "cell_type": "code",
      "source": [
        "t_train[0, :5, :]"
      ],
      "metadata": {
        "colab": {
          "base_uri": "https://localhost:8080/"
        },
        "id": "69-4f1eJr-cc",
        "outputId": "e9cd3b47-1df9-4a17-8418-41635667916e"
      },
      "execution_count": 11,
      "outputs": [
        {
          "output_type": "execute_result",
          "data": {
            "text/plain": [
              "array([[1.034 , 0.    , 0.9663, 1.952 , 2.576 , 0.1135, 0.1472, 0.65  ,\n",
              "        0.0697, 1.127 ],\n",
              "       [0.4507, 0.    , 0.    , 3.232 , 3.793 , 0.9253, 0.895 , 0.    ,\n",
              "        0.    , 2.152 ],\n",
              "       [0.7114, 0.    , 0.3726, 6.14  , 6.254 , 1.3   , 0.    , 0.    ,\n",
              "        0.    , 2.117 ],\n",
              "       [0.929 , 0.    , 0.622 , 4.08  , 2.861 , 1.004 , 0.    , 1.129 ,\n",
              "        0.    , 2.66  ],\n",
              "       [0.1335, 0.    , 0.1277, 4.707 , 0.5234, 0.    , 0.4475, 0.629 ,\n",
              "        0.3198, 2.492 ]], dtype=float16)"
            ]
          },
          "metadata": {},
          "execution_count": 11
        }
      ]
    },
    {
      "cell_type": "code",
      "source": [
        "plt.figure(figsize=(24, 9))\n",
        "value = t_train[0, :, 1]\n",
        "plt.bar(range(len(value)), value)"
      ],
      "metadata": {
        "colab": {
          "base_uri": "https://localhost:8080/",
          "height": 729
        },
        "id": "9HhJCzxisnA5",
        "outputId": "c78f57d2-e894-4315-e3a4-dae0ece31cc9"
      },
      "execution_count": 12,
      "outputs": [
        {
          "output_type": "execute_result",
          "data": {
            "text/plain": [
              "<BarContainer object of 1024 artists>"
            ]
          },
          "metadata": {},
          "execution_count": 12
        },
        {
          "output_type": "display_data",
          "data": {
            "text/plain": [
              "<Figure size 2400x900 with 1 Axes>"
            ],
            "image/png": "[encoded data removed]"
          },
          "metadata": {}
        }
      ]
    },
    {
      "cell_type": "code",
      "source": [
        "# データの分布をプロット\n",
        "sns.displot(value)"
      ],
      "metadata": {
        "colab": {
          "base_uri": "https://localhost:8080/",
          "height": 524
        },
        "id": "MnL5eoKDu-W-",
        "outputId": "0426fb9d-4419-4b2a-fb8a-35eb5ab60c8a"
      },
      "execution_count": 13,
      "outputs": [
        {
          "output_type": "execute_result",
          "data": {
            "text/plain": [
              "<seaborn.axisgrid.FacetGrid at 0x79a3bd75a790>"
            ]
          },
          "metadata": {},
          "execution_count": 13
        },
        {
          "output_type": "display_data",
          "data": {
            "text/plain": [
              "<Figure size 500x500 with 1 Axes>"
            ],
            "image/png": "[encoded data removed]"
          },
          "metadata": {}
        }
      ]
    },
    {
      "cell_type": "code",
      "source": [
        "# データセットクラスの定義\n",
        "class SequenceDataset(torch.utils.data.Dataset):\n",
        "    def __init__(self, x, t):\n",
        "        self.x = x\n",
        "        self.t = t[:, :, 1]\n",
        "\n",
        "    def __getitem__(self, idx):\n",
        "        x = torch.tensor(self.x[idx], dtype=torch.float32).permute(1, 0)\n",
        "        t = torch.tensor(self.t[idx], dtype=torch.float32)\n",
        "\n",
        "        return x, t\n",
        "\n",
        "    def __len__(self):\n",
        "        return len(self.x)"
      ],
      "metadata": {
        "id": "LG2l_krnv99O"
      },
      "execution_count": 14,
      "outputs": []
    },
    {
      "cell_type": "code",
      "source": [
        "# シードを固定\n",
        "pl.seed_everything(0)\n",
        "\n",
        "# データセットの取得\n",
        "train = SequenceDataset(x_train, t_train)\n",
        "val = SequenceDataset(x_val, t_val)\n",
        "test = SequenceDataset(x_test, t_test)\n",
        "\n",
        "# バッチサイズの定義\n",
        "batch_size = 64\n",
        "\n",
        "# Data Loader を定義\n",
        "train_loader = torch.utils.data.DataLoader(train, batch_size, shuffle=True, drop_last=True)\n",
        "val_loader = torch.utils.data.DataLoader(val, batch_size)\n",
        "test_loader = torch.utils.data.DataLoader(test, batch_size)"
      ],
      "metadata": {
        "colab": {
          "base_uri": "https://localhost:8080/"
        },
        "id": "DTaw0h4546U8",
        "outputId": "65ec4276-0105-4481-d25b-550cd63c5aaf"
      },
      "execution_count": 15,
      "outputs": [
        {
          "output_type": "stream",
          "name": "stderr",
          "text": [
            "INFO:lightning_fabric.utilities.seed:Seed set to 0\n"
          ]
        }
      ]
    },
    {
      "cell_type": "code",
      "source": [
        "# インスタンス化\n",
        "train = SequenceDataset(x_train, t_train)\n",
        "x, t = train[0]"
      ],
      "metadata": {
        "id": "2TCwK03D3i8B"
      },
      "execution_count": 16,
      "outputs": []
    },
    {
      "cell_type": "code",
      "source": [
        "x.shape, t.shape"
      ],
      "metadata": {
        "colab": {
          "base_uri": "https://localhost:8080/"
        },
        "id": "pPquGy6U3vmI",
        "outputId": "0a8129d7-5e7a-4043-a904-c9b1c8360bcd"
      },
      "execution_count": 17,
      "outputs": [
        {
          "output_type": "execute_result",
          "data": {
            "text/plain": [
              "(torch.Size([4, 131072]), torch.Size([1024]))"
            ]
          },
          "metadata": {},
          "execution_count": 17
        }
      ]
    },
    {
      "cell_type": "code",
      "source": [
        "plt.figure(figsize=(24, 9))\n",
        "plt.bar(range(len(t)), t)"
      ],
      "metadata": {
        "colab": {
          "base_uri": "https://localhost:8080/",
          "height": 729
        },
        "id": "kpkm5REY5Fld",
        "outputId": "514f2622-951b-479c-e3d4-43710ee5ee20"
      },
      "execution_count": 18,
      "outputs": [
        {
          "output_type": "execute_result",
          "data": {
            "text/plain": [
              "<BarContainer object of 1024 artists>"
            ]
          },
          "metadata": {},
          "execution_count": 18
        },
        {
          "output_type": "display_data",
          "data": {
            "text/plain": [
              "<Figure size 2400x900 with 1 Axes>"
            ],
            "image/png": "[encoded data removed]"
          },
          "metadata": {}
        }
      ]
    },
    {
      "cell_type": "code",
      "source": [
        "# squeeze_blockのパラメータの定義\n",
        "squeeze_params = [\n",
        "    {\"in_channels\":4, \"out_channels\":28, \"kernel_size\":21, \"strides\":2},\n",
        "    {\"in_channels\":28, \"out_channels\":52, \"kernel_size\":7, \"strides\":4},\n",
        "    {\"in_channels\":52, \"out_channels\":76, \"kernel_size\":7, \"strides\":4},\n",
        "    {\"in_channels\":76, \"out_channels\":100, \"kernel_size\":7, \"strides\":4},\n",
        "]"
      ],
      "metadata": {
        "id": "d0Nx6C3a5OYY"
      },
      "execution_count": 19,
      "outputs": []
    },
    {
      "cell_type": "code",
      "source": [
        "# 層の定義\n",
        "squeeze = nn.Sequential()\n",
        "\n",
        "for i, p in enumerate(squeeze_params):\n",
        "    layer = Convolution(\n",
        "        spatial_dims=1,\n",
        "        in_channels=p[\"in_channels\"],\n",
        "        out_channels=p[\"out_channels\"],\n",
        "        kernel_size=p[\"kernel_size\"],\n",
        "        strides=p[\"strides\"],\n",
        "        norm=\"batch\",\n",
        "        act=\"ReLU\")\n",
        "\n",
        "    squeeze.add_module(f\"conv{i+1}\", layer)\n",
        "\n",
        "squeeze"
      ],
      "metadata": {
        "colab": {
          "base_uri": "https://localhost:8080/"
        },
        "id": "FeJsL8_c8IdJ",
        "outputId": "eefc75d9-1828-4bd6-988d-29dd61ceb878"
      },
      "execution_count": 20,
      "outputs": [
        {
          "output_type": "execute_result",
          "data": {
            "text/plain": [
              "Sequential(\n",
              "  (conv1): Convolution(\n",
              "    (conv): Conv1d(4, 28, kernel_size=(21,), stride=(2,), padding=(10,))\n",
              "    (adn): ADN(\n",
              "      (N): BatchNorm1d(28, eps=1e-05, momentum=0.1, affine=True, track_running_stats=True)\n",
              "      (A): ReLU()\n",
              "    )\n",
              "  )\n",
              "  (conv2): Convolution(\n",
              "    (conv): Conv1d(28, 52, kernel_size=(7,), stride=(4,), padding=(3,))\n",
              "    (adn): ADN(\n",
              "      (N): BatchNorm1d(52, eps=1e-05, momentum=0.1, affine=True, track_running_stats=True)\n",
              "      (A): ReLU()\n",
              "    )\n",
              "  )\n",
              "  (conv3): Convolution(\n",
              "    (conv): Conv1d(52, 76, kernel_size=(7,), stride=(4,), padding=(3,))\n",
              "    (adn): ADN(\n",
              "      (N): BatchNorm1d(76, eps=1e-05, momentum=0.1, affine=True, track_running_stats=True)\n",
              "      (A): ReLU()\n",
              "    )\n",
              "  )\n",
              "  (conv4): Convolution(\n",
              "    (conv): Conv1d(76, 100, kernel_size=(7,), stride=(4,), padding=(3,))\n",
              "    (adn): ADN(\n",
              "      (N): BatchNorm1d(100, eps=1e-05, momentum=0.1, affine=True, track_running_stats=True)\n",
              "      (A): ReLU()\n",
              "    )\n",
              "  )\n",
              ")"
            ]
          },
          "metadata": {},
          "execution_count": 20
        }
      ]
    },
    {
      "cell_type": "code",
      "source": [
        "h = squeeze(x.unsqueeze(0))\n",
        "h.shape"
      ],
      "metadata": {
        "colab": {
          "base_uri": "https://localhost:8080/"
        },
        "id": "hw1q3J-L8NKS",
        "outputId": "81a792b7-5a99-47c0-e106-7f91c90ee82e"
      },
      "execution_count": 21,
      "outputs": [
        {
          "output_type": "execute_result",
          "data": {
            "text/plain": [
              "torch.Size([1, 100, 1024])"
            ]
          },
          "metadata": {},
          "execution_count": 21
        }
      ]
    },
    {
      "cell_type": "markdown",
      "source": [
        "## Dilated Blockの定義"
      ],
      "metadata": {
        "id": "eaewvveH7Kr0"
      }
    },
    {
      "cell_type": "code",
      "source": [
        "# Dilated Blockの各層のパラメータの定義\n",
        "dilated_conv_params = [\n",
        "    {'in_channels': 100, 'out_channels': 24, 'kernel_size': 3, 'dilation': 1},\n",
        "    {'in_channels': 124, 'out_channels': 24, 'kernel_size': 3, 'dilation': 2},\n",
        "    {'in_channels': 148, 'out_channels': 24, 'kernel_size': 3, 'dilation': 4},\n",
        "    {'in_channels': 172, 'out_channels': 24, 'kernel_size': 3, 'dilation': 8},\n",
        "    {'in_channels': 196, 'out_channels': 24, 'kernel_size': 3, 'dilation': 16},\n",
        "    {'in_channels': 220, 'out_channels': 24, 'kernel_size': 3, 'dilation': 32},\n",
        "]"
      ],
      "metadata": {
        "id": "y6vPvSjm9Mx9"
      },
      "execution_count": 22,
      "outputs": []
    },
    {
      "cell_type": "code",
      "source": [
        "# Dilated Blockの設計\n",
        "dilated_conv = nn.Sequential()\n",
        "\n",
        "for i, p in enumerate(dilated_conv_params):\n",
        "        layer = Convolution(\n",
        "        spatial_dims=1,\n",
        "        in_channels=p[\"in_channels\"],\n",
        "        out_channels=p[\"out_channels\"],\n",
        "        kernel_size=p[\"kernel_size\"],\n",
        "        dilation=p[\"dilation\"],\n",
        "        norm=\"batch\",\n",
        "        act=\"ReLU\")\n",
        "\n",
        "        dilated_conv.add_module(f\"conv{i+1}\", layer)\n",
        "\n",
        "dilated_conv"
      ],
      "metadata": {
        "colab": {
          "base_uri": "https://localhost:8080/"
        },
        "id": "TSusK2ME7UEj",
        "outputId": "78c42f8b-334b-44e3-e86e-844ad7291990"
      },
      "execution_count": 23,
      "outputs": [
        {
          "output_type": "execute_result",
          "data": {
            "text/plain": [
              "Sequential(\n",
              "  (conv1): Convolution(\n",
              "    (conv): Conv1d(100, 24, kernel_size=(3,), stride=(1,), padding=(1,))\n",
              "    (adn): ADN(\n",
              "      (N): BatchNorm1d(24, eps=1e-05, momentum=0.1, affine=True, track_running_stats=True)\n",
              "      (A): ReLU()\n",
              "    )\n",
              "  )\n",
              "  (conv2): Convolution(\n",
              "    (conv): Conv1d(124, 24, kernel_size=(3,), stride=(1,), padding=(2,), dilation=(2,))\n",
              "    (adn): ADN(\n",
              "      (N): BatchNorm1d(24, eps=1e-05, momentum=0.1, affine=True, track_running_stats=True)\n",
              "      (A): ReLU()\n",
              "    )\n",
              "  )\n",
              "  (conv3): Convolution(\n",
              "    (conv): Conv1d(148, 24, kernel_size=(3,), stride=(1,), padding=(4,), dilation=(4,))\n",
              "    (adn): ADN(\n",
              "      (N): BatchNorm1d(24, eps=1e-05, momentum=0.1, affine=True, track_running_stats=True)\n",
              "      (A): ReLU()\n",
              "    )\n",
              "  )\n",
              "  (conv4): Convolution(\n",
              "    (conv): Conv1d(172, 24, kernel_size=(3,), stride=(1,), padding=(8,), dilation=(8,))\n",
              "    (adn): ADN(\n",
              "      (N): BatchNorm1d(24, eps=1e-05, momentum=0.1, affine=True, track_running_stats=True)\n",
              "      (A): ReLU()\n",
              "    )\n",
              "  )\n",
              "  (conv5): Convolution(\n",
              "    (conv): Conv1d(196, 24, kernel_size=(3,), stride=(1,), padding=(16,), dilation=(16,))\n",
              "    (adn): ADN(\n",
              "      (N): BatchNorm1d(24, eps=1e-05, momentum=0.1, affine=True, track_running_stats=True)\n",
              "      (A): ReLU()\n",
              "    )\n",
              "  )\n",
              "  (conv6): Convolution(\n",
              "    (conv): Conv1d(220, 24, kernel_size=(3,), stride=(1,), padding=(32,), dilation=(32,))\n",
              "    (adn): ADN(\n",
              "      (N): BatchNorm1d(24, eps=1e-05, momentum=0.1, affine=True, track_running_stats=True)\n",
              "      (A): ReLU()\n",
              "    )\n",
              "  )\n",
              ")"
            ]
          },
          "metadata": {},
          "execution_count": 23
        }
      ]
    },
    {
      "cell_type": "code",
      "source": [
        "# squeeze Block\n",
        "h = squeeze(x.unsqueeze(0))\n",
        "\n",
        "# Dilated Block\n",
        "hs = [h]\n",
        "\n",
        "for layer in dilated_conv:\n",
        "    h = torch.cat(hs, dim=1)\n",
        "    h = layer(h)\n",
        "    hs.append(h)\n",
        "\n",
        "# 結果の統合\n",
        "h = torch.cat(hs, dim=1)\n",
        "h.shape"
      ],
      "metadata": {
        "colab": {
          "base_uri": "https://localhost:8080/"
        },
        "id": "zw_s8Njd79qI",
        "outputId": "f676e18a-efa6-425f-a5ad-89cd3576868a"
      },
      "execution_count": 24,
      "outputs": [
        {
          "output_type": "execute_result",
          "data": {
            "text/plain": [
              "torch.Size([1, 244, 1024])"
            ]
          },
          "metadata": {},
          "execution_count": 24
        }
      ]
    },
    {
      "cell_type": "code",
      "source": [
        "# 1チャネルへ畳み込み\n",
        "conv = nn.Conv1d(in_channels=244, out_channels=1, kernel_size=1)\n",
        "\n",
        "h = conv(h)\n",
        "h.shape"
      ],
      "metadata": {
        "colab": {
          "base_uri": "https://localhost:8080/"
        },
        "id": "zUweIQwpf6Ca",
        "outputId": "d65501d0-9000-47cc-9113-e8babeccca33"
      },
      "execution_count": 25,
      "outputs": [
        {
          "output_type": "execute_result",
          "data": {
            "text/plain": [
              "torch.Size([1, 1, 1024])"
            ]
          },
          "metadata": {},
          "execution_count": 25
        }
      ]
    },
    {
      "cell_type": "code",
      "source": [
        "h.squeeze().shape"
      ],
      "metadata": {
        "id": "nZy7pYidgPWv",
        "colab": {
          "base_uri": "https://localhost:8080/"
        },
        "outputId": "0376c47d-f7f0-4f16-c93a-065ed2de0ef7"
      },
      "execution_count": 26,
      "outputs": [
        {
          "output_type": "execute_result",
          "data": {
            "text/plain": [
              "torch.Size([1024])"
            ]
          },
          "metadata": {},
          "execution_count": 26
        }
      ]
    },
    {
      "cell_type": "markdown",
      "source": [
        "## ネットワークの定義"
      ],
      "metadata": {
        "id": "_pXuZwQUzB9w"
      }
    },
    {
      "cell_type": "code",
      "source": [
        "class Net(pl.LightningModule):\n",
        "    def __init__(self):\n",
        "        super().__init__()\n",
        "\n",
        "        self.squeeze_params =  [\n",
        "        {\"in_channels\":4, \"out_channels\":28, \"kernel_size\":21, \"strides\":2},\n",
        "        {\"in_channels\":28, \"out_channels\":52, \"kernel_size\":7, \"strides\":4},\n",
        "        {\"in_channels\":52, \"out_channels\":76, \"kernel_size\":7, \"strides\":4},\n",
        "        {\"in_channels\":76, \"out_channels\":100, \"kernel_size\":7, \"strides\":4},\n",
        "        ]\n",
        "\n",
        "        self.dilated_conv_params = [\n",
        "            {'in_channels': 100, 'out_channels': 24, 'kernel_size': 3, 'dilation': 1},\n",
        "            {'in_channels': 124, 'out_channels': 24, 'kernel_size': 3, 'dilation': 2},\n",
        "            {'in_channels': 148, 'out_channels': 24, 'kernel_size': 3, 'dilation': 4},\n",
        "            {'in_channels': 172, 'out_channels': 24, 'kernel_size': 3, 'dilation': 8},\n",
        "            {'in_channels': 196, 'out_channels': 24, 'kernel_size': 3, 'dilation': 16},\n",
        "            {'in_channels': 220, 'out_channels': 24, 'kernel_size': 3, 'dilation': 32},\n",
        "        ]\n",
        "\n",
        "        # Squeeze_Block\n",
        "        self.squeeze = nn.Sequential()\n",
        "\n",
        "        for i, p in enumerate(squeeze_params):\n",
        "            layer = Convolution(\n",
        "                spatial_dims=1,\n",
        "                in_channels=p[\"in_channels\"],\n",
        "                out_channels=p[\"out_channels\"],\n",
        "                kernel_size=p[\"kernel_size\"],\n",
        "                strides=p[\"strides\"],\n",
        "                norm=\"batch\",\n",
        "                act=\"ReLU\")\n",
        "\n",
        "            self.squeeze.add_module(f\"conv{i+1}\", layer)\n",
        "\n",
        "        # Dilated Block\n",
        "        self.dilated_conv = nn.Sequential()\n",
        "\n",
        "        for i, p in enumerate(dilated_conv_params):\n",
        "                layer = Convolution(\n",
        "                spatial_dims=1,\n",
        "                in_channels=p[\"in_channels\"],\n",
        "                out_channels=p[\"out_channels\"],\n",
        "                kernel_size=p[\"kernel_size\"],\n",
        "                dilation=p[\"dilation\"],\n",
        "                norm=\"batch\",\n",
        "                act=\"ReLU\")\n",
        "\n",
        "                self.dilated_conv.add_module(f\"conv{i+1}\", layer)\n",
        "\n",
        "        # 1チャネルへ畳み込み\n",
        "        self.conv = nn.Conv1d(in_channels=244, out_channels=1, kernel_size=1)\n",
        "\n",
        "    def forward(self, x):\n",
        "        # Squeeze_Block\n",
        "        h = self.squeeze(x)\n",
        "\n",
        "        # Dilated Block\n",
        "        hs = [h]\n",
        "\n",
        "        for layer in self.dilated_conv:\n",
        "            h = torch.cat(hs, dim=1)\n",
        "            h = layer(h)\n",
        "            hs.append(h)\n",
        "\n",
        "        # 畳み込み\n",
        "        h = torch.cat(hs, dim=1)\n",
        "        h = self.conv(h)\n",
        "        h = h.squeeze()\n",
        "\n",
        "        return h\n",
        "\n",
        "    def r2_score(self, y, t):\n",
        "        y = torch.exp(y)\n",
        "        r_n = ((t-y)**2).sum(dim=0)\n",
        "        r_d = ((t - t.mean(dim=0))**2).sum(dim=0)\n",
        "        r = 1 - r_n / r_d\n",
        "\n",
        "        return r.mean()\n",
        "\n",
        "    def training_step(self, batch, batch_idx):\n",
        "        x, t = batch\n",
        "        y = self(x)\n",
        "\n",
        "        loss = F.poisson_nll_loss(y, t)\n",
        "        self.log(\"train_loss\", loss, on_step=True, on_epoch=True, prog_bar=True)\n",
        "        self.log(\"train_r2\", self.r2_score(y, t), on_step=True, on_epoch=True, prog_bar=True)\n",
        "\n",
        "        return loss\n",
        "\n",
        "    def validation_step(self, batch, batch_idx):\n",
        "        x, t = batch\n",
        "        y = self(x)\n",
        "\n",
        "        loss = F.poisson_nll_loss(y, t)\n",
        "        self.log(\"train_loss\", loss, on_step=True, on_epoch=True, prog_bar=True)\n",
        "        self.log(\"train_r2\", self.r2_score(y, t), on_step=True, on_epoch=True, prog_bar=True)\n",
        "\n",
        "        return loss\n",
        "\n",
        "    def test_step(self, batch, batch_idx):\n",
        "        x, t = batch\n",
        "        y = self(x)\n",
        "\n",
        "        loss = F.poisson_nll_loss(y, t)\n",
        "        self.log(\"train_loss\", loss, on_step=True, on_epoch=True, prog_bar=True)\n",
        "        self.log(\"train_r2\", self.r2_score(y, t), on_step=True, on_epoch=True, prog_bar=True)\n",
        "\n",
        "        return loss\n",
        "\n",
        "    def configure_optimizers(self):\n",
        "        optimizer = torch.optim.Adam(self.parameters())\n",
        "        scheduler = torch.optim.lr_schedular.stepLR(optimizer, step_size=800, gamma=0.3)\n",
        "        return [optimizer], [scheduler]"
      ],
      "metadata": {
        "id": "JDra3EqMzEGe"
      },
      "execution_count": 27,
      "outputs": []
    },
    {
      "cell_type": "code",
      "source": [
        "# 訓練の実行\n",
        "pl.seed_everything(0)\n",
        "net = Net()\n",
        "\n",
        "trainer = pl.Trainer(max_epochs=10, devices=1, accelerator=\"gpu\", deterministic=True, gradient_clip_val=1.0)\n",
        "trainer.fit(net, train_loader, val_loader)"
      ],
      "metadata": {
        "colab": {
          "base_uri": "https://localhost:8080/",
          "height": 398,
          "referenced_widgets": [
            "daf547c38e1d49889ba9c1d8318ead5a",
            "de16faa737d94c23941eb13f96da6018",
            "10f7b841838b40a0aa38bd8b93de9bd3",
            "6b19d8c3c085460e8cc852cadd94a3f6",
            "63f20a5cab6a4a8187b3fce38c102a52",
            "2aedb5b84f1f4e6095ed362b45f7dc19",
            "b5d60aac79034fc5803bd8162ffc7ac4",
            "903bba6e0f154de88bf89e6282be2faa",
            "f094cf4a39174c508a5b8dadd5115ccd",
            "7a4d9a1be38e47dface21b018967f85e",
            "b5c9e0efb18742e09ce30c955373d9c5",
            "08d8c748cf0d4340a8b55aa0a244af75",
            "80911db0bbbf49f4a5de224ff72bd337",
            "a9146f9abdfa4d86a19280a038a09bd9",
            "789d7729001642da808401ddc7d7e8c3",
            "2ed19fbdf6314db0b06f043dc2572665",
            "42a7a76cf59641c081bcf028ae04904f",
            "c83d790b6d494927a771fe4ad853e8c5",
            "89db02e884184a488ac4fd7554f19860",
            "2169194fecdb4006858be8b730eda695",
            "cdbbfa0620874205a05b69d18a92a5cf",
            "dcae15847c764e6ea73a474e527252d9",
            "0dd9f2e6d9a44be6945fcd821f15cc92",
            "257f9a01dca048adadd05a4e7e772065",
            "ce1afc6a64ce463ba61d5b048f55cc11",
            "f53418fb676a4b5a9256624a87233529",
            "7f00bf7203154323866f970c45d0fa3f",
            "75462a1fbd0449dbb9aeefdfa0246af9",
            "bf955dc93a8a406aa667a9c6aa8eb1a1",
            "a1cc1a13b5d44579aa7c8c90cc816f77",
            "f8ffeacf098e44c9b7f7de707e645604",
            "8c4e3684fd78437e96a84c5d2f917b61",
            "016fa352584a492c9b3885744476fc60"
          ]
        },
        "id": "7Xrc89hn3IcE",
        "outputId": "51915eb1-8973-408a-a373-fb30e8137dce"
      },
      "execution_count": null,
      "outputs": [
        {
          "output_type": "stream",
          "name": "stderr",
          "text": [
            "INFO:lightning_fabric.utilities.seed:Seed set to 0\n",
            "INFO:pytorch_lightning.utilities.rank_zero:You are using the plain ModelCheckpoint callback. Consider using LitModelCheckpoint which with seamless uploading to Model registry.\n",
            "INFO:pytorch_lightning.utilities.rank_zero:GPU available: True (cuda), used: True\n",
            "INFO:pytorch_lightning.utilities.rank_zero:TPU available: False, using: 0 TPU cores\n",
            "INFO:pytorch_lightning.utilities.rank_zero:HPU available: False, using: 0 HPUs\n",
            "INFO:pytorch_lightning.accelerators.cuda:LOCAL_RANK: 0 - CUDA_VISIBLE_DEVICES: [0]\n",
            "INFO:pytorch_lightning.callbacks.model_summary:\n",
            "  | Name         | Type       | Params | Mode \n",
            "----------------------------------------------------\n",
            "0 | squeeze      | Sequential | 94.2 K | train\n",
            "1 | dilated_conv | Sequential | 69.6 K | train\n",
            "2 | conv         | Conv1d     | 245    | train\n",
            "----------------------------------------------------\n",
            "163 K     Trainable params\n",
            "0         Non-trainable params\n",
            "163 K     Total params\n",
            "0.656     Total estimated model params size (MB)\n",
            "53        Modules in train mode\n",
            "0         Modules in eval mode\n"
          ]
        },
        {
          "output_type": "display_data",
          "data": {
            "text/plain": [
              "Sanity Checking: |          | 0/? [00:00<?, ?it/s]"
            ],
            "application/vnd.jupyter.widget-view+json": {
              "version_major": 2,
              "version_minor": 0,
              "model_id": "daf547c38e1d49889ba9c1d8318ead5a"
            }
          },
          "metadata": {}
        },
        {
          "output_type": "display_data",
          "data": {
            "text/plain": [
              "Training: |          | 0/? [00:00<?, ?it/s]"
            ],
            "application/vnd.jupyter.widget-view+json": {
              "version_major": 2,
              "version_minor": 0,
              "model_id": "08d8c748cf0d4340a8b55aa0a244af75"
            }
          },
          "metadata": {}
        },
        {
          "output_type": "display_data",
          "data": {
            "text/plain": [
              "Validation: |          | 0/? [00:00<?, ?it/s]"
            ],
            "application/vnd.jupyter.widget-view+json": {
              "version_major": 2,
              "version_minor": 0,
              "model_id": "0dd9f2e6d9a44be6945fcd821f15cc92"
            }
          },
          "metadata": {}
        }
      ]
    },
    {
      "cell_type": "code",
      "source": [
        "# テストデータでの検証\n",
        "results = trainer.test(net, test_loader)"
      ],
      "metadata": {
        "id": "66lmTtIN8p7Q"
      },
      "execution_count": null,
      "outputs": []
    },
    {
      "cell_type": "code",
      "source": [
        "%load_ext tensorboard\n",
        "%tensorboard --logdir lightning_logs/"
      ],
      "metadata": {
        "id": "3o3PwhZM8wAF"
      },
      "execution_count": null,
      "outputs": []
    },
    {
      "cell_type": "markdown",
      "source": [
        "## 結果の可視化"
      ],
      "metadata": {
        "id": "5Vp9p1qR9_e6"
      }
    },
    {
      "cell_type": "code",
      "source": [
        "x, t = test[2]"
      ],
      "metadata": {
        "id": "hg23Vfya8_NN"
      },
      "execution_count": null,
      "outputs": []
    },
    {
      "cell_type": "code",
      "source": [
        "net.eval()\n",
        "net.cpu()\n",
        "\n",
        "y = net(x.unsqueeze(0))\n",
        "y = torch.exp(y)"
      ],
      "metadata": {
        "id": "1szk-gRvAfKb"
      },
      "execution_count": null,
      "outputs": []
    },
    {
      "cell_type": "code",
      "source": [
        "y.shape, t.shape"
      ],
      "metadata": {
        "id": "5MvWcDmUAxy5"
      },
      "execution_count": null,
      "outputs": []
    },
    {
      "cell_type": "code",
      "source": [
        "# Numpyに変換\n",
        "y = y.detach().numpy()\n",
        "t = t.detach().numpy()\n",
        "\n",
        "r2_score(t, y)"
      ],
      "metadata": {
        "id": "HAZQSP3qBEnZ"
      },
      "execution_count": null,
      "outputs": []
    },
    {
      "cell_type": "code",
      "source": [
        "# 目標値と予測値の可視化\n",
        "plt.figure(figsize=(24, 9))\n",
        "fig_size=plt.rcParams['figure.figsize']\n",
        "\n",
        "b1 = plt.bar(range(len(t)), t)\n",
        "b2 = plt.bar(range(len(y)), y)\n",
        "\n",
        "plt.legend((b1, b2), ('target', 'prediction'))"
      ],
      "metadata": {
        "id": "TE9h3jCtB0lO"
      },
      "execution_count": null,
      "outputs": []
    },
    {
      "cell_type": "code",
      "source": [],
      "metadata": {
        "id": "GkqqTMq7CmnE"
      },
      "execution_count": null,
      "outputs": []
    }
  ]
}
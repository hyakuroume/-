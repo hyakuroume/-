{
  "nbformat": 4,
  "nbformat_minor": 0,
  "metadata": {
    "colab": {
      "provenance": [],
      "authorship_tag": "ABX9TyObZM2hPxVxV6/Sork/7dh2",
      "include_colab_link": true
    },
    "kernelspec": {
      "name": "python3",
      "display_name": "Python 3"
    },
    "language_info": {
      "name": "python"
    }
  },
  "cells": [
    {
      "cell_type": "markdown",
      "metadata": {
        "id": "view-in-github",
        "colab_type": "text"
      },
      "source": [
        "<a href=\"https://colab.research.google.com/github/hyakuroume/-/blob/main/cobra_tutorial.ipynb\" target=\"_parent\"><img src=\"https://colab.research.google.com/assets/colab-badge.svg\" alt=\"Open In Colab\"/></a>"
      ]
    },
    {
      "cell_type": "markdown",
      "source": [
        "https://cobrapy.readthedocs.io/en/latest/getting_started.html"
      ],
      "metadata": {
        "id": "j5FyyEcyHH6i"
      }
    },
    {
      "cell_type": "code",
      "execution_count": 1,
      "metadata": {
        "colab": {
          "base_uri": "https://localhost:8080/"
        },
        "id": "MRa8nDvzF-Mm",
        "outputId": "a6e12dc5-5a31-4028-8aeb-657cca1a9689"
      },
      "outputs": [
        {
          "output_type": "stream",
          "name": "stdout",
          "text": [
            "Collecting cobra\n",
            "  Downloading cobra-0.29.1-py2.py3-none-any.whl.metadata (9.3 kB)\n",
            "Collecting appdirs~=1.4 (from cobra)\n",
            "  Downloading appdirs-1.4.4-py2.py3-none-any.whl.metadata (9.0 kB)\n",
            "Collecting depinfo~=2.2 (from cobra)\n",
            "  Downloading depinfo-2.2.0-py3-none-any.whl.metadata (3.8 kB)\n",
            "Collecting diskcache~=5.0 (from cobra)\n",
            "  Downloading diskcache-5.6.3-py3-none-any.whl.metadata (20 kB)\n",
            "Requirement already satisfied: future in /usr/local/lib/python3.10/dist-packages (from cobra) (1.0.0)\n",
            "Requirement already satisfied: httpx~=0.24 in /usr/local/lib/python3.10/dist-packages (from cobra) (0.28.1)\n",
            "Requirement already satisfied: importlib-resources in /usr/local/lib/python3.10/dist-packages (from cobra) (6.4.5)\n",
            "Requirement already satisfied: numpy>=1.13 in /usr/local/lib/python3.10/dist-packages (from cobra) (1.26.4)\n",
            "Collecting optlang~=1.8 (from cobra)\n",
            "  Downloading optlang-1.8.2-py2.py3-none-any.whl.metadata (8.1 kB)\n",
            "Requirement already satisfied: pandas<3.0,>=1.0 in /usr/local/lib/python3.10/dist-packages (from cobra) (2.2.2)\n",
            "Requirement already satisfied: pydantic>=1.6 in /usr/local/lib/python3.10/dist-packages (from cobra) (2.10.3)\n",
            "Collecting python-libsbml~=5.19 (from cobra)\n",
            "  Downloading python_libsbml-5.20.4-cp310-cp310-manylinux_2_17_x86_64.manylinux2014_x86_64.whl.metadata (532 bytes)\n",
            "Requirement already satisfied: rich>=8.0 in /usr/local/lib/python3.10/dist-packages (from cobra) (13.9.4)\n",
            "Collecting ruamel.yaml~=0.16 (from cobra)\n",
            "  Downloading ruamel.yaml-0.18.6-py3-none-any.whl.metadata (23 kB)\n",
            "Collecting swiglpk (from cobra)\n",
            "  Downloading swiglpk-5.0.12-cp310-cp310-manylinux_2_17_x86_64.manylinux2014_x86_64.whl.metadata (5.5 kB)\n",
            "Requirement already satisfied: anyio in /usr/local/lib/python3.10/dist-packages (from httpx~=0.24->cobra) (3.7.1)\n",
            "Requirement already satisfied: certifi in /usr/local/lib/python3.10/dist-packages (from httpx~=0.24->cobra) (2024.8.30)\n",
            "Requirement already satisfied: httpcore==1.* in /usr/local/lib/python3.10/dist-packages (from httpx~=0.24->cobra) (1.0.7)\n",
            "Requirement already satisfied: idna in /usr/local/lib/python3.10/dist-packages (from httpx~=0.24->cobra) (3.10)\n",
            "Requirement already satisfied: h11<0.15,>=0.13 in /usr/local/lib/python3.10/dist-packages (from httpcore==1.*->httpx~=0.24->cobra) (0.14.0)\n",
            "Requirement already satisfied: sympy>=1.12.0 in /usr/local/lib/python3.10/dist-packages (from optlang~=1.8->cobra) (1.13.1)\n",
            "Requirement already satisfied: python-dateutil>=2.8.2 in /usr/local/lib/python3.10/dist-packages (from pandas<3.0,>=1.0->cobra) (2.8.2)\n",
            "Requirement already satisfied: pytz>=2020.1 in /usr/local/lib/python3.10/dist-packages (from pandas<3.0,>=1.0->cobra) (2024.2)\n",
            "Requirement already satisfied: tzdata>=2022.7 in /usr/local/lib/python3.10/dist-packages (from pandas<3.0,>=1.0->cobra) (2024.2)\n",
            "Requirement already satisfied: annotated-types>=0.6.0 in /usr/local/lib/python3.10/dist-packages (from pydantic>=1.6->cobra) (0.7.0)\n",
            "Requirement already satisfied: pydantic-core==2.27.1 in /usr/local/lib/python3.10/dist-packages (from pydantic>=1.6->cobra) (2.27.1)\n",
            "Requirement already satisfied: typing-extensions>=4.12.2 in /usr/local/lib/python3.10/dist-packages (from pydantic>=1.6->cobra) (4.12.2)\n",
            "Requirement already satisfied: markdown-it-py>=2.2.0 in /usr/local/lib/python3.10/dist-packages (from rich>=8.0->cobra) (3.0.0)\n",
            "Requirement already satisfied: pygments<3.0.0,>=2.13.0 in /usr/local/lib/python3.10/dist-packages (from rich>=8.0->cobra) (2.18.0)\n",
            "Collecting ruamel.yaml.clib>=0.2.7 (from ruamel.yaml~=0.16->cobra)\n",
            "  Downloading ruamel.yaml.clib-0.2.12-cp310-cp310-manylinux_2_17_x86_64.manylinux2014_x86_64.whl.metadata (2.7 kB)\n",
            "Requirement already satisfied: mdurl~=0.1 in /usr/local/lib/python3.10/dist-packages (from markdown-it-py>=2.2.0->rich>=8.0->cobra) (0.1.2)\n",
            "Requirement already satisfied: six>=1.5 in /usr/local/lib/python3.10/dist-packages (from python-dateutil>=2.8.2->pandas<3.0,>=1.0->cobra) (1.17.0)\n",
            "Requirement already satisfied: mpmath<1.4,>=1.1.0 in /usr/local/lib/python3.10/dist-packages (from sympy>=1.12.0->optlang~=1.8->cobra) (1.3.0)\n",
            "Requirement already satisfied: sniffio>=1.1 in /usr/local/lib/python3.10/dist-packages (from anyio->httpx~=0.24->cobra) (1.3.1)\n",
            "Requirement already satisfied: exceptiongroup in /usr/local/lib/python3.10/dist-packages (from anyio->httpx~=0.24->cobra) (1.2.2)\n",
            "Downloading cobra-0.29.1-py2.py3-none-any.whl (1.2 MB)\n",
            "\u001b[2K   \u001b[90m━━━━━━━━━━━━━━━━━━━━━━━━━━━━━━━━━━━━━━━━\u001b[0m \u001b[32m1.2/1.2 MB\u001b[0m \u001b[31m25.1 MB/s\u001b[0m eta \u001b[36m0:00:00\u001b[0m\n",
            "\u001b[?25hDownloading appdirs-1.4.4-py2.py3-none-any.whl (9.6 kB)\n",
            "Downloading depinfo-2.2.0-py3-none-any.whl (24 kB)\n",
            "Downloading diskcache-5.6.3-py3-none-any.whl (45 kB)\n",
            "\u001b[2K   \u001b[90m━━━━━━━━━━━━━━━━━━━━━━━━━━━━━━━━━━━━━━━━\u001b[0m \u001b[32m45.5/45.5 kB\u001b[0m \u001b[31m1.6 MB/s\u001b[0m eta \u001b[36m0:00:00\u001b[0m\n",
            "\u001b[?25hDownloading optlang-1.8.2-py2.py3-none-any.whl (141 kB)\n",
            "\u001b[2K   \u001b[90m━━━━━━━━━━━━━━━━━━━━━━━━━━━━━━━━━━━━━━━━\u001b[0m \u001b[32m141.8/141.8 kB\u001b[0m \u001b[31m9.6 MB/s\u001b[0m eta \u001b[36m0:00:00\u001b[0m\n",
            "\u001b[?25hDownloading python_libsbml-5.20.4-cp310-cp310-manylinux_2_17_x86_64.manylinux2014_x86_64.whl (8.0 MB)\n",
            "\u001b[2K   \u001b[90m━━━━━━━━━━━━━━━━━━━━━━━━━━━━━━━━━━━━━━━━\u001b[0m \u001b[32m8.0/8.0 MB\u001b[0m \u001b[31m28.8 MB/s\u001b[0m eta \u001b[36m0:00:00\u001b[0m\n",
            "\u001b[?25hDownloading ruamel.yaml-0.18.6-py3-none-any.whl (117 kB)\n",
            "\u001b[2K   \u001b[90m━━━━━━━━━━━━━━━━━━━━━━━━━━━━━━━━━━━━━━━━\u001b[0m \u001b[32m117.8/117.8 kB\u001b[0m \u001b[31m8.5 MB/s\u001b[0m eta \u001b[36m0:00:00\u001b[0m\n",
            "\u001b[?25hDownloading swiglpk-5.0.12-cp310-cp310-manylinux_2_17_x86_64.manylinux2014_x86_64.whl (2.3 MB)\n",
            "\u001b[2K   \u001b[90m━━━━━━━━━━━━━━━━━━━━━━━━━━━━━━━━━━━━━━━━\u001b[0m \u001b[32m2.3/2.3 MB\u001b[0m \u001b[31m26.1 MB/s\u001b[0m eta \u001b[36m0:00:00\u001b[0m\n",
            "\u001b[?25hDownloading ruamel.yaml.clib-0.2.12-cp310-cp310-manylinux_2_17_x86_64.manylinux2014_x86_64.whl (722 kB)\n",
            "\u001b[2K   \u001b[90m━━━━━━━━━━━━━━━━━━━━━━━━━━━━━━━━━━━━━━━━\u001b[0m \u001b[32m722.2/722.2 kB\u001b[0m \u001b[31m27.0 MB/s\u001b[0m eta \u001b[36m0:00:00\u001b[0m\n",
            "\u001b[?25hInstalling collected packages: swiglpk, python-libsbml, appdirs, ruamel.yaml.clib, diskcache, depinfo, ruamel.yaml, optlang, cobra\n",
            "Successfully installed appdirs-1.4.4 cobra-0.29.1 depinfo-2.2.0 diskcache-5.6.3 optlang-1.8.2 python-libsbml-5.20.4 ruamel.yaml-0.18.6 ruamel.yaml.clib-0.2.12 swiglpk-5.0.12\n"
          ]
        }
      ],
      "source": [
        "!pip install cobra"
      ]
    },
    {
      "cell_type": "code",
      "source": [
        "import cobra\n",
        "from cobra.io import load_model"
      ],
      "metadata": {
        "id": "Y5_G1H_cGAIA"
      },
      "execution_count": 2,
      "outputs": []
    },
    {
      "cell_type": "code",
      "source": [
        "model = load_model(\"textbook\")"
      ],
      "metadata": {
        "id": "jMlh1WtWGQAC"
      },
      "execution_count": 5,
      "outputs": []
    },
    {
      "cell_type": "code",
      "source": [
        "model.reactions"
      ],
      "metadata": {
        "colab": {
          "base_uri": "https://localhost:8080/"
        },
        "id": "u6A8R5WnGWbu",
        "outputId": "0af4377b-48b1-48f7-fc22-78d0d2cca93e"
      },
      "execution_count": 6,
      "outputs": [
        {
          "output_type": "execute_result",
          "data": {
            "text/plain": [
              "[<Reaction ACALD at 0x7eeaa8a6b970>,\n",
              " <Reaction ACALDt at 0x7eeaa8a6aad0>,\n",
              " <Reaction ACKr at 0x7eeaa8a68c40>,\n",
              " <Reaction ACONTa at 0x7eeaa93eedd0>,\n",
              " <Reaction ACONTb at 0x7eeaa93efc70>,\n",
              " <Reaction ACt2r at 0x7eeaa93eed10>,\n",
              " <Reaction ADK1 at 0x7eeaa93eef50>,\n",
              " <Reaction AKGDH at 0x7eeaa93eefb0>,\n",
              " <Reaction AKGt2r at 0x7eeaa9203700>,\n",
              " <Reaction ALCD2x at 0x7eeaa92008b0>,\n",
              " <Reaction ATPM at 0x7eeaa92023e0>,\n",
              " <Reaction ATPS4r at 0x7eeaa8a69ae0>,\n",
              " <Reaction Biomass_Ecoli_core at 0x7eeaa8a69ab0>,\n",
              " <Reaction CO2t at 0x7eeaa9201c90>,\n",
              " <Reaction CS at 0x7eeaa9200c40>,\n",
              " <Reaction CYTBD at 0x7eeaa9200040>,\n",
              " <Reaction D_LACt2 at 0x7eeaa91d29b0>,\n",
              " <Reaction ENO at 0x7eeaa91d1a20>,\n",
              " <Reaction ETOHt2r at 0x7eeaa91d27a0>,\n",
              " <Reaction EX_ac_e at 0x7eeaa9202080>,\n",
              " <Reaction EX_acald_e at 0x7eeaa9201de0>,\n",
              " <Reaction EX_akg_e at 0x7eeaa92038b0>,\n",
              " <Reaction EX_co2_e at 0x7eeaa92038e0>,\n",
              " <Reaction EX_etoh_e at 0x7eeaa8a2ca30>,\n",
              " <Reaction EX_for_e at 0x7eeaa8a2c910>,\n",
              " <Reaction EX_fru_e at 0x7eeaa8a2c4f0>,\n",
              " <Reaction EX_fum_e at 0x7eeaa8a2c3d0>,\n",
              " <Reaction EX_glc__D_e at 0x7eeaa8a2c2b0>,\n",
              " <Reaction EX_gln__L_e at 0x7eeaa8a2c5e0>,\n",
              " <Reaction EX_glu__L_e at 0x7eeaa8a2c700>,\n",
              " <Reaction EX_h_e at 0x7eeaa8a2c820>,\n",
              " <Reaction EX_h2o_e at 0x7eeaa8a2d1e0>,\n",
              " <Reaction EX_lac__D_e at 0x7eeaa8a2d300>,\n",
              " <Reaction EX_mal__L_e at 0x7eeaa8a2d420>,\n",
              " <Reaction EX_nh4_e at 0x7eeaa8a2d540>,\n",
              " <Reaction EX_o2_e at 0x7eeaa8a2d660>,\n",
              " <Reaction EX_pi_e at 0x7eeaa8a2d780>,\n",
              " <Reaction EX_pyr_e at 0x7eeaa8a2d8a0>,\n",
              " <Reaction EX_succ_e at 0x7eeaa8a2d9c0>,\n",
              " <Reaction FBA at 0x7eeaa8a2dae0>,\n",
              " <Reaction FBP at 0x7eeaa8a2dc00>,\n",
              " <Reaction FORt2 at 0x7eeaa8a2ec20>,\n",
              " <Reaction FORti at 0x7eeaa8a2ee30>,\n",
              " <Reaction FRD7 at 0x7eeaa8a2e230>,\n",
              " <Reaction FRUpts2 at 0x7eeaa8a2fcd0>,\n",
              " <Reaction FUM at 0x7eeaa8a2f640>,\n",
              " <Reaction FUMt2_2 at 0x7eeaa8a2f340>,\n",
              " <Reaction G6PDH2r at 0x7eeaa9203bb0>,\n",
              " <Reaction GAPD at 0x7eeaa894dbd0>,\n",
              " <Reaction GLCpts at 0x7eeaa894f3d0>,\n",
              " <Reaction GLNS at 0x7eeaa894ec20>,\n",
              " <Reaction GLNabc at 0x7eeaa7dbd030>,\n",
              " <Reaction GLUDy at 0x7eeaa7dbc9a0>,\n",
              " <Reaction GLUN at 0x7eeaa7dbdae0>,\n",
              " <Reaction GLUSy at 0x7eeaa7dbcdc0>,\n",
              " <Reaction GLUt2r at 0x7eeaa7dbe500>,\n",
              " <Reaction GND at 0x7eeaa7dbe710>,\n",
              " <Reaction H2Ot at 0x7eeaa7dbe4a0>,\n",
              " <Reaction ICDHyr at 0x7eeaa7dbeef0>,\n",
              " <Reaction ICL at 0x7eeaa7dbf400>,\n",
              " <Reaction LDH_D at 0x7eeaa7dbf430>,\n",
              " <Reaction MALS at 0x7eeaa7dbf7f0>,\n",
              " <Reaction MALt2_2 at 0x7eeaa7dbfe50>,\n",
              " <Reaction MDH at 0x7eeaa7ddc6d0>,\n",
              " <Reaction ME1 at 0x7eeaa7ddc250>,\n",
              " <Reaction ME2 at 0x7eeaa7ddcc10>,\n",
              " <Reaction NADH16 at 0x7eeaa7ddd030>,\n",
              " <Reaction NADTRHD at 0x7eeaa7ddd450>,\n",
              " <Reaction NH4t at 0x7eeaa7dde410>,\n",
              " <Reaction O2t at 0x7eeaa7dddf30>,\n",
              " <Reaction PDH at 0x7eeaa7dddc30>,\n",
              " <Reaction PFK at 0x7eeaa7ddde10>,\n",
              " <Reaction PFL at 0x7eeaa7ddf2e0>,\n",
              " <Reaction PGI at 0x7eeaa7ddf4f0>,\n",
              " <Reaction PGK at 0x7eeaa7ddf160>,\n",
              " <Reaction PGL at 0x7eeaa7ddfb80>,\n",
              " <Reaction PGM at 0x7eeaa7ddf7c0>,\n",
              " <Reaction PIt2r at 0x7eeaa7ddeda0>,\n",
              " <Reaction PPC at 0x7eeaa7dfce50>,\n",
              " <Reaction PPCK at 0x7eeaa7dfd060>,\n",
              " <Reaction PPS at 0x7eeaa7dfcdf0>,\n",
              " <Reaction PTAr at 0x7eeaa7dfd840>,\n",
              " <Reaction PYK at 0x7eeaa7dfd390>,\n",
              " <Reaction PYRt2 at 0x7eeaa7dfe3b0>,\n",
              " <Reaction RPE at 0x7eeaa7dbfb50>,\n",
              " <Reaction RPI at 0x7eeaa7ddfdc0>,\n",
              " <Reaction SUCCt2_2 at 0x7eeaa7dfef50>,\n",
              " <Reaction SUCCt3 at 0x7eeaa7dff250>,\n",
              " <Reaction SUCDi at 0x7eeaa7dfebf0>,\n",
              " <Reaction SUCOAS at 0x7eeaa7dff310>,\n",
              " <Reaction TALA at 0x7eeaa7dfff40>,\n",
              " <Reaction THD2 at 0x7eeaa7dfff10>,\n",
              " <Reaction TKT1 at 0x7eeaa7e24730>,\n",
              " <Reaction TKT2 at 0x7eeaa7e24bb0>,\n",
              " <Reaction TPI at 0x7eeaa7e25150>]"
            ]
          },
          "metadata": {},
          "execution_count": 6
        }
      ]
    },
    {
      "cell_type": "code",
      "source": [
        "len(model.reactions)"
      ],
      "metadata": {
        "colab": {
          "base_uri": "https://localhost:8080/"
        },
        "id": "JcEc0AQVGerJ",
        "outputId": "802e6828-2c16-4eb2-a3f8-22190d82b7fd"
      },
      "execution_count": 9,
      "outputs": [
        {
          "output_type": "execute_result",
          "data": {
            "text/plain": [
              "95"
            ]
          },
          "metadata": {},
          "execution_count": 9
        }
      ]
    },
    {
      "cell_type": "code",
      "source": [
        "model.metabolites"
      ],
      "metadata": {
        "colab": {
          "base_uri": "https://localhost:8080/"
        },
        "id": "WL2xmG_1Ghnz",
        "outputId": "accb5c48-fbca-4a02-9c1f-a375f1ccd9c3"
      },
      "execution_count": 11,
      "outputs": [
        {
          "output_type": "execute_result",
          "data": {
            "text/plain": [
              "[<Metabolite 13dpg_c at 0x7eeaa8bd2230>,\n",
              " <Metabolite 2pg_c at 0x7eeaa8a69330>,\n",
              " <Metabolite 3pg_c at 0x7eeaa8a692d0>,\n",
              " <Metabolite 6pgc_c at 0x7eeaa8a6b5e0>,\n",
              " <Metabolite 6pgl_c at 0x7eeaa8a68550>,\n",
              " <Metabolite ac_c at 0x7eeaa8a68310>,\n",
              " <Metabolite ac_e at 0x7eeaa8a69060>,\n",
              " <Metabolite acald_c at 0x7eeaa8a690c0>,\n",
              " <Metabolite acald_e at 0x7eeaa8a69210>,\n",
              " <Metabolite accoa_c at 0x7eeaa8a69150>,\n",
              " <Metabolite acon_C_c at 0x7eeaa8a691e0>,\n",
              " <Metabolite actp_c at 0x7eeaa8a69180>,\n",
              " <Metabolite adp_c at 0x7eeaa8a691b0>,\n",
              " <Metabolite akg_c at 0x7eeaa8a68370>,\n",
              " <Metabolite akg_e at 0x7eeaa8a68160>,\n",
              " <Metabolite amp_c at 0x7eeaa8a68250>,\n",
              " <Metabolite atp_c at 0x7eeaa8a682b0>,\n",
              " <Metabolite cit_c at 0x7eeaa8a68190>,\n",
              " <Metabolite co2_c at 0x7eeaa8a681f0>,\n",
              " <Metabolite co2_e at 0x7eeaa8a68580>,\n",
              " <Metabolite coa_c at 0x7eeaa8a685e0>,\n",
              " <Metabolite dhap_c at 0x7eeaa8a68130>,\n",
              " <Metabolite e4p_c at 0x7eeaa8a681c0>,\n",
              " <Metabolite etoh_c at 0x7eeaa8a68280>,\n",
              " <Metabolite etoh_e at 0x7eeaa8a68640>,\n",
              " <Metabolite f6p_c at 0x7eeaa8a68670>,\n",
              " <Metabolite fdp_c at 0x7eeaa8a686a0>,\n",
              " <Metabolite for_c at 0x7eeaa8a68760>,\n",
              " <Metabolite for_e at 0x7eeaa8a687c0>,\n",
              " <Metabolite fru_e at 0x7eeaa8a68610>,\n",
              " <Metabolite fum_c at 0x7eeaa8a685b0>,\n",
              " <Metabolite fum_e at 0x7eeaa89a04f0>,\n",
              " <Metabolite g3p_c at 0x7eeaa89a03a0>,\n",
              " <Metabolite g6p_c at 0x7eeaa89a08b0>,\n",
              " <Metabolite glc__D_e at 0x7eeaa89a0670>,\n",
              " <Metabolite gln__L_c at 0x7eeaa89a0640>,\n",
              " <Metabolite gln__L_e at 0x7eeaa89a3e80>,\n",
              " <Metabolite glu__L_c at 0x7eeaa8a16380>,\n",
              " <Metabolite glu__L_e at 0x7eeaa89a0070>,\n",
              " <Metabolite glx_c at 0x7eeaa8a17010>,\n",
              " <Metabolite h2o_c at 0x7eeaa89a0d90>,\n",
              " <Metabolite h2o_e at 0x7eeaa8a14ca0>,\n",
              " <Metabolite h_c at 0x7eeaa8a16440>,\n",
              " <Metabolite h_e at 0x7eeaa8a16500>,\n",
              " <Metabolite icit_c at 0x7eeaa8a165f0>,\n",
              " <Metabolite lac__D_c at 0x7eeaa8a165c0>,\n",
              " <Metabolite lac__D_e at 0x7eeaa8a14be0>,\n",
              " <Metabolite mal__L_c at 0x7eeaa8a694e0>,\n",
              " <Metabolite mal__L_e at 0x7eeaa8a68910>,\n",
              " <Metabolite nad_c at 0x7eeaa8a69480>,\n",
              " <Metabolite nadh_c at 0x7eeaa8a69360>,\n",
              " <Metabolite nadp_c at 0x7eeaa8a69420>,\n",
              " <Metabolite nadph_c at 0x7eeaa8a693f0>,\n",
              " <Metabolite nh4_c at 0x7eeaa8a693c0>,\n",
              " <Metabolite nh4_e at 0x7eeaa8a69450>,\n",
              " <Metabolite o2_c at 0x7eeaa8a694b0>,\n",
              " <Metabolite o2_e at 0x7eeaa8a68790>,\n",
              " <Metabolite oaa_c at 0x7eeaa8a68a00>,\n",
              " <Metabolite pep_c at 0x7eeaa8a686d0>,\n",
              " <Metabolite pi_c at 0x7eeaa8a688e0>,\n",
              " <Metabolite pi_e at 0x7eeaa8a68700>,\n",
              " <Metabolite pyr_c at 0x7eeaa8a68730>,\n",
              " <Metabolite pyr_e at 0x7eeaa8a687f0>,\n",
              " <Metabolite q8_c at 0x7eeaa8a68850>,\n",
              " <Metabolite q8h2_c at 0x7eeaa8a688b0>,\n",
              " <Metabolite r5p_c at 0x7eeaa8a68880>,\n",
              " <Metabolite ru5p__D_c at 0x7eeaa8a6bf10>,\n",
              " <Metabolite s7p_c at 0x7eeaa8a6bf40>,\n",
              " <Metabolite succ_c at 0x7eeaa8a6bfd0>,\n",
              " <Metabolite succ_e at 0x7eeaa8a6bee0>,\n",
              " <Metabolite succoa_c at 0x7eeaa8a6a830>,\n",
              " <Metabolite xu5p__D_c at 0x7eeaa8a6a8c0>]"
            ]
          },
          "metadata": {},
          "execution_count": 11
        }
      ]
    },
    {
      "cell_type": "code",
      "source": [
        "len(model.metabolites)"
      ],
      "metadata": {
        "colab": {
          "base_uri": "https://localhost:8080/"
        },
        "id": "3OHpq2dsGowE",
        "outputId": "8071632e-37bd-46c9-cdf0-60001b5cb5df"
      },
      "execution_count": 12,
      "outputs": [
        {
          "output_type": "execute_result",
          "data": {
            "text/plain": [
              "72"
            ]
          },
          "metadata": {},
          "execution_count": 12
        }
      ]
    },
    {
      "cell_type": "code",
      "source": [
        "model.genes"
      ],
      "metadata": {
        "colab": {
          "base_uri": "https://localhost:8080/"
        },
        "id": "SKSNyDKLGvzx",
        "outputId": "3657cc3e-10cf-4aa8-ee28-45c43f496032"
      },
      "execution_count": 13,
      "outputs": [
        {
          "output_type": "execute_result",
          "data": {
            "text/plain": [
              "[<Gene b1241 at 0x7eeaa8a6b940>,\n",
              " <Gene b0351 at 0x7eeaa8a6b880>,\n",
              " <Gene s0001 at 0x7eeaa8a6b8e0>,\n",
              " <Gene b3115 at 0x7eeaa8a6b910>,\n",
              " <Gene b1849 at 0x7eeaa8a6b850>,\n",
              " <Gene b2296 at 0x7eeaa8a6b8b0>,\n",
              " <Gene b1276 at 0x7eeaa8a6bd00>,\n",
              " <Gene b0118 at 0x7eeaa8a6bd30>,\n",
              " <Gene b0474 at 0x7eeaa8a6bc70>,\n",
              " <Gene b0116 at 0x7eeaa8a6b7f0>,\n",
              " <Gene b0726 at 0x7eeaa8a6be20>,\n",
              " <Gene b0727 at 0x7eeaa8a6bc10>,\n",
              " <Gene b2587 at 0x7eeaa8a6bd90>,\n",
              " <Gene b0356 at 0x7eeaa8a6bca0>,\n",
              " <Gene b1478 at 0x7eeaa8a6b9a0>,\n",
              " <Gene b3735 at 0x7eeaa8a6bcd0>,\n",
              " <Gene b3733 at 0x7eeaa8a6bc40>,\n",
              " <Gene b3734 at 0x7eeaa8a6baf0>,\n",
              " <Gene b3732 at 0x7eeaa8a6bb20>,\n",
              " <Gene b3736 at 0x7eeaa8a6bdc0>,\n",
              " <Gene b3738 at 0x7eeaa8a6bb80>,\n",
              " <Gene b3731 at 0x7eeaa8a6bd60>,\n",
              " <Gene b3737 at 0x7eeaa8a6bbe0>,\n",
              " <Gene b3739 at 0x7eeaa8a6ba90>,\n",
              " <Gene b0720 at 0x7eeaa8a6bb50>,\n",
              " <Gene b0733 at 0x7eeaa8a6bbb0>,\n",
              " <Gene b0979 at 0x7eeaa8a6bac0>,\n",
              " <Gene b0978 at 0x7eeaa8a6ba60>,\n",
              " <Gene b0734 at 0x7eeaa8a695a0>,\n",
              " <Gene b2975 at 0x7eeaa8a68d00>,\n",
              " <Gene b3603 at 0x7eeaa8a69540>,\n",
              " <Gene b2779 at 0x7eeaa8a69600>,\n",
              " <Gene b1773 at 0x7eeaa8a68cd0>,\n",
              " <Gene b2925 at 0x7eeaa8a68ca0>,\n",
              " <Gene b2097 at 0x7eeaa8a697e0>,\n",
              " <Gene b4232 at 0x7eeaa8a69570>,\n",
              " <Gene b3925 at 0x7eeaa8a69510>,\n",
              " <Gene b0904 at 0x7eeaa8a69e10>,\n",
              " <Gene b2492 at 0x7eeaa8a695d0>,\n",
              " <Gene b4154 at 0x7eeaa8a6b130>,\n",
              " <Gene b4152 at 0x7eeaa8a69db0>,\n",
              " <Gene b4153 at 0x7eeaa8a69030>,\n",
              " <Gene b4151 at 0x7eeaa8a6ab90>,\n",
              " <Gene b1819 at 0x7eeaa8a697b0>,\n",
              " <Gene b1817 at 0x7eeaa8a69ed0>,\n",
              " <Gene b2415 at 0x7eeaa8a69780>,\n",
              " <Gene b1818 at 0x7eeaa8a69ea0>,\n",
              " <Gene b2416 at 0x7eeaa8a6b640>,\n",
              " <Gene b1611 at 0x7eeaa8a6a9b0>,\n",
              " <Gene b4122 at 0x7eeaa8a68d30>,\n",
              " <Gene b1612 at 0x7eeaa8a6ab30>,\n",
              " <Gene b3528 at 0x7eeaa8a6aa40>,\n",
              " <Gene b1852 at 0x7eeaa8a6ab60>,\n",
              " <Gene b1779 at 0x7eeaa8a69de0>,\n",
              " <Gene b1621 at 0x7eeaa8a6b250>,\n",
              " <Gene b1101 at 0x7eeaa8a69e40>,\n",
              " <Gene b2417 at 0x7eeaa8a6be50>,\n",
              " <Gene b3870 at 0x7eeaa8a6aa70>,\n",
              " <Gene b1297 at 0x7eeaa8a6b3a0>,\n",
              " <Gene b0809 at 0x7eeaa8a69c30>,\n",
              " <Gene b0810 at 0x7eeaa8a69bd0>,\n",
              " <Gene b0811 at 0x7eeaa8a69cf0>,\n",
              " <Gene b1761 at 0x7eeaa8a6aa10>,\n",
              " <Gene b1524 at 0x7eeaa8a69c60>,\n",
              " <Gene b1812 at 0x7eeaa8a6aaa0>,\n",
              " <Gene b0485 at 0x7eeaa8a699c0>,\n",
              " <Gene b3213 at 0x7eeaa8a69ba0>,\n",
              " <Gene b3212 at 0x7eeaa8a69d80>,\n",
              " <Gene b4077 at 0x7eeaa8a6b3d0>,\n",
              " <Gene b2029 at 0x7eeaa8a68c70>,\n",
              " <Gene b0875 at 0x7eeaa8a699f0>,\n",
              " <Gene b1136 at 0x7eeaa8a69b10>,\n",
              " <Gene b4015 at 0x7eeaa8a69cc0>,\n",
              " <Gene b2133 at 0x7eeaa8a68e50>,\n",
              " <Gene b1380 at 0x7eeaa8a6ab00>,\n",
              " <Gene b4014 at 0x7eeaa8a69c00>,\n",
              " <Gene b2976 at 0x7eeaa8a69f30>,\n",
              " <Gene b3236 at 0x7eeaa8a69990>,\n",
              " <Gene b1479 at 0x7eeaa8a69960>,\n",
              " <Gene b2463 at 0x7eeaa8a69c90>,\n",
              " <Gene b2286 at 0x7eeaa8a6b0a0>,\n",
              " <Gene b2279 at 0x7eeaa8a69a50>,\n",
              " <Gene b2276 at 0x7eeaa8a6b0d0>,\n",
              " <Gene b2280 at 0x7eeaa8a6b100>,\n",
              " <Gene b2288 at 0x7eeaa8a6b070>,\n",
              " <Gene b2284 at 0x7eeaa8a6b010>,\n",
              " <Gene b2287 at 0x7eeaa8a6b400>,\n",
              " <Gene b2281 at 0x7eeaa8a6a920>,\n",
              " <Gene b2277 at 0x7eeaa8a6b430>,\n",
              " <Gene b2285 at 0x7eeaa8a6a950>,\n",
              " <Gene b2282 at 0x7eeaa8a6b460>,\n",
              " <Gene b2278 at 0x7eeaa8a6b4c0>,\n",
              " <Gene b2283 at 0x7eeaa8a6a980>,\n",
              " <Gene b3962 at 0x7eeaa8a680d0>,\n",
              " <Gene b1602 at 0x7eeaa8a68460>,\n",
              " <Gene b1603 at 0x7eeaa8a6a9e0>,\n",
              " <Gene b0451 at 0x7eeaa8a6ada0>,\n",
              " <Gene b0114 at 0x7eeaa8a6ae60>,\n",
              " <Gene b0115 at 0x7eeaa8a6ad40>,\n",
              " <Gene b3916 at 0x7eeaa8a69a20>,\n",
              " <Gene b1723 at 0x7eeaa8a6b040>,\n",
              " <Gene b0902 at 0x7eeaa8a689d0>,\n",
              " <Gene b0903 at 0x7eeaa8a689a0>,\n",
              " <Gene b2579 at 0x7eeaa8a6ad10>,\n",
              " <Gene b3114 at 0x7eeaa8a6ac20>,\n",
              " <Gene b3952 at 0x7eeaa8a6ae30>,\n",
              " <Gene b3951 at 0x7eeaa8a6add0>,\n",
              " <Gene b4025 at 0x7eeaa8a6b370>,\n",
              " <Gene b2926 at 0x7eeaa8a68820>,\n",
              " <Gene b0767 at 0x7eeaa8a6b160>,\n",
              " <Gene b0755 at 0x7eeaa8a6beb0>,\n",
              " <Gene b3612 at 0x7eeaa8a69d50>,\n",
              " <Gene b4395 at 0x7eeaa8a68940>,\n",
              " <Gene b3493 at 0x7eeaa8a6ac50>,\n",
              " <Gene b2987 at 0x7eeaa8a6a230>,\n",
              " <Gene b3956 at 0x7eeaa8a6bf70>,\n",
              " <Gene b3403 at 0x7eeaa8a6bfa0>,\n",
              " <Gene b1702 at 0x7eeaa8a6be80>,\n",
              " <Gene b2297 at 0x7eeaa8a68bb0>,\n",
              " <Gene b2458 at 0x7eeaa8a68c10>,\n",
              " <Gene b1676 at 0x7eeaa8a68070>,\n",
              " <Gene b1854 at 0x7eeaa8a6afe0>,\n",
              " <Gene b4301 at 0x7eeaa8a6afb0>,\n",
              " <Gene b3386 at 0x7eeaa8a69f60>,\n",
              " <Gene b2914 at 0x7eeaa8a69b70>,\n",
              " <Gene b4090 at 0x7eeaa8a6acb0>,\n",
              " <Gene b0722 at 0x7eeaa8a6af20>,\n",
              " <Gene b0724 at 0x7eeaa8a69e70>,\n",
              " <Gene b0721 at 0x7eeaa8a6ae90>,\n",
              " <Gene b0723 at 0x7eeaa8a6ae00>,\n",
              " <Gene b0728 at 0x7eeaa8a68be0>,\n",
              " <Gene b0729 at 0x7eeaa8a6aef0>,\n",
              " <Gene b2464 at 0x7eeaa8a6a0e0>,\n",
              " <Gene b0008 at 0x7eeaa8a6ac80>,\n",
              " <Gene b2935 at 0x7eeaa8a68dc0>,\n",
              " <Gene b2465 at 0x7eeaa8a68df0>,\n",
              " <Gene b3919 at 0x7eeaa8a6af80>]"
            ]
          },
          "metadata": {},
          "execution_count": 13
        }
      ]
    },
    {
      "cell_type": "code",
      "source": [
        "len(model.genes)"
      ],
      "metadata": {
        "colab": {
          "base_uri": "https://localhost:8080/"
        },
        "id": "xcZ5kPOQGyFD",
        "outputId": "06644ada-7d7b-4e45-f11e-62341767c314"
      },
      "execution_count": 14,
      "outputs": [
        {
          "output_type": "execute_result",
          "data": {
            "text/plain": [
              "137"
            ]
          },
          "metadata": {},
          "execution_count": 14
        }
      ]
    },
    {
      "cell_type": "code",
      "source": [
        "model"
      ],
      "metadata": {
        "colab": {
          "base_uri": "https://localhost:8080/",
          "height": 190
        },
        "id": "xnNeM_nkG0xw",
        "outputId": "f1561640-4524-40ab-f0bb-f2707140cfa8"
      },
      "execution_count": 15,
      "outputs": [
        {
          "output_type": "execute_result",
          "data": {
            "text/plain": [
              "<Model e_coli_core at 0x7eeaa8bd0a60>"
            ],
            "text/html": [
              "\n",
              "        <table>\n",
              "            <tr>\n",
              "                <td><strong>Name</strong></td>\n",
              "                <td>e_coli_core</td>\n",
              "            </tr><tr>\n",
              "                <td><strong>Memory address</strong></td>\n",
              "                <td>7eeaa8bd0a60</td>\n",
              "            </tr><tr>\n",
              "                <td><strong>Number of metabolites</strong></td>\n",
              "                <td>72</td>\n",
              "            </tr><tr>\n",
              "                <td><strong>Number of reactions</strong></td>\n",
              "                <td>95</td>\n",
              "            </tr><tr>\n",
              "                <td><strong>Number of genes</strong></td>\n",
              "                <td>137</td>\n",
              "            </tr><tr>\n",
              "                <td><strong>Number of groups</strong></td>\n",
              "                <td>0</td>\n",
              "            </tr><tr>\n",
              "                <td><strong>Objective expression</strong></td>\n",
              "                <td>1.0*Biomass_Ecoli_core - 1.0*Biomass_Ecoli_core_reverse_2cdba</td>\n",
              "            </tr><tr>\n",
              "                <td><strong>Compartments</strong></td>\n",
              "                <td>cytosol, extracellular</td>\n",
              "            </tr>\n",
              "          </table>"
            ]
          },
          "metadata": {},
          "execution_count": 15
        }
      ]
    },
    {
      "cell_type": "code",
      "source": [
        "model.reactions[29]"
      ],
      "metadata": {
        "colab": {
          "base_uri": "https://localhost:8080/",
          "height": 204
        },
        "id": "IjEmfuHcG37L",
        "outputId": "bfd13279-63e1-460a-8feb-735d1055298c"
      },
      "execution_count": 16,
      "outputs": [
        {
          "output_type": "execute_result",
          "data": {
            "text/plain": [
              "<Reaction EX_glu__L_e at 0x7eeaa8a2c700>"
            ],
            "text/html": [
              "\n",
              "        <table>\n",
              "            <tr>\n",
              "                <td><strong>Reaction identifier</strong></td><td>EX_glu__L_e</td>\n",
              "            </tr><tr>\n",
              "                <td><strong>Name</strong></td><td>L-Glutamate exchange</td>\n",
              "            </tr><tr>\n",
              "                <td><strong>Memory address</strong></td>\n",
              "                <td>0x7eeaa8a2c700</td>\n",
              "            </tr><tr>\n",
              "                <td><strong>Stoichiometry</strong></td>\n",
              "                <td>\n",
              "                    <p style='text-align:right'>glu__L_e --></p>\n",
              "                    <p style='text-align:right'>L-Glutamate --></p>\n",
              "                </td>\n",
              "            </tr><tr>\n",
              "                <td><strong>GPR</strong></td><td></td>\n",
              "            </tr><tr>\n",
              "                <td><strong>Lower bound</strong></td><td>0.0</td>\n",
              "            </tr><tr>\n",
              "                <td><strong>Upper bound</strong></td><td>1000.0</td>\n",
              "            </tr>\n",
              "        </table>\n",
              "        "
            ]
          },
          "metadata": {},
          "execution_count": 16
        }
      ]
    },
    {
      "cell_type": "code",
      "source": [],
      "metadata": {
        "id": "MlNnOKwOG-Rw"
      },
      "execution_count": null,
      "outputs": []
    }
  ]
}
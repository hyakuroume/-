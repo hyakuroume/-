{
  "nbformat": 4,
  "nbformat_minor": 0,
  "metadata": {
    "colab": {
      "provenance": [],
      "authorship_tag": "ABX9TyPlu0ozAMSaGm/ySwo9OZF5",
      "include_colab_link": true
    },
    "kernelspec": {
      "name": "python3",
      "display_name": "Python 3"
    },
    "language_info": {
      "name": "python"
    }
  },
  "cells": [
    {
      "cell_type": "markdown",
      "metadata": {
        "id": "view-in-github",
        "colab_type": "text"
      },
      "source": [
        "<a href=\"https://colab.research.google.com/github/hyakuroume/-/blob/main/NumPy_%E3%81%A7NN%E5%AE%9F%E8%A3%85.ipynb\" target=\"_parent\"><img src=\"https://colab.research.google.com/assets/colab-badge.svg\" alt=\"Open In Colab\"/></a>"
      ]
    },
    {
      "cell_type": "code",
      "execution_count": 1,
      "metadata": {
        "id": "Ljz6HYidgml4"
      },
      "outputs": [],
      "source": [
        "import numpy as np"
      ]
    },
    {
      "cell_type": "code",
      "source": [
        "# 重み 2行3列\n",
        "np.random.seed(1)\n",
        "W1 = np.random.randn(2, 3)\n",
        "W1"
      ],
      "metadata": {
        "colab": {
          "base_uri": "https://localhost:8080/"
        },
        "id": "QXgnAwlugoI4",
        "outputId": "f5a41a5f-dbbd-471b-8a9d-fb6cbc5a67c0"
      },
      "execution_count": 2,
      "outputs": [
        {
          "output_type": "execute_result",
          "data": {
            "text/plain": [
              "array([[ 1.62434536, -0.61175641, -0.52817175],\n",
              "       [-1.07296862,  0.86540763, -2.3015387 ]])"
            ]
          },
          "metadata": {},
          "execution_count": 2
        }
      ]
    },
    {
      "cell_type": "code",
      "source": [
        "# バイアス\n",
        "b1 = np.random.randn(3)\n",
        "b1"
      ],
      "metadata": {
        "colab": {
          "base_uri": "https://localhost:8080/"
        },
        "id": "JcavirRugyax",
        "outputId": "7ee1ca6b-a4c7-4ba4-bb16-f0c337dc9faf"
      },
      "execution_count": 3,
      "outputs": [
        {
          "output_type": "execute_result",
          "data": {
            "text/plain": [
              "array([ 1.74481176, -0.7612069 ,  0.3190391 ])"
            ]
          },
          "metadata": {},
          "execution_count": 3
        }
      ]
    },
    {
      "cell_type": "code",
      "source": [
        "# サンプル数10, 入力変数２\n",
        "X = np.random.randn(10,2)\n",
        "X"
      ],
      "metadata": {
        "colab": {
          "base_uri": "https://localhost:8080/"
        },
        "id": "fzWTkUnKhHQd",
        "outputId": "31e111f9-2de1-4bf3-b6a6-8d68ed8be9f7"
      },
      "execution_count": 4,
      "outputs": [
        {
          "output_type": "execute_result",
          "data": {
            "text/plain": [
              "array([[-0.24937038,  1.46210794],\n",
              "       [-2.06014071, -0.3224172 ],\n",
              "       [-0.38405435,  1.13376944],\n",
              "       [-1.09989127, -0.17242821],\n",
              "       [-0.87785842,  0.04221375],\n",
              "       [ 0.58281521, -1.10061918],\n",
              "       [ 1.14472371,  0.90159072],\n",
              "       [ 0.50249434,  0.90085595],\n",
              "       [-0.68372786, -0.12289023],\n",
              "       [-0.93576943, -0.26788808]])"
            ]
          },
          "metadata": {},
          "execution_count": 4
        }
      ]
    },
    {
      "cell_type": "code",
      "source": [
        "X.shape"
      ],
      "metadata": {
        "id": "hvVteBx-hXjG",
        "colab": {
          "base_uri": "https://localhost:8080/"
        },
        "outputId": "d7939eb6-5221-4668-fb0c-c7cfe04c1ea3"
      },
      "execution_count": 5,
      "outputs": [
        {
          "output_type": "execute_result",
          "data": {
            "text/plain": [
              "(10, 2)"
            ]
          },
          "metadata": {},
          "execution_count": 5
        }
      ]
    },
    {
      "cell_type": "code",
      "source": [
        "W1.shape"
      ],
      "metadata": {
        "colab": {
          "base_uri": "https://localhost:8080/"
        },
        "id": "kz05Qagizhdf",
        "outputId": "ba5eb280-1fa2-4ce7-c519-45728f7b20e7"
      },
      "execution_count": 6,
      "outputs": [
        {
          "output_type": "execute_result",
          "data": {
            "text/plain": [
              "(2, 3)"
            ]
          },
          "metadata": {},
          "execution_count": 6
        }
      ]
    },
    {
      "cell_type": "code",
      "source": [
        "\n",
        "u1 = np.dot(X, W1) + b1\n",
        "u1"
      ],
      "metadata": {
        "colab": {
          "base_uri": "https://localhost:8080/"
        },
        "id": "DwcF447fziOy",
        "outputId": "0a5f4387-102c-4fe1-8c19-0e2841b59033"
      },
      "execution_count": 7,
      "outputs": [
        {
          "output_type": "execute_result",
          "data": {
            "text/plain": [
              "array([[-0.22904779,  0.65666639, -2.91434851],\n",
              "       [-1.2556247 ,  0.22007508,  2.1492029 ],\n",
              "       [-0.09552418,  0.45491354, -2.08752849],\n",
              "       [ 0.14321854, -0.23756205,  1.29682079],\n",
              "       [ 0.27357249, -0.18763928,  0.68554254],\n",
              "       [ 3.8724348 , -2.07023208,  2.54433019],\n",
              "       [ 2.63685986, -0.68125548, -2.36061756],\n",
              "       [ 1.59444595, -0.28900342, -2.01971905],\n",
              "       [ 0.76605894, -0.44928214,  0.96300145],\n",
              "       [ 0.51223453, -0.42057634,  1.42984086]])"
            ]
          },
          "metadata": {},
          "execution_count": 7
        }
      ]
    },
    {
      "cell_type": "code",
      "source": [
        "u1.shape"
      ],
      "metadata": {
        "colab": {
          "base_uri": "https://localhost:8080/"
        },
        "id": "NdwThOC-zx9K",
        "outputId": "19ad7266-60bf-4f5f-e7f3-d46ba5661670"
      },
      "execution_count": 8,
      "outputs": [
        {
          "output_type": "execute_result",
          "data": {
            "text/plain": [
              "(10, 3)"
            ]
          },
          "metadata": {},
          "execution_count": 8
        }
      ]
    },
    {
      "cell_type": "markdown",
      "source": [
        "シグモイド関数\n",
        "$$f(x)= \\frac{x}{1+e^{-x}} $$"
      ],
      "metadata": {
        "id": "fzjTCl_z__yr"
      }
    },
    {
      "cell_type": "code",
      "source": [
        "def sigmoid(x):\n",
        "    return 1 / (1 + np.exp(-x))"
      ],
      "metadata": {
        "id": "003smTA3z3Bz"
      },
      "execution_count": 9,
      "outputs": []
    },
    {
      "cell_type": "code",
      "source": [
        "sigmoid(u1)"
      ],
      "metadata": {
        "colab": {
          "base_uri": "https://localhost:8080/"
        },
        "id": "H_fzRzg70KMU",
        "outputId": "e6771a88-f23b-43e7-d153-d60a37488cca"
      },
      "execution_count": 10,
      "outputs": [
        {
          "output_type": "execute_result",
          "data": {
            "text/plain": [
              "array([[0.44298709, 0.65851114, 0.05144881],\n",
              "       [0.22172799, 0.55479778, 0.89559427],\n",
              "       [0.4761371 , 0.61180683, 0.11031491],\n",
              "       [0.53574356, 0.44088723, 0.78529944],\n",
              "       [0.56796973, 0.45322733, 0.66497461],\n",
              "       [0.97961649, 0.11202395, 0.92719169],\n",
              "       [0.93319647, 0.33598115, 0.08622552],\n",
              "       [0.8312407 , 0.42824786, 0.11714805],\n",
              "       [0.68266775, 0.38953146, 0.72372234],\n",
              "       [0.62533015, 0.39637885, 0.80687652]])"
            ]
          },
          "metadata": {},
          "execution_count": 10
        }
      ]
    },
    {
      "cell_type": "markdown",
      "source": [
        "ReLU関数\n",
        "$$f(x) = \\max(0,x)$$"
      ],
      "metadata": {
        "id": "egzldUHiAddU"
      }
    },
    {
      "cell_type": "code",
      "source": [
        "# ReLU\n",
        "def relu(x):\n",
        "    return np.maximum(0, x)"
      ],
      "metadata": {
        "id": "1VSoI-UB0Obm"
      },
      "execution_count": 11,
      "outputs": []
    },
    {
      "cell_type": "code",
      "source": [
        "# 中間層の出力\n",
        "z1 = relu(u1)\n",
        "z1"
      ],
      "metadata": {
        "colab": {
          "base_uri": "https://localhost:8080/"
        },
        "id": "C0__klev0chf",
        "outputId": "adb6534b-6665-44ca-cf51-20ef61a4530d"
      },
      "execution_count": 12,
      "outputs": [
        {
          "output_type": "execute_result",
          "data": {
            "text/plain": [
              "array([[0.        , 0.65666639, 0.        ],\n",
              "       [0.        , 0.22007508, 2.1492029 ],\n",
              "       [0.        , 0.45491354, 0.        ],\n",
              "       [0.14321854, 0.        , 1.29682079],\n",
              "       [0.27357249, 0.        , 0.68554254],\n",
              "       [3.8724348 , 0.        , 2.54433019],\n",
              "       [2.63685986, 0.        , 0.        ],\n",
              "       [1.59444595, 0.        , 0.        ],\n",
              "       [0.76605894, 0.        , 0.96300145],\n",
              "       [0.51223453, 0.        , 1.42984086]])"
            ]
          },
          "metadata": {},
          "execution_count": 12
        }
      ]
    },
    {
      "cell_type": "markdown",
      "source": [
        "#中間層から出力層"
      ],
      "metadata": {
        "id": "ld2gRXzp0mYc"
      }
    },
    {
      "cell_type": "code",
      "source": [
        "W2 = np.random.randn(3, 2)\n",
        "W2"
      ],
      "metadata": {
        "colab": {
          "base_uri": "https://localhost:8080/"
        },
        "id": "y80FRHi10fM-",
        "outputId": "00af7046-37b0-46c4-8462-babbdad00763"
      },
      "execution_count": 13,
      "outputs": [
        {
          "output_type": "execute_result",
          "data": {
            "text/plain": [
              "array([[ 0.53035547, -0.69166075],\n",
              "       [-0.39675353, -0.6871727 ],\n",
              "       [-0.84520564, -0.67124613]])"
            ]
          },
          "metadata": {},
          "execution_count": 13
        }
      ]
    },
    {
      "cell_type": "code",
      "source": [
        "b2 = np.random.randn(2)\n",
        "b2"
      ],
      "metadata": {
        "colab": {
          "base_uri": "https://localhost:8080/"
        },
        "id": "Va1CLyNg0u_m",
        "outputId": "7c630376-5b6d-47c3-e375-eba7c8f86188"
      },
      "execution_count": 14,
      "outputs": [
        {
          "output_type": "execute_result",
          "data": {
            "text/plain": [
              "array([-0.0126646 , -1.11731035])"
            ]
          },
          "metadata": {},
          "execution_count": 14
        }
      ]
    },
    {
      "cell_type": "code",
      "source": [
        "u2 = np.dot(z1, W2) + b2\n",
        "u2"
      ],
      "metadata": {
        "colab": {
          "base_uri": "https://localhost:8080/"
        },
        "id": "YE4IalWJ00SN",
        "outputId": "d66735a3-77bb-4aaa-85e0-4eb8b08e10c2"
      },
      "execution_count": 15,
      "outputs": [
        {
          "output_type": "execute_result",
          "data": {
            "text/plain": [
              "array([[-0.2731993 , -1.56855356],\n",
              "       [-1.91649858, -2.71118407],\n",
              "       [-0.19315315, -1.42991451],\n",
              "       [-1.03278811, -2.08685493],\n",
              "       [-0.44699836, -1.76669748],\n",
              "       [-0.10937987, -5.50359331],\n",
              "       [ 1.38580844, -2.94112282],\n",
              "       [ 0.83295853, -2.22012603],\n",
              "       [-0.42031531, -2.29357425],\n",
              "       [-0.94950778, -2.43137801]])"
            ]
          },
          "metadata": {},
          "execution_count": 15
        }
      ]
    },
    {
      "cell_type": "code",
      "source": [
        "#ソフトマックス\n",
        "# x から np.max(x))を引くことでオーバーフロー（桁あふれ）を防ぐ\n",
        "def softmax(x):\n",
        "    exp_x = np.exp(x - np.max(x))\n",
        "    return exp_x / np.sum(exp_x)"
      ],
      "metadata": {
        "id": "UbrBWKl20_ps"
      },
      "execution_count": 16,
      "outputs": []
    },
    {
      "cell_type": "code",
      "source": [
        "y = softmax(u2[0])\n",
        "y"
      ],
      "metadata": {
        "colab": {
          "base_uri": "https://localhost:8080/"
        },
        "id": "QdspAsz41qHb",
        "outputId": "5fb065a3-6df2-4b55-bce0-0cbd33ca6990"
      },
      "execution_count": 17,
      "outputs": [
        {
          "output_type": "execute_result",
          "data": {
            "text/plain": [
              "array([0.78505207, 0.21494793])"
            ]
          },
          "metadata": {},
          "execution_count": 17
        }
      ]
    },
    {
      "cell_type": "code",
      "source": [
        "# インデックス番号を返す\n",
        "np.argmax(y)"
      ],
      "metadata": {
        "colab": {
          "base_uri": "https://localhost:8080/"
        },
        "id": "Kn4Vl9Z-1rPY",
        "outputId": "0486a3e3-795c-4483-ec7d-ad3af778d6b6"
      },
      "execution_count": 18,
      "outputs": [
        {
          "output_type": "execute_result",
          "data": {
            "text/plain": [
              "0"
            ]
          },
          "metadata": {},
          "execution_count": 18
        }
      ]
    },
    {
      "cell_type": "code",
      "source": [
        "def softmax(x):\n",
        "    if x.ndim == 2:\n",
        "        x = x - x.max(axis=1, keepdims=True)\n",
        "        x = np.exp(x)\n",
        "        x /= x.sum(axis=1, keepdims=True)\n",
        "\n",
        "    elif x.ndim == 1:\n",
        "        x = x - np.max(x)\n",
        "        x = np.exp(x) / np.sum(np.exp(x))\n",
        "\n",
        "    return x"
      ],
      "metadata": {
        "id": "HEUJN85i2V9-"
      },
      "execution_count": 19,
      "outputs": []
    },
    {
      "cell_type": "code",
      "source": [
        "softmax(u2[0])"
      ],
      "metadata": {
        "colab": {
          "base_uri": "https://localhost:8080/"
        },
        "id": "BavUk5QZ31uk",
        "outputId": "a9da2408-624a-4bb8-bc62-82eabacc2fcf"
      },
      "execution_count": 20,
      "outputs": [
        {
          "output_type": "execute_result",
          "data": {
            "text/plain": [
              "array([0.78505207, 0.21494793])"
            ]
          },
          "metadata": {},
          "execution_count": 20
        }
      ]
    },
    {
      "cell_type": "code",
      "source": [
        "softmax(u2)"
      ],
      "metadata": {
        "colab": {
          "base_uri": "https://localhost:8080/"
        },
        "id": "MHNHy0Ab3_X4",
        "outputId": "96a6a2a7-45d8-4db7-bd07-eb2cd44f1762"
      },
      "execution_count": 21,
      "outputs": [
        {
          "output_type": "execute_result",
          "data": {
            "text/plain": [
              "array([[0.78505207, 0.21494793],\n",
              "       [0.68883651, 0.31116349],\n",
              "       [0.77499978, 0.22500022],\n",
              "       [0.74155508, 0.25844492],\n",
              "       [0.78913164, 0.21086836],\n",
              "       [0.99547775, 0.00452225],\n",
              "       [0.98696416, 0.01303584],\n",
              "       [0.95491551, 0.04508449],\n",
              "       [0.86683491, 0.13316509],\n",
              "       [0.8148549 , 0.1851451 ]])"
            ]
          },
          "metadata": {},
          "execution_count": 21
        }
      ]
    },
    {
      "cell_type": "markdown",
      "source": [
        "# レイヤとしてまとめていく"
      ],
      "metadata": {
        "id": "zCjIYSBcBZW9"
      }
    },
    {
      "cell_type": "markdown",
      "source": [
        "- 変数\n",
        " - パラメータ(params)\n",
        " - 勾配(grads)\n",
        "\n",
        "- メソッド\n",
        " - 順伝播(forward)\n",
        " - 逆伝播(backward)"
      ],
      "metadata": {
        "id": "y1nWuDNOBGRi"
      }
    },
    {
      "cell_type": "markdown",
      "source": [
        "### Affine変換(線形変換)"
      ],
      "metadata": {
        "id": "uiSYirsaBXdm"
      }
    },
    {
      "cell_type": "code",
      "source": [
        "class Affine:\n",
        "    # パラメータの初期化\n",
        "    def __init__(self, W, b):\n",
        "        self.params = [W, b]\n",
        "\n",
        "    def forward(self, x):\n",
        "        W, b = self.params\n",
        "        out = np.dot(x, W) + b\n",
        "        return out"
      ],
      "metadata": {
        "id": "vhYrLy_vBqF9"
      },
      "execution_count": 22,
      "outputs": []
    },
    {
      "cell_type": "markdown",
      "source": [
        "### ReLU関数(非線形変換)"
      ],
      "metadata": {
        "id": "qdSDmoAVZwS9"
      }
    },
    {
      "cell_type": "code",
      "source": [
        "class ReLU:\n",
        "    def __init__(self):\n",
        "        self.params = []\n",
        "\n",
        "    def forward(self, x):\n",
        "        return np.maximum(0, x)"
      ],
      "metadata": {
        "id": "0W0ipurSZ5Wn"
      },
      "execution_count": 23,
      "outputs": []
    },
    {
      "cell_type": "code",
      "source": [
        "# 重みとバイアス\n",
        "W1 = np.random.randn(2, 3)\n",
        "b1 = np.random.randn(3)\n",
        "\n",
        "W2 = np.random.randn(3, 2)\n",
        "b2 = np.random.randn(2)"
      ],
      "metadata": {
        "id": "WWIelbgOaUvg"
      },
      "execution_count": 24,
      "outputs": []
    },
    {
      "cell_type": "code",
      "source": [
        "class NN:\n",
        "    def __init__(self, n_in, n_hidden, n_out):\n",
        "\n",
        "        # W, bの初期化\n",
        "        W1 = np.random.randn(n_in, n_hidden)\n",
        "        b1 = np.random.randn(n_hidden)\n",
        "\n",
        "        W2 = np.random.randn(n_hidden, n_out)\n",
        "        b2 = np.random.randn(n_out)\n",
        "\n",
        "        # レイヤをまとめる\n",
        "        self.layers = [\n",
        "            Affine(W1, b1),\n",
        "            ReLU(),\n",
        "            Affine(W2, b2)\n",
        "        ]\n",
        "\n",
        "        # パラメータをまとめる\n",
        "        self.params = []\n",
        "\n",
        "        for layer in self.layers:\n",
        "            self.params += layer.params\n",
        "\n",
        "    # 推論\n",
        "    def predict(self, x):\n",
        "        for layer in self.layers:\n",
        "            x = layer.forward(x)\n",
        "        return x"
      ],
      "metadata": {
        "id": "SKhuuVyKay1d"
      },
      "execution_count": 25,
      "outputs": []
    },
    {
      "cell_type": "code",
      "source": [
        "x = np.random.randn(10, 4)\n",
        "x"
      ],
      "metadata": {
        "colab": {
          "base_uri": "https://localhost:8080/"
        },
        "id": "LLT7lBUvciER",
        "outputId": "de570625-70dd-4c7f-89ae-07706334cb1d"
      },
      "execution_count": 26,
      "outputs": [
        {
          "output_type": "execute_result",
          "data": {
            "text/plain": [
              "array([[-0.20889423,  0.58662319,  0.83898341,  0.93110208],\n",
              "       [ 0.28558733,  0.88514116, -0.75439794,  1.25286816],\n",
              "       [ 0.51292982, -0.29809284,  0.48851815, -0.07557171],\n",
              "       [ 1.13162939,  1.51981682,  2.18557541, -1.39649634],\n",
              "       [-1.44411381, -0.50446586,  0.16003707,  0.87616892],\n",
              "       [ 0.31563495, -2.02220122, -0.30620401,  0.82797464],\n",
              "       [ 0.23009474,  0.76201118, -0.22232814, -0.20075807],\n",
              "       [ 0.18656139,  0.41005165,  0.19829972,  0.11900865],\n",
              "       [-0.67066229,  0.37756379,  0.12182127,  1.12948391],\n",
              "       [ 1.19891788,  0.18515642, -0.37528495, -0.63873041]])"
            ]
          },
          "metadata": {},
          "execution_count": 26
        }
      ]
    },
    {
      "cell_type": "code",
      "source": [
        "model = NN(4, 10, 3)"
      ],
      "metadata": {
        "id": "ZZroC1KXc0XT"
      },
      "execution_count": 27,
      "outputs": []
    },
    {
      "cell_type": "code",
      "source": [
        "model.predict(x)"
      ],
      "metadata": {
        "colab": {
          "base_uri": "https://localhost:8080/"
        },
        "id": "SLuh4sAUc-JV",
        "outputId": "11cdc208-001e-4195-8451-158c18df0a17"
      },
      "execution_count": 28,
      "outputs": [
        {
          "output_type": "execute_result",
          "data": {
            "text/plain": [
              "array([[ 2.68492376, -3.46662847,  1.53830454],\n",
              "       [-0.87922771, -7.59345423,  5.0555068 ],\n",
              "       [ 5.52278128,  2.40294997, -0.57603526],\n",
              "       [19.16049855, -3.93987764, -4.25678143],\n",
              "       [ 0.56456033, -2.80431995,  3.73800204],\n",
              "       [ 6.45568363,  5.42097663,  1.63029789],\n",
              "       [ 3.27044943, -4.17930502,  1.21745043],\n",
              "       [ 3.30977113, -2.94604386,  0.83673536],\n",
              "       [-0.34737662, -5.12561645,  3.89873707],\n",
              "       [ 4.73351937, -0.90182198,  0.54144564]])"
            ]
          },
          "metadata": {},
          "execution_count": 28
        }
      ]
    },
    {
      "cell_type": "markdown",
      "source": [
        "# 逆伝播"
      ],
      "metadata": {
        "id": "T3oEujX-pY0q"
      }
    },
    {
      "cell_type": "markdown",
      "source": [
        "### Affine"
      ],
      "metadata": {
        "id": "yZfPhUuLpdeJ"
      }
    },
    {
      "cell_type": "code",
      "source": [
        "class Affine:\n",
        "    # パラメータの初期化\n",
        "    def __init__(self, W, b):\n",
        "        self.params = [W, b]\n",
        "        self.grads = [np.zeros_like(W), np.zeros_like(b)]\n",
        "        self.x = None\n",
        "\n",
        "    # 順伝播\n",
        "    def forward(self, x):\n",
        "        self.x = x\n",
        "        W, b = self.params\n",
        "        out = np.dot(x, W) + b\n",
        "        return out\n",
        "\n",
        "    # 逆伝播\n",
        "    def backward(self, dout):\n",
        "        W, b = self.params\n",
        "        dx = np.dot(dout, W.T)\n",
        "        dW = np.dot(self.x.T, dout)\n",
        "        db = np.sum(dout, axis=0)\n",
        "\n",
        "        self.grads[0][...] = dW\n",
        "        self.grads[1][...] = db\n",
        "\n",
        "        return dx"
      ],
      "metadata": {
        "id": "mOWnL4fxdCEU"
      },
      "execution_count": 29,
      "outputs": []
    },
    {
      "cell_type": "markdown",
      "source": [
        "### Sigmoid"
      ],
      "metadata": {
        "id": "FI6VOsZnpDrx"
      }
    },
    {
      "cell_type": "code",
      "source": [
        "class Sigmoid:\n",
        "\n",
        "    def __init__(self):\n",
        "        self.params = []\n",
        "        self.grads = []\n",
        "        self.out = None\n",
        "\n",
        "    def forward(self, x):\n",
        "        out = 1 / (1+np.exp(-x))\n",
        "        self.out = out\n",
        "        return out\n",
        "\n",
        "    def backward(self, dout):\n",
        "        dx = dout * (1.0 - self.out)*self.out\n",
        "        return dx"
      ],
      "metadata": {
        "id": "R_TxgxVNfHNO"
      },
      "execution_count": 35,
      "outputs": []
    },
    {
      "cell_type": "code",
      "source": [
        "sigmoid = Sigmoid()"
      ],
      "metadata": {
        "id": "JOzyNe4Uo5th"
      },
      "execution_count": 36,
      "outputs": []
    },
    {
      "cell_type": "code",
      "source": [
        "x"
      ],
      "metadata": {
        "colab": {
          "base_uri": "https://localhost:8080/"
        },
        "id": "xl1o5E5DpN75",
        "outputId": "99bd30c8-6083-42b0-8c5f-43f47d5eb3dd"
      },
      "execution_count": 37,
      "outputs": [
        {
          "output_type": "execute_result",
          "data": {
            "text/plain": [
              "array([[-0.20889423,  0.58662319,  0.83898341,  0.93110208],\n",
              "       [ 0.28558733,  0.88514116, -0.75439794,  1.25286816],\n",
              "       [ 0.51292982, -0.29809284,  0.48851815, -0.07557171],\n",
              "       [ 1.13162939,  1.51981682,  2.18557541, -1.39649634],\n",
              "       [-1.44411381, -0.50446586,  0.16003707,  0.87616892],\n",
              "       [ 0.31563495, -2.02220122, -0.30620401,  0.82797464],\n",
              "       [ 0.23009474,  0.76201118, -0.22232814, -0.20075807],\n",
              "       [ 0.18656139,  0.41005165,  0.19829972,  0.11900865],\n",
              "       [-0.67066229,  0.37756379,  0.12182127,  1.12948391],\n",
              "       [ 1.19891788,  0.18515642, -0.37528495, -0.63873041]])"
            ]
          },
          "metadata": {},
          "execution_count": 37
        }
      ]
    },
    {
      "cell_type": "code",
      "source": [
        "sigmoid.forward(x)"
      ],
      "metadata": {
        "colab": {
          "base_uri": "https://localhost:8080/"
        },
        "id": "0plzC7repASO",
        "outputId": "cc37d328-e573-46b3-a046-b02509c87155"
      },
      "execution_count": 38,
      "outputs": [
        {
          "output_type": "execute_result",
          "data": {
            "text/plain": [
              "array([[0.44796552, 0.64258997, 0.69825107, 0.71729882],\n",
              "       [0.5709155 , 0.70788646, 0.31986377, 0.77779596],\n",
              "       [0.62549304, 0.42602377, 0.61975728, 0.48111606],\n",
              "       [0.75613947, 0.8205115 , 0.89894668, 0.19837268],\n",
              "       [0.19090911, 0.37649175, 0.53992409, 0.7060277 ],\n",
              "       [0.57826009, 0.11689157, 0.42404157, 0.69592651],\n",
              "       [0.55727123, 0.68179022, 0.44464579, 0.44997838],\n",
              "       [0.54650554, 0.60110026, 0.54941311, 0.5297171 ],\n",
              "       [0.33834856, 0.59328538, 0.53041771, 0.75574364],\n",
              "       [0.76833222, 0.54615731, 0.40726461, 0.34553359]])"
            ]
          },
          "metadata": {},
          "execution_count": 38
        }
      ]
    },
    {
      "cell_type": "markdown",
      "source": [
        "### ReLU"
      ],
      "metadata": {
        "id": "ZvAJCgrpprcI"
      }
    },
    {
      "cell_type": "code",
      "source": [
        "class Relu:\n",
        "\n",
        "    def __init__(self):\n",
        "        self.params = []\n",
        "        self.grads = []\n",
        "        self.x = None\n",
        "\n",
        "    def forward(self, x):\n",
        "        self.x = x\n",
        "        return np.maximum(0, self.x)\n",
        "\n",
        "    def backward(self, dout):\n",
        "        return np.where(self.x > 0, dout, 0)"
      ],
      "metadata": {
        "id": "MiK_Q5iXpCWF"
      },
      "execution_count": 39,
      "outputs": []
    },
    {
      "cell_type": "code",
      "source": [
        "x = np.array([1, 2, 4, -3])\n",
        "dout = np.array([1, 3, 4, 5])"
      ],
      "metadata": {
        "id": "YDKdPmtA667H"
      },
      "execution_count": 40,
      "outputs": []
    },
    {
      "cell_type": "code",
      "source": [
        "relu = Relu()"
      ],
      "metadata": {
        "id": "7LgaSh537Js_"
      },
      "execution_count": 41,
      "outputs": []
    },
    {
      "cell_type": "code",
      "source": [
        "# 順伝播\n",
        "relu.forward(x)"
      ],
      "metadata": {
        "colab": {
          "base_uri": "https://localhost:8080/"
        },
        "id": "m28HVU127Mvm",
        "outputId": "769291ac-bd81-4e7c-f1bf-4494a2e8e8dd"
      },
      "execution_count": 42,
      "outputs": [
        {
          "output_type": "execute_result",
          "data": {
            "text/plain": [
              "array([1, 2, 4, 0])"
            ]
          },
          "metadata": {},
          "execution_count": 42
        }
      ]
    },
    {
      "cell_type": "code",
      "source": [
        "# 逆伝播\n",
        "relu.backward(dout)"
      ],
      "metadata": {
        "colab": {
          "base_uri": "https://localhost:8080/"
        },
        "id": "x_m_3lLc7Rae",
        "outputId": "c716e01a-9414-48da-bc20-a7ced30f312d"
      },
      "execution_count": 43,
      "outputs": [
        {
          "output_type": "execute_result",
          "data": {
            "text/plain": [
              "array([1, 3, 4, 0])"
            ]
          },
          "metadata": {},
          "execution_count": 43
        }
      ]
    }
  ]
}
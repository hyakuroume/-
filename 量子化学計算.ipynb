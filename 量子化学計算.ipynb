{
  "nbformat": 4,
  "nbformat_minor": 0,
  "metadata": {
    "colab": {
      "provenance": [],
      "authorship_tag": "ABX9TyMXnPaRgRHDMpvbIj/e6RRN"
    },
    "kernelspec": {
      "name": "python3",
      "display_name": "Python 3"
    },
    "language_info": {
      "name": "python"
    }
  },
  "cells": [
    {
      "cell_type": "code",
      "execution_count": 2,
      "metadata": {
        "id": "mszZaPCoJZfl"
      },
      "outputs": [],
      "source": [
        "!pip install pyscf > /dev/null"
      ]
    },
    {
      "cell_type": "code",
      "source": [
        "from pyscf import gto, scf, dft, mp, cc"
      ],
      "metadata": {
        "id": "GmdlZva5Jf4n"
      },
      "execution_count": 14,
      "outputs": []
    },
    {
      "cell_type": "code",
      "source": [
        "# 分子の定義\n",
        "mol = gto.M(atom=\"H 0 0 0; F 0 0 1.1\", basis=\"ccpvdz\")"
      ],
      "metadata": {
        "id": "1K8Q-23eJj1i"
      },
      "execution_count": 4,
      "outputs": []
    },
    {
      "cell_type": "code",
      "source": [
        "# hartree-fock計算の実行\n",
        "mf = scf.RHF(mol)\n",
        "energy = mf.kernel()\n",
        "\n",
        "print(\"Energy:\", energy)"
      ],
      "metadata": {
        "colab": {
          "base_uri": "https://localhost:8080/"
        },
        "id": "ABwvCAsQR8xU",
        "outputId": "e8fdca97-98c9-4925-ab8a-5847dcd57c5d"
      },
      "execution_count": 5,
      "outputs": [
        {
          "output_type": "stream",
          "name": "stdout",
          "text": [
            "converged SCF energy = -99.9873974403489\n",
            "Energy: -99.98739744034886\n"
          ]
        }
      ]
    },
    {
      "cell_type": "code",
      "source": [
        "# H2O分子の定義\n",
        "h2o_mol = gto.M(\n",
        "    atom = \"\"\"\n",
        "    O 0.0 0.0 0.1173\n",
        "    H 0.0 0.7572 -0.4692\n",
        "    H 0.0 -0.7572 -0.4692\n",
        "    \"\"\",\n",
        "    basis = \"cc-pVDZ\",\n",
        "    charge=0,\n",
        "    spin=0\n",
        ")"
      ],
      "metadata": {
        "id": "hNMWr-vQSRfN"
      },
      "execution_count": 6,
      "outputs": []
    },
    {
      "cell_type": "code",
      "source": [
        "# DFT計算の設定\n",
        "mf = dft.RKS(h2o_mol)\n",
        "mf.xc = 'B3LYP'\n",
        "energy = mf.kernel()\n",
        "\n",
        "print('DFT Energy with B3YLP functional:', energy)"
      ],
      "metadata": {
        "colab": {
          "base_uri": "https://localhost:8080/"
        },
        "id": "b8wk5uthVois",
        "outputId": "5bdea70d-0082-471e-c1cc-7655f3efee7f"
      },
      "execution_count": 7,
      "outputs": [
        {
          "output_type": "stream",
          "name": "stderr",
          "text": [
            "/usr/local/lib/python3.11/dist-packages/pyscf/dft/libxc.py:512: UserWarning: Since PySCF-2.3, B3LYP (and B3P86) are changed to the VWN-RPA variant, corresponding to the original definition by Stephens et al. (issue 1480) and the same as the B3LYP functional in Gaussian. To restore the VWN5 definition, you can put the setting \"B3LYP_WITH_VWN5 = True\" in pyscf_conf.py\n",
            "  warnings.warn('Since PySCF-2.3, B3LYP (and B3P86) are changed to the VWN-RPA variant, '\n"
          ]
        },
        {
          "output_type": "stream",
          "name": "stdout",
          "text": [
            "converged SCF energy = -76.4203688915021\n",
            "DFT Energy with B3YLP functional: -76.42036889150205\n"
          ]
        }
      ]
    },
    {
      "cell_type": "code",
      "source": [
        "# 分子の定義\n",
        "h2O_mol = gto.M(\n",
        "    atom='''O 0.0 0.0 0.0; H 0.0 -0.757 0.587; H 0.0 0.757 0.587''',\n",
        "    basis='cc-pVDZ'\n",
        ")"
      ],
      "metadata": {
        "id": "M9hn8BLOYJwc"
      },
      "execution_count": 8,
      "outputs": []
    },
    {
      "cell_type": "code",
      "source": [
        "# 計算方法の選択と実行\n",
        "mf = dft.RKS(h2o_mol)\n",
        "mf.xc = 'B3LYP'\n",
        "energy = mf.kernel()\n",
        "\n",
        "print(\"Energy:\", energy)"
      ],
      "metadata": {
        "colab": {
          "base_uri": "https://localhost:8080/"
        },
        "id": "77QQRMViZ1cJ",
        "outputId": "8051a4eb-a131-493f-85ac-48df3973f59d"
      },
      "execution_count": 9,
      "outputs": [
        {
          "output_type": "stream",
          "name": "stdout",
          "text": [
            "converged SCF energy = -76.4203688915021\n",
            "Energy: -76.42036889150211\n"
          ]
        }
      ]
    },
    {
      "cell_type": "code",
      "source": [
        "hartree_to_eV = 27.2114\n",
        "\n",
        "energy_ev = energy * hartree_to_eV\n",
        "\n",
        "print(\"Energy (eV):\", energy_ev)"
      ],
      "metadata": {
        "colab": {
          "base_uri": "https://localhost:8080/"
        },
        "id": "vjpJlnBYdUWL",
        "outputId": "38896f57-45cd-40e6-998e-da4ebb79d80d"
      },
      "execution_count": 10,
      "outputs": [
        {
          "output_type": "stream",
          "name": "stdout",
          "text": [
            "Energy (eV): -2079.5052260542207\n"
          ]
        }
      ]
    },
    {
      "cell_type": "markdown",
      "source": [
        "## MP2計算"
      ],
      "metadata": {
        "id": "5Tza1DvJ4Wr2"
      }
    },
    {
      "cell_type": "code",
      "source": [
        "# 水分子の定義\n",
        "h2o_mol = gto.M(atom='O 0 0 0; H 0 -0.757 0.587; H 0 0.757 0.587;', basis='cc-pVDZ')\n",
        "\n",
        "# ハートリー・フォック計算\n",
        "mf = scf.RHF(mol)\n",
        "mf.kernel()\n",
        "\n",
        "# # MP2計算\n",
        "mp2 = mp.MP2(mf)\n",
        "mp2.kernel()\n",
        "\n",
        "print(\"MP2 Energy:\", mp2.e_tot)"
      ],
      "metadata": {
        "colab": {
          "base_uri": "https://localhost:8080/"
        },
        "id": "yMav4QZVfyuG",
        "outputId": "706e30d2-2344-4e3a-de24-8d1ecfbf829e"
      },
      "execution_count": 13,
      "outputs": [
        {
          "output_type": "stream",
          "name": "stdout",
          "text": [
            "converged SCF energy = -99.9873974403488\n",
            "E(MP2) = -100.198764900601  E_corr = -0.211367460252203\n",
            "E(SCS-MP2) = -100.193014429233  E_corr = -0.205616988884259\n",
            "MP2 Energy: -100.198764900601\n"
          ]
        }
      ]
    },
    {
      "cell_type": "markdown",
      "source": [
        "## CCSD計算"
      ],
      "metadata": {
        "id": "fWQyXsBq-bD1"
      }
    },
    {
      "cell_type": "code",
      "source": [
        "h2o_mol = gto.M(atom=\"O 0 0 0; H 0 -0.757 0.587; H 0 0.757 0.587\", basis=\"cc-pVDZ\")\n",
        "\n",
        "mf = scf.RHF(mol).run()\n",
        "ccsd = cc.CCSD(mf).run()\n",
        "\n",
        "print('CCSD Energy:', ccsd.e_tot)"
      ],
      "metadata": {
        "colab": {
          "base_uri": "https://localhost:8080/"
        },
        "id": "1KjVhV256b9g",
        "outputId": "a41c39b5-3ec0-4de8-c659-e2f72a7b5673"
      },
      "execution_count": 15,
      "outputs": [
        {
          "output_type": "stream",
          "name": "stdout",
          "text": [
            "converged SCF energy = -99.9873974403489\n",
            "E(CCSD) = -100.2037350701455  E_corr = -0.2163376297966235\n",
            "CCSD Energy: -100.20373507014554\n"
          ]
        }
      ]
    },
    {
      "cell_type": "code",
      "source": [],
      "metadata": {
        "id": "rBgSdncb_U8z"
      },
      "execution_count": null,
      "outputs": []
    }
  ]
}
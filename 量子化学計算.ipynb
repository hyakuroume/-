{
  "nbformat": 4,
  "nbformat_minor": 0,
  "metadata": {
    "colab": {
      "provenance": [],
      "authorship_tag": "ABX9TyOsLP+r5CO0WsMSGvaqxk4r",
      "include_colab_link": true
    },
    "kernelspec": {
      "name": "python3",
      "display_name": "Python 3"
    },
    "language_info": {
      "name": "python"
    },
    "widgets": {
      "application/vnd.jupyter.widget-state+json": {
        "8bfea2b3cbff481f973704428b7ec10a": {
          "model_module": "@jupyter-widgets/controls",
          "model_name": "VBoxModel",
          "model_module_version": "1.5.0",
          "state": {
            "_dom_classes": [
              "widget-interact"
            ],
            "_model_module": "@jupyter-widgets/controls",
            "_model_module_version": "1.5.0",
            "_model_name": "VBoxModel",
            "_view_count": null,
            "_view_module": "@jupyter-widgets/controls",
            "_view_module_version": "1.5.0",
            "_view_name": "VBoxView",
            "box_style": "",
            "children": [
              "IPY_MODEL_4f11e71d7c244f5f9f5b5b893f400024",
              "IPY_MODEL_5011887ee4fb41a5958eb6d85a0aa61f",
              "IPY_MODEL_e22ba5d2bd7a47589b7554afe346f445"
            ],
            "layout": "IPY_MODEL_7c787e90c5ca4f149e5b53dd51b9562d"
          }
        },
        "4f11e71d7c244f5f9f5b5b893f400024": {
          "model_module": "@jupyter-widgets/controls",
          "model_name": "IntSliderModel",
          "model_module_version": "1.5.0",
          "state": {
            "_dom_classes": [],
            "_model_module": "@jupyter-widgets/controls",
            "_model_module_version": "1.5.0",
            "_model_name": "IntSliderModel",
            "_view_count": null,
            "_view_module": "@jupyter-widgets/controls",
            "_view_module_version": "1.5.0",
            "_view_name": "IntSliderView",
            "continuous_update": true,
            "description": "Step",
            "description_tooltip": null,
            "disabled": false,
            "layout": "IPY_MODEL_e8fc6ea26be24b8e99c77dc3bb05c11a",
            "max": 5,
            "min": 1,
            "orientation": "horizontal",
            "readout": true,
            "readout_format": "d",
            "step": 1,
            "style": "IPY_MODEL_c3062ca6c7ce47a2b8680ad280496270",
            "value": 1
          }
        },
        "5011887ee4fb41a5958eb6d85a0aa61f": {
          "model_module": "@jupyter-widgets/controls",
          "model_name": "DropdownModel",
          "model_module_version": "1.5.0",
          "state": {
            "_dom_classes": [],
            "_model_module": "@jupyter-widgets/controls",
            "_model_module_version": "1.5.0",
            "_model_name": "DropdownModel",
            "_options_labels": [
              "ball and stick",
              "stick",
              "line",
              "sphere"
            ],
            "_view_count": null,
            "_view_module": "@jupyter-widgets/controls",
            "_view_module_version": "1.5.0",
            "_view_name": "DropdownView",
            "description": "Style:",
            "description_tooltip": null,
            "disabled": false,
            "index": 0,
            "layout": "IPY_MODEL_2e027e55f2b04670baa66f88aaa811c0",
            "style": "IPY_MODEL_d9a87e9b45ad474290b955258009bb57"
          }
        },
        "e22ba5d2bd7a47589b7554afe346f445": {
          "model_module": "@jupyter-widgets/output",
          "model_name": "OutputModel",
          "model_module_version": "1.0.0",
          "state": {
            "_dom_classes": [],
            "_model_module": "@jupyter-widgets/output",
            "_model_module_version": "1.0.0",
            "_model_name": "OutputModel",
            "_view_count": null,
            "_view_module": "@jupyter-widgets/output",
            "_view_module_version": "1.0.0",
            "_view_name": "OutputView",
            "layout": "IPY_MODEL_351db1ed258d4abdb43d7b3680ab0f28",
            "msg_id": "",
            "outputs": [
              {
                "output_type": "stream",
                "name": "stdout",
                "text": [
                  "Loading file: /content/drive/MyDrive/pyscf/cfcf_geometry_step_1.xyz\n"
                ]
              },
              {
                "output_type": "display_data",
                "data": {
                  "application/3dmoljs_load.v0": "<div id=\"3dmolviewer_17500851278290706\"  style=\"position: relative; width: 800px; height: 400px;\">\n        <p id=\"3dmolwarning_17500851278290706\" style=\"background-color:#ffcccc;color:black\">3Dmol.js failed to load for some reason.  Please check your browser console for error messages.<br></p>\n        </div>\n<script>\n\nvar loadScriptAsync = function(uri){\n  return new Promise((resolve, reject) => {\n    //this is to ignore the existence of requirejs amd\n    var savedexports, savedmodule;\n    if (typeof exports !== 'undefined') savedexports = exports;\n    else exports = {}\n    if (typeof module !== 'undefined') savedmodule = module;\n    else module = {}\n\n    var tag = document.createElement('script');\n    tag.src = uri;\n    tag.async = true;\n    tag.onload = () => {\n        exports = savedexports;\n        module = savedmodule;\n        resolve();\n    };\n  var firstScriptTag = document.getElementsByTagName('script')[0];\n  firstScriptTag.parentNode.insertBefore(tag, firstScriptTag);\n});\n};\n\nif(typeof $3Dmolpromise === 'undefined') {\n$3Dmolpromise = null;\n  $3Dmolpromise = loadScriptAsync('https://cdn.jsdelivr.net/npm/3dmol@2.5.0/build/3Dmol-min.js');\n}\n\nvar viewer_17500851278290706 = null;\nvar warn = document.getElementById(\"3dmolwarning_17500851278290706\");\nif(warn) {\n    warn.parentNode.removeChild(warn);\n}\n$3Dmolpromise.then(function() {\nviewer_17500851278290706 = $3Dmol.createViewer(document.getElementById(\"3dmolviewer_17500851278290706\"),{backgroundColor:\"white\"});\nviewer_17500851278290706.zoomTo();\n\tviewer_17500851278290706.addModel(\"8\\\\\\\\nStep 1 Energy: -278.27345821636646\\\\\\\\nF 0.281445 4.622052 0.846831\\\\\\\\nF -2.857630 4.334535 -0.846830\\\\\\\\nC -0.571091 4.557138 -0.239908\\\\\\\\nC -2.005093 4.399441 0.239908\\\\\\\\nH -0.473155 5.489166 -0.835639\\\\\\\\nH -2.103031 3.467409 0.835633\\\\\\\\nH -0.287973 3.690172 -0.873453\\\\\\\\nH -2.288209 5.266404 0.873458\\\\\\\\n\",\"xyz\");\n\tviewer_17500851278290706.setStyle({\"stick\": {}, \"sphere\": {\"radius\": 0.5}});\n\tviewer_17500851278290706.setBackgroundColor(\"white\");\n\tviewer_17500851278290706.zoomTo();\nviewer_17500851278290706.render();\n});\n</script>",
                  "text/html": "<div id=\"3dmolviewer_17500851278290706\"  style=\"position: relative; width: 800px; height: 400px;\">\n        <p id=\"3dmolwarning_17500851278290706\" style=\"background-color:#ffcccc;color:black\">3Dmol.js failed to load for some reason.  Please check your browser console for error messages.<br></p>\n        </div>\n<script>\n\nvar loadScriptAsync = function(uri){\n  return new Promise((resolve, reject) => {\n    //this is to ignore the existence of requirejs amd\n    var savedexports, savedmodule;\n    if (typeof exports !== 'undefined') savedexports = exports;\n    else exports = {}\n    if (typeof module !== 'undefined') savedmodule = module;\n    else module = {}\n\n    var tag = document.createElement('script');\n    tag.src = uri;\n    tag.async = true;\n    tag.onload = () => {\n        exports = savedexports;\n        module = savedmodule;\n        resolve();\n    };\n  var firstScriptTag = document.getElementsByTagName('script')[0];\n  firstScriptTag.parentNode.insertBefore(tag, firstScriptTag);\n});\n};\n\nif(typeof $3Dmolpromise === 'undefined') {\n$3Dmolpromise = null;\n  $3Dmolpromise = loadScriptAsync('https://cdn.jsdelivr.net/npm/3dmol@2.5.0/build/3Dmol-min.js');\n}\n\nvar viewer_17500851278290706 = null;\nvar warn = document.getElementById(\"3dmolwarning_17500851278290706\");\nif(warn) {\n    warn.parentNode.removeChild(warn);\n}\n$3Dmolpromise.then(function() {\nviewer_17500851278290706 = $3Dmol.createViewer(document.getElementById(\"3dmolviewer_17500851278290706\"),{backgroundColor:\"white\"});\nviewer_17500851278290706.zoomTo();\n\tviewer_17500851278290706.addModel(\"8\\\\\\\\nStep 1 Energy: -278.27345821636646\\\\\\\\nF 0.281445 4.622052 0.846831\\\\\\\\nF -2.857630 4.334535 -0.846830\\\\\\\\nC -0.571091 4.557138 -0.239908\\\\\\\\nC -2.005093 4.399441 0.239908\\\\\\\\nH -0.473155 5.489166 -0.835639\\\\\\\\nH -2.103031 3.467409 0.835633\\\\\\\\nH -0.287973 3.690172 -0.873453\\\\\\\\nH -2.288209 5.266404 0.873458\\\\\\\\n\",\"xyz\");\n\tviewer_17500851278290706.setStyle({\"stick\": {}, \"sphere\": {\"radius\": 0.5}});\n\tviewer_17500851278290706.setBackgroundColor(\"white\");\n\tviewer_17500851278290706.zoomTo();\nviewer_17500851278290706.render();\n});\n</script>"
                },
                "metadata": {}
              }
            ]
          }
        },
        "7c787e90c5ca4f149e5b53dd51b9562d": {
          "model_module": "@jupyter-widgets/base",
          "model_name": "LayoutModel",
          "model_module_version": "1.2.0",
          "state": {
            "_model_module": "@jupyter-widgets/base",
            "_model_module_version": "1.2.0",
            "_model_name": "LayoutModel",
            "_view_count": null,
            "_view_module": "@jupyter-widgets/base",
            "_view_module_version": "1.2.0",
            "_view_name": "LayoutView",
            "align_content": null,
            "align_items": null,
            "align_self": null,
            "border": null,
            "bottom": null,
            "display": null,
            "flex": null,
            "flex_flow": null,
            "grid_area": null,
            "grid_auto_columns": null,
            "grid_auto_flow": null,
            "grid_auto_rows": null,
            "grid_column": null,
            "grid_gap": null,
            "grid_row": null,
            "grid_template_areas": null,
            "grid_template_columns": null,
            "grid_template_rows": null,
            "height": null,
            "justify_content": null,
            "justify_items": null,
            "left": null,
            "margin": null,
            "max_height": null,
            "max_width": null,
            "min_height": null,
            "min_width": null,
            "object_fit": null,
            "object_position": null,
            "order": null,
            "overflow": null,
            "overflow_x": null,
            "overflow_y": null,
            "padding": null,
            "right": null,
            "top": null,
            "visibility": null,
            "width": null
          }
        },
        "e8fc6ea26be24b8e99c77dc3bb05c11a": {
          "model_module": "@jupyter-widgets/base",
          "model_name": "LayoutModel",
          "model_module_version": "1.2.0",
          "state": {
            "_model_module": "@jupyter-widgets/base",
            "_model_module_version": "1.2.0",
            "_model_name": "LayoutModel",
            "_view_count": null,
            "_view_module": "@jupyter-widgets/base",
            "_view_module_version": "1.2.0",
            "_view_name": "LayoutView",
            "align_content": null,
            "align_items": null,
            "align_self": null,
            "border": null,
            "bottom": null,
            "display": null,
            "flex": null,
            "flex_flow": null,
            "grid_area": null,
            "grid_auto_columns": null,
            "grid_auto_flow": null,
            "grid_auto_rows": null,
            "grid_column": null,
            "grid_gap": null,
            "grid_row": null,
            "grid_template_areas": null,
            "grid_template_columns": null,
            "grid_template_rows": null,
            "height": null,
            "justify_content": null,
            "justify_items": null,
            "left": null,
            "margin": null,
            "max_height": null,
            "max_width": null,
            "min_height": null,
            "min_width": null,
            "object_fit": null,
            "object_position": null,
            "order": null,
            "overflow": null,
            "overflow_x": null,
            "overflow_y": null,
            "padding": null,
            "right": null,
            "top": null,
            "visibility": null,
            "width": null
          }
        },
        "c3062ca6c7ce47a2b8680ad280496270": {
          "model_module": "@jupyter-widgets/controls",
          "model_name": "SliderStyleModel",
          "model_module_version": "1.5.0",
          "state": {
            "_model_module": "@jupyter-widgets/controls",
            "_model_module_version": "1.5.0",
            "_model_name": "SliderStyleModel",
            "_view_count": null,
            "_view_module": "@jupyter-widgets/base",
            "_view_module_version": "1.2.0",
            "_view_name": "StyleView",
            "description_width": "",
            "handle_color": null
          }
        },
        "2e027e55f2b04670baa66f88aaa811c0": {
          "model_module": "@jupyter-widgets/base",
          "model_name": "LayoutModel",
          "model_module_version": "1.2.0",
          "state": {
            "_model_module": "@jupyter-widgets/base",
            "_model_module_version": "1.2.0",
            "_model_name": "LayoutModel",
            "_view_count": null,
            "_view_module": "@jupyter-widgets/base",
            "_view_module_version": "1.2.0",
            "_view_name": "LayoutView",
            "align_content": null,
            "align_items": null,
            "align_self": null,
            "border": null,
            "bottom": null,
            "display": null,
            "flex": null,
            "flex_flow": null,
            "grid_area": null,
            "grid_auto_columns": null,
            "grid_auto_flow": null,
            "grid_auto_rows": null,
            "grid_column": null,
            "grid_gap": null,
            "grid_row": null,
            "grid_template_areas": null,
            "grid_template_columns": null,
            "grid_template_rows": null,
            "height": null,
            "justify_content": null,
            "justify_items": null,
            "left": null,
            "margin": null,
            "max_height": null,
            "max_width": null,
            "min_height": null,
            "min_width": null,
            "object_fit": null,
            "object_position": null,
            "order": null,
            "overflow": null,
            "overflow_x": null,
            "overflow_y": null,
            "padding": null,
            "right": null,
            "top": null,
            "visibility": null,
            "width": null
          }
        },
        "d9a87e9b45ad474290b955258009bb57": {
          "model_module": "@jupyter-widgets/controls",
          "model_name": "DescriptionStyleModel",
          "model_module_version": "1.5.0",
          "state": {
            "_model_module": "@jupyter-widgets/controls",
            "_model_module_version": "1.5.0",
            "_model_name": "DescriptionStyleModel",
            "_view_count": null,
            "_view_module": "@jupyter-widgets/base",
            "_view_module_version": "1.2.0",
            "_view_name": "StyleView",
            "description_width": ""
          }
        },
        "351db1ed258d4abdb43d7b3680ab0f28": {
          "model_module": "@jupyter-widgets/base",
          "model_name": "LayoutModel",
          "model_module_version": "1.2.0",
          "state": {
            "_model_module": "@jupyter-widgets/base",
            "_model_module_version": "1.2.0",
            "_model_name": "LayoutModel",
            "_view_count": null,
            "_view_module": "@jupyter-widgets/base",
            "_view_module_version": "1.2.0",
            "_view_name": "LayoutView",
            "align_content": null,
            "align_items": null,
            "align_self": null,
            "border": null,
            "bottom": null,
            "display": null,
            "flex": null,
            "flex_flow": null,
            "grid_area": null,
            "grid_auto_columns": null,
            "grid_auto_flow": null,
            "grid_auto_rows": null,
            "grid_column": null,
            "grid_gap": null,
            "grid_row": null,
            "grid_template_areas": null,
            "grid_template_columns": null,
            "grid_template_rows": null,
            "height": null,
            "justify_content": null,
            "justify_items": null,
            "left": null,
            "margin": null,
            "max_height": null,
            "max_width": null,
            "min_height": null,
            "min_width": null,
            "object_fit": null,
            "object_position": null,
            "order": null,
            "overflow": null,
            "overflow_x": null,
            "overflow_y": null,
            "padding": null,
            "right": null,
            "top": null,
            "visibility": null,
            "width": null
          }
        }
      }
    }
  },
  "cells": [
    {
      "cell_type": "markdown",
      "metadata": {
        "id": "view-in-github",
        "colab_type": "text"
      },
      "source": [
        "<a href=\"https://colab.research.google.com/github/hyakuroume/-/blob/main/%E9%87%8F%E5%AD%90%E5%8C%96%E5%AD%A6%E8%A8%88%E7%AE%97.ipynb\" target=\"_parent\"><img src=\"https://colab.research.google.com/assets/colab-badge.svg\" alt=\"Open In Colab\"/></a>"
      ]
    },
    {
      "cell_type": "code",
      "execution_count": 1,
      "metadata": {
        "id": "mszZaPCoJZfl"
      },
      "outputs": [],
      "source": [
        "!pip install pyscf geometric py3Dmol > /dev/null"
      ]
    },
    {
      "cell_type": "code",
      "source": [
        "from pyscf import gto, scf, dft, mp, cc, mcscf\n",
        "from pyscf.geomopt import geometric_solver\n",
        "import matplotlib.pyplot as plt\n",
        "import sys"
      ],
      "metadata": {
        "id": "GmdlZva5Jf4n"
      },
      "execution_count": 2,
      "outputs": []
    },
    {
      "cell_type": "code",
      "source": [
        "# 分子の定義\n",
        "mol = gto.M(atom=\"H 0 0 0; F 0 0 1.1\", basis=\"ccpvdz\")"
      ],
      "metadata": {
        "id": "1K8Q-23eJj1i"
      },
      "execution_count": 3,
      "outputs": []
    },
    {
      "cell_type": "code",
      "source": [
        "# hartree-fock計算の実行\n",
        "mf = scf.RHF(mol)\n",
        "energy = mf.kernel()\n",
        "\n",
        "print(\"Energy:\", energy)"
      ],
      "metadata": {
        "colab": {
          "base_uri": "https://localhost:8080/"
        },
        "id": "ABwvCAsQR8xU",
        "outputId": "85f0495d-d950-433d-cf5d-ba342999c444"
      },
      "execution_count": 4,
      "outputs": [
        {
          "output_type": "stream",
          "name": "stdout",
          "text": [
            "converged SCF energy = -99.9873974403489\n",
            "Energy: -99.98739744034889\n"
          ]
        }
      ]
    },
    {
      "cell_type": "code",
      "source": [
        "# H2O分子の定義\n",
        "h2o_mol = gto.M(\n",
        "    atom = \"\"\"\n",
        "    O 0.0 0.0 0.1173\n",
        "    H 0.0 0.7572 -0.4692\n",
        "    H 0.0 -0.7572 -0.4692\n",
        "    \"\"\",\n",
        "    basis = \"cc-pVDZ\",\n",
        "    charge=0,\n",
        "    spin=0\n",
        ")"
      ],
      "metadata": {
        "id": "hNMWr-vQSRfN"
      },
      "execution_count": 5,
      "outputs": []
    },
    {
      "cell_type": "code",
      "source": [
        "# DFT計算の設定\n",
        "mf = dft.RKS(h2o_mol)\n",
        "mf.xc = 'B3LYP'\n",
        "energy = mf.kernel()\n",
        "\n",
        "print('DFT Energy with B3YLP functional:', energy)"
      ],
      "metadata": {
        "colab": {
          "base_uri": "https://localhost:8080/"
        },
        "id": "b8wk5uthVois",
        "outputId": "2aacb815-a758-4fb8-a3a6-3c5a7d1460e4"
      },
      "execution_count": 6,
      "outputs": [
        {
          "output_type": "stream",
          "name": "stderr",
          "text": [
            "/usr/local/lib/python3.11/dist-packages/pyscf/dft/libxc.py:512: UserWarning: Since PySCF-2.3, B3LYP (and B3P86) are changed to the VWN-RPA variant, corresponding to the original definition by Stephens et al. (issue 1480) and the same as the B3LYP functional in Gaussian. To restore the VWN5 definition, you can put the setting \"B3LYP_WITH_VWN5 = True\" in pyscf_conf.py\n",
            "  warnings.warn('Since PySCF-2.3, B3LYP (and B3P86) are changed to the VWN-RPA variant, '\n"
          ]
        },
        {
          "output_type": "stream",
          "name": "stdout",
          "text": [
            "converged SCF energy = -76.4203688915021\n",
            "DFT Energy with B3YLP functional: -76.42036889150211\n"
          ]
        }
      ]
    },
    {
      "cell_type": "code",
      "source": [
        "# 分子の定義\n",
        "h2O_mol = gto.M(\n",
        "    atom='''O 0.0 0.0 0.0; H 0.0 -0.757 0.587; H 0.0 0.757 0.587''',\n",
        "    basis='cc-pVDZ'\n",
        ")"
      ],
      "metadata": {
        "id": "M9hn8BLOYJwc"
      },
      "execution_count": 7,
      "outputs": []
    },
    {
      "cell_type": "code",
      "source": [
        "# 計算方法の選択と実行\n",
        "mf = dft.RKS(h2o_mol)\n",
        "mf.xc = 'B3LYP'\n",
        "energy = mf.kernel()\n",
        "\n",
        "print(\"Energy:\", energy)"
      ],
      "metadata": {
        "colab": {
          "base_uri": "https://localhost:8080/"
        },
        "id": "77QQRMViZ1cJ",
        "outputId": "98a105ab-3409-4c17-fdf0-f748e6dc899b"
      },
      "execution_count": 8,
      "outputs": [
        {
          "output_type": "stream",
          "name": "stdout",
          "text": [
            "converged SCF energy = -76.420368891502\n",
            "Energy: -76.420368891502\n"
          ]
        }
      ]
    },
    {
      "cell_type": "code",
      "source": [
        "hartree_to_eV = 27.2114\n",
        "\n",
        "energy_ev = energy * hartree_to_eV\n",
        "\n",
        "print(\"Energy (eV):\", energy_ev)"
      ],
      "metadata": {
        "colab": {
          "base_uri": "https://localhost:8080/"
        },
        "id": "vjpJlnBYdUWL",
        "outputId": "e9614360-b549-4d5e-c71e-5485e9acf813"
      },
      "execution_count": 9,
      "outputs": [
        {
          "output_type": "stream",
          "name": "stdout",
          "text": [
            "Energy (eV): -2079.5052260542175\n"
          ]
        }
      ]
    },
    {
      "cell_type": "markdown",
      "source": [
        "## MP2計算"
      ],
      "metadata": {
        "id": "5Tza1DvJ4Wr2"
      }
    },
    {
      "cell_type": "code",
      "source": [
        "# 水分子の定義\n",
        "h2o_mol = gto.M(atom='O 0 0 0; H 0 -0.757 0.587; H 0 0.757 0.587;', basis='cc-pVDZ')\n",
        "\n",
        "# ハートリー・フォック計算\n",
        "mf = scf.RHF(mol)\n",
        "mf.kernel()\n",
        "\n",
        "# # MP2計算\n",
        "mp2 = mp.MP2(mf)\n",
        "mp2.kernel()\n",
        "\n",
        "print(\"MP2 Energy:\", mp2.e_tot)"
      ],
      "metadata": {
        "colab": {
          "base_uri": "https://localhost:8080/"
        },
        "id": "yMav4QZVfyuG",
        "outputId": "73811870-87d2-47f4-de8c-8ba7b27a30b6"
      },
      "execution_count": 10,
      "outputs": [
        {
          "output_type": "stream",
          "name": "stdout",
          "text": [
            "converged SCF energy = -99.9873974403489\n",
            "E(MP2) = -100.198764900601  E_corr = -0.211367460252204\n",
            "E(SCS-MP2) = -100.193014429233  E_corr = -0.205616988884259\n",
            "MP2 Energy: -100.19876490060109\n"
          ]
        }
      ]
    },
    {
      "cell_type": "markdown",
      "source": [
        "## CCSD計算"
      ],
      "metadata": {
        "id": "fWQyXsBq-bD1"
      }
    },
    {
      "cell_type": "code",
      "source": [
        "h2o_mol = gto.M(atom=\"O 0 0 0; H 0 -0.757 0.587; H 0 0.757 0.587\", basis=\"cc-pVDZ\")\n",
        "\n",
        "mf = scf.RHF(mol).run()\n",
        "ccsd = cc.CCSD(mf).run()\n",
        "\n",
        "print('CCSD Energy:', ccsd.e_tot)"
      ],
      "metadata": {
        "colab": {
          "base_uri": "https://localhost:8080/"
        },
        "id": "1KjVhV256b9g",
        "outputId": "ac89a094-dcd2-46df-f075-7cbee641bfef"
      },
      "execution_count": 11,
      "outputs": [
        {
          "output_type": "stream",
          "name": "stdout",
          "text": [
            "converged SCF energy = -99.9873974403489\n",
            "E(CCSD) = -100.2037350682675  E_corr = -0.2163376279185488\n",
            "CCSD Energy: -100.20373506826749\n"
          ]
        }
      ]
    },
    {
      "cell_type": "markdown",
      "source": [
        "## MCSCF計算"
      ],
      "metadata": {
        "id": "y-fuSkliALKj"
      }
    },
    {
      "cell_type": "code",
      "source": [
        "h2o_mol = gto.M(atom='O 0 0 0; H 0 -0.757 0.587; H 0 0.757 0.587', basis='cc-pVDZ')\n",
        "\n",
        "mf = scf.RHF(mol).run()\n",
        "mc = mcscf.CASSCF(mf, 4, 4).run()\n",
        "\n",
        "print('MCSCF Energy:', mc.e_tot)"
      ],
      "metadata": {
        "colab": {
          "base_uri": "https://localhost:8080/"
        },
        "id": "rBgSdncb_U8z",
        "outputId": "6dcc504a-904d-47c0-9e39-0a6ec0a30e80"
      },
      "execution_count": 12,
      "outputs": [
        {
          "output_type": "stream",
          "name": "stdout",
          "text": [
            "converged SCF energy = -99.9873974403489\n",
            "CASSCF energy = -100.047300349793\n",
            "CASCI E = -100.047300349793  E(CI) = -7.16439088131489  S^2 = 0.0000000\n",
            "MCSCF Energy: -100.04730034979278\n"
          ]
        }
      ]
    },
    {
      "cell_type": "markdown",
      "source": [
        "## 構造最適化計算"
      ],
      "metadata": {
        "id": "lTMoRWZZ_mKI"
      }
    },
    {
      "cell_type": "code",
      "source": [
        "from google.colab import drive\n",
        "drive.mount('/content/drive')"
      ],
      "metadata": {
        "colab": {
          "base_uri": "https://localhost:8080/"
        },
        "id": "DsfgxdID2p4Q",
        "outputId": "fe39ddeb-ae2a-4a8a-b9bb-c717cbb5cf79"
      },
      "execution_count": 13,
      "outputs": [
        {
          "output_type": "stream",
          "name": "stdout",
          "text": [
            "Mounted at /content/drive\n"
          ]
        }
      ]
    },
    {
      "cell_type": "code",
      "source": [
        "import os\n",
        "\n",
        "# 計算結果を保存するパスを設定\n",
        "folder_path = \"/content/drive/MyDrive/pyscf\"\n",
        "base_filename = \"cfcf\"\n",
        "\n",
        "# フルパスの設定\n",
        "path = os.path.join(folder_path, base_filename)\n",
        "\n",
        "# フォルダが存在しない場合は作成\n",
        "if not os.path.exists(folder_path):\n",
        "    os.makedirs(folder_path)\n",
        "    print(f\"Created folder: {folder_path}\")\n",
        "\n",
        "# チェックポイントファイル名の設定\n",
        "checkpoint_file = path + \".chk\"\n",
        "print(f\"Checkpoint file will be saved as: {checkpoint_file}\")"
      ],
      "metadata": {
        "colab": {
          "base_uri": "https://localhost:8080/"
        },
        "id": "A2nUZVXR2w6q",
        "outputId": "8a2022c2-7b2d-4b99-fcb0-552b1a100a03"
      },
      "execution_count": 14,
      "outputs": [
        {
          "output_type": "stream",
          "name": "stdout",
          "text": [
            "Checkpoint file will be saved as: /content/drive/MyDrive/pyscf/cfcf.chk\n"
          ]
        }
      ]
    },
    {
      "cell_type": "code",
      "source": [
        "from pyscf import gto\n",
        "\n",
        "mol = gto.M(\n",
        "    atom = \"\"\"\n",
        "    F        0.2814445108      4.6220522399      0.8468305958\n",
        "    F       -2.8576297500      4.3345350708     -0.8468304265\n",
        "    C       -0.5710910263      4.5571375244     -0.2399080182\n",
        "    C       -2.0050933218      4.3994411297      0.2399080055\n",
        "    H       -0.4731551822      5.4891660861     -0.8356386849\n",
        "    H       -2.1030307042      3.4674093695      0.8356334763\n",
        "    H       -0.2879731697      3.6901718904     -0.8734525221\n",
        "    H       -2.2882089988      5.2664037321      0.8734575742\n",
        "    \"\"\",\n",
        "    basis=\"6-31G(d)\",\n",
        "    charge=0, # 分子全体の電荷\n",
        "    spin=0, # スピン多重度(2s)\n",
        "    symmetry=True,\n",
        "    verbose=4\n",
        ")"
      ],
      "metadata": {
        "colab": {
          "base_uri": "https://localhost:8080/"
        },
        "id": "CT1Az6JB5iMv",
        "outputId": "5898f891-da6d-4f24-ee9d-e4efa0513b8f"
      },
      "execution_count": 15,
      "outputs": [
        {
          "output_type": "stream",
          "name": "stdout",
          "text": [
            "System: uname_result(system='Linux', node='6741d326cab6', release='6.1.123+', version='#1 SMP PREEMPT_DYNAMIC Sun Mar 30 16:01:29 UTC 2025', machine='x86_64')  Threads 2\n",
            "Python 3.11.13 (main, Jun  4 2025, 08:57:29) [GCC 11.4.0]\n",
            "numpy 2.0.2  scipy 1.15.3  h5py 3.13.0\n",
            "Date: Mon Jun 16 14:44:03 2025\n",
            "PySCF version 2.9.0\n",
            "PySCF path  /usr/local/lib/python3.11/dist-packages/pyscf\n",
            "\n",
            "[CONFIG] conf_file None\n",
            "[INPUT] verbose = 4\n",
            "[INPUT] num. atoms = 8\n",
            "[INPUT] num. electrons = 34\n",
            "[INPUT] charge = 0\n",
            "[INPUT] spin (= nelec alpha-beta = 2S) = 0\n",
            "[INPUT] symmetry True subgroup None\n",
            "[INPUT] Mole.unit = angstrom\n",
            "[INPUT] Symbol           X                Y                Z      unit          X                Y                Z       unit  Magmom\n",
            "[INPUT]  1 F      0.281444510800   4.622052239900   0.846830595800 AA    0.531853044674   8.734412866843   1.600277899964 Bohr   0.0\n",
            "[INPUT]  2 F     -2.857629750000   4.334535070800  -0.846830426500 AA   -5.400137592909   8.191084161134  -1.600277580034 Bohr   0.0\n",
            "[INPUT]  3 C     -0.571091026300   4.557137524400  -0.239908018200 AA   -1.079205631904   8.611741833094  -0.453360449485 Bohr   0.0\n",
            "[INPUT]  4 C     -2.005093321800   4.399441129700   0.239908005500 AA   -3.789077232396   8.313738836280   0.453360425486 Bohr   0.0\n",
            "[INPUT]  5 H     -0.473155182200   5.489166086100  -0.835638684900 AA   -0.894133708777  10.373020554980  -1.579128253553 Bohr   0.0\n",
            "[INPUT]  6 H     -2.103030704200   3.467409369500   0.835633476300 AA   -3.974152062489   6.552454070106   1.579118410725 Bohr   0.0\n",
            "[INPUT]  7 H     -0.287973169700   3.690171890400  -0.873452522100 AA   -0.544190421956   6.973414225425  -1.650586049580 Bohr   0.0\n",
            "[INPUT]  8 H     -2.288208998800   5.266403732100   0.873457574200 AA   -4.324088323497   9.952060715056   1.650595596665 Bohr   0.0\n",
            "\n",
            "nuclear repulsion = 125.082485677337\n",
            "point group symmetry = C2\n",
            "symmetry origin: [-2.43414184e+00  8.46274432e+00  7.17540126e-08]\n",
            "symmetry axis x: [ 0.37798716  0.05833224 -0.92397135]\n",
            "symmetry axis y: [0.92013352 0.08668609 0.38188982]\n",
            "symmetry axis z: [ 0.10237196 -0.99452646 -0.02090722]\n",
            "num. orbitals of irrep A = 32\n",
            "num. orbitals of irrep B = 32\n",
            "number of shells = 32\n",
            "number of NR pGTOs = 124\n",
            "number of NR cGTOs = 64\n",
            "basis = 6-31G(d)\n",
            "ecp = {}\n",
            "CPU time:        61.74\n"
          ]
        }
      ]
    },
    {
      "cell_type": "code",
      "source": [
        "# DFT計算の設定\n",
        "mf = dft.RKS(mol)\n",
        "mf.chkfile = path + '.chk'\n",
        "mf.xc = 'B3LYP'\n",
        "mf.max_cycle = 150"
      ],
      "metadata": {
        "id": "A70Kfo4C78dZ"
      },
      "execution_count": 16,
      "outputs": []
    },
    {
      "cell_type": "code",
      "source": [
        "# 各ステップのエネルギーと分子構造の保存リスト\n",
        "energies = []\n",
        "geometries = []"
      ],
      "metadata": {
        "id": "fTUsXDZC8uNS"
      },
      "execution_count": 17,
      "outputs": []
    },
    {
      "cell_type": "code",
      "source": [
        "# コールバック関数の定義\n",
        "def cb(envs):\n",
        "    mf = envs['g_scanner'].base\n",
        "    energies.append(mf.e_tot)\n",
        "    geometries.append(mol.atom_coords(unit=\"ANG\"))"
      ],
      "metadata": {
        "id": "YyueX3WV9eXv"
      },
      "execution_count": 18,
      "outputs": []
    },
    {
      "cell_type": "code",
      "source": [
        "conv_params = {\n",
        "    'convergence_energy' : 1e-6,\n",
        "    'convergence_grms' : 3e-4,\n",
        "    'convergence_gmax' : 4.5e-4,\n",
        "    'convergence_drms' : 1.2e-3,\n",
        "    'convergence_dmax' : 1.8e-3\n",
        "}"
      ],
      "metadata": {
        "id": "VCuSGmBg-ozt"
      },
      "execution_count": 19,
      "outputs": []
    },
    {
      "cell_type": "code",
      "source": [
        "# 構造最適化を実行\n",
        "geometric_solver.optimize(mf, callback=cb, **conv_params)"
      ],
      "metadata": {
        "colab": {
          "base_uri": "https://localhost:8080/"
        },
        "id": "9GTdviGJ_Obu",
        "outputId": "23f90121-9ae0-41d8-b8fd-d96c83e2b08b"
      },
      "execution_count": 20,
      "outputs": [
        {
          "output_type": "stream",
          "name": "stdout",
          "text": [
            "Create scanner for <class 'pyscf.grad.rks.Gradients'>\n",
            "Create scanner for <class 'pyscf.dft.rks_symm.SymAdaptedRKS'>\n"
          ]
        },
        {
          "output_type": "stream",
          "name": "stderr",
          "text": [
            "geometric-optimize called with the following command line:\n",
            "/usr/local/lib/python3.11/dist-packages/colab_kernel_launcher.py -f /root/.local/share/jupyter/runtime/kernel-1e6073a9-0b85-49fa-a88d-3b50e3b3482c.json\n",
            "\n",
            "                                        \u001b[91m())))))))))))))))/\u001b[0m                     \n",
            "                                    \u001b[91m())))))))))))))))))))))))),\u001b[0m                \n",
            "                                \u001b[91m*)))))))))))))))))))))))))))))))))\u001b[0m             \n",
            "                        \u001b[94m#,\u001b[0m    \u001b[91m()))))))))/\u001b[0m                \u001b[91m.)))))))))),\u001b[0m          \n",
            "                      \u001b[94m#%%%%,\u001b[0m  \u001b[91m())))))\u001b[0m                        \u001b[91m.))))))))*\u001b[0m        \n",
            "                      \u001b[94m*%%%%%%,\u001b[0m  \u001b[91m))\u001b[0m              \u001b[93m..\u001b[0m              \u001b[91m,))))))).\u001b[0m      \n",
            "                        \u001b[94m*%%%%%%,\u001b[0m         \u001b[93m***************/.\u001b[0m        \u001b[91m.)))))))\u001b[0m     \n",
            "                \u001b[94m#%%/\u001b[0m      \u001b[94m(%%%%%%,\u001b[0m    \u001b[93m/*********************.\u001b[0m       \u001b[91m)))))))\u001b[0m    \n",
            "              \u001b[94m.%%%%%%#\u001b[0m      \u001b[94m*%%%%%%,\u001b[0m  \u001b[93m*******/,\u001b[0m     \u001b[93m**********,\u001b[0m      \u001b[91m.))))))\u001b[0m   \n",
            "                \u001b[94m.%%%%%%/\u001b[0m      \u001b[94m*%%%%%%,\u001b[0m  \u001b[93m**\u001b[0m              \u001b[93m********\u001b[0m      \u001b[91m.))))))\u001b[0m  \n",
            "          \u001b[94m##\u001b[0m      \u001b[94m.%%%%%%/\u001b[0m      \u001b[94m(%%%%%%,\u001b[0m                  \u001b[93m,******\u001b[0m      \u001b[91m/)))))\u001b[0m  \n",
            "        \u001b[94m%%%%%%\u001b[0m      \u001b[94m.%%%%%%#\u001b[0m      \u001b[94m*%%%%%%,\u001b[0m    \u001b[92m,/////.\u001b[0m       \u001b[93m******\u001b[0m      \u001b[91m))))))\u001b[0m \n",
            "      \u001b[94m#%\u001b[0m      \u001b[94m%%\u001b[0m      \u001b[94m.%%%%%%/\u001b[0m      \u001b[94m*%%%%%%,\u001b[0m  \u001b[92m////////,\u001b[0m      \u001b[93m*****/\u001b[0m     \u001b[91m,)))))\u001b[0m \n",
            "    \u001b[94m#%%\u001b[0m  \u001b[94m%%%\u001b[0m  \u001b[94m%%%#\u001b[0m      \u001b[94m.%%%%%%/\u001b[0m      \u001b[94m(%%%%%%,\u001b[0m  \u001b[92m///////.\u001b[0m     \u001b[93m/*****\u001b[0m      \u001b[91m))))).\u001b[0m\n",
            "  \u001b[94m#%%%%.\u001b[0m      \u001b[94m%%%%%#\u001b[0m      \u001b[94m/%%%%%%*\u001b[0m      \u001b[94m#%%%%%%\u001b[0m   \u001b[92m/////)\u001b[0m     \u001b[93m******\u001b[0m      \u001b[91m))))),\u001b[0m\n",
            "    \u001b[94m#%%%%##%\u001b[0m  \u001b[94m%%%#\u001b[0m      \u001b[94m.%%%%%%/\u001b[0m      \u001b[94m(%%%%%%,\u001b[0m  \u001b[92m///////.\u001b[0m     \u001b[93m/*****\u001b[0m      \u001b[91m))))).\u001b[0m\n",
            "      \u001b[94m##\u001b[0m     \u001b[94m%%%\u001b[0m      \u001b[94m.%%%%%%/\u001b[0m      \u001b[94m*%%%%%%,\u001b[0m  \u001b[92m////////.\u001b[0m      \u001b[93m*****/\u001b[0m     \u001b[91m,)))))\u001b[0m \n",
            "        \u001b[94m#%%%%#\u001b[0m      \u001b[94m/%%%%%%/\u001b[0m      \u001b[94m(%%%%%%\u001b[0m      \u001b[92m/)/)//\u001b[0m       \u001b[93m******\u001b[0m      \u001b[91m))))))\u001b[0m \n",
            "          \u001b[94m##\u001b[0m      \u001b[94m.%%%%%%/\u001b[0m      \u001b[94m(%%%%%%,\u001b[0m                  \u001b[93m*******\u001b[0m      \u001b[91m))))))\u001b[0m  \n",
            "                \u001b[94m.%%%%%%/\u001b[0m      \u001b[94m*%%%%%%,\u001b[0m  \u001b[93m**.\u001b[0m             \u001b[93m/*******\u001b[0m      \u001b[91m.))))))\u001b[0m  \n",
            "              \u001b[94m*%%%%%%/\u001b[0m      \u001b[94m(%%%%%%\u001b[0m   \u001b[93m********/*..,*/*********\u001b[0m       \u001b[91m*))))))\u001b[0m   \n",
            "                \u001b[94m#%%/\u001b[0m      \u001b[94m(%%%%%%,\u001b[0m    \u001b[93m*********************/\u001b[0m        \u001b[91m)))))))\u001b[0m    \n",
            "                        \u001b[94m*%%%%%%,\u001b[0m         \u001b[93m,**************/\u001b[0m         \u001b[91m,))))))/\u001b[0m     \n",
            "                      \u001b[94m(%%%%%%\u001b[0m   \u001b[91m()\u001b[0m                              \u001b[91m))))))))\u001b[0m       \n",
            "                      \u001b[94m#%%%%,\u001b[0m  \u001b[91m())))))\u001b[0m                        \u001b[91m,)))))))),\u001b[0m        \n",
            "                        \u001b[94m#,\u001b[0m    \u001b[91m())))))))))\u001b[0m                \u001b[91m,)))))))))).\u001b[0m          \n",
            "                                 \u001b[91m()))))))))))))))))))))))))))))))/\u001b[0m             \n",
            "                                    \u001b[91m())))))))))))))))))))))))).\u001b[0m                \n",
            "                                         \u001b[91m())))))))))))))),\u001b[0m                     \n",
            "\n",
            "-=# \u001b[1;94m geomeTRIC started. Version: 1.1 \u001b[0m #=-\n",
            "Current date and time: 2025-06-16 14:44:03\n",
            "#========================================================#\n",
            "#| \u001b[92m    Arguments passed to driver run_optimizer():     \u001b[0m |#\n",
            "#========================================================#\n",
            "convergence_dmax          0.0018 \n",
            "convergence_drms          0.0012 \n",
            "convergence_energy        1e-06 \n",
            "convergence_gmax          0.00045 \n",
            "convergence_grms          0.0003 \n",
            "customengine              <pyscf.geomopt.geometric_solver.PySCFEngine object at 0x79f5b7245d10> \n",
            "input                     /tmp/tmpd_1wassw/908d20fd-1816-43d6-926c-27b3934b9c53 \n",
            "logIni                    /usr/local/lib/python3.11/dist-packages/pyscf/geomopt/log.ini \n",
            "----------------------------------------------------------\n",
            "Custom engine selected.\n",
            "Bonds will be generated from interatomic distances less than 1.20 times sum of covalent radii\n",
            "24 internal coordinates being used (instead of 24 Cartesians)\n",
            "Internal coordinate system (atoms numbered from 1):\n",
            "Distance 1-3\n",
            "Distance 2-4\n",
            "Distance 3-4\n",
            "Distance 3-5\n",
            "Distance 3-7\n",
            "Distance 4-6\n",
            "Distance 4-8\n",
            "Angle 1-3-4\n",
            "Angle 1-3-5\n",
            "Angle 1-3-7\n",
            "Angle 4-3-5\n",
            "Angle 4-3-7\n",
            "Angle 5-3-7\n",
            "Angle 2-4-3\n",
            "Angle 2-4-6\n",
            "Angle 2-4-8\n",
            "Angle 3-4-6\n",
            "Angle 3-4-8\n",
            "Angle 6-4-8\n",
            "Dihedral 1-3-4-2\n",
            "Dihedral 1-3-4-6\n",
            "Dihedral 1-3-4-8\n",
            "Dihedral 5-3-4-2\n",
            "Dihedral 5-3-4-6\n",
            "Dihedral 5-3-4-8\n",
            "Dihedral 7-3-4-2\n",
            "Dihedral 7-3-4-6\n",
            "Dihedral 7-3-4-8\n",
            "Translation-X 1-8\n",
            "Translation-Y 1-8\n",
            "Translation-Z 1-8\n",
            "Rotation-A 1-8\n",
            "Rotation-B 1-8\n",
            "Rotation-C 1-8\n",
            "<class 'geometric.internal.Distance'> : 7\n",
            "<class 'geometric.internal.Angle'> : 12\n",
            "<class 'geometric.internal.Dihedral'> : 9\n",
            "<class 'geometric.internal.TranslationX'> : 1\n",
            "<class 'geometric.internal.TranslationY'> : 1\n",
            "<class 'geometric.internal.TranslationZ'> : 1\n",
            "<class 'geometric.internal.RotationA'> : 1\n",
            "<class 'geometric.internal.RotationB'> : 1\n",
            "<class 'geometric.internal.RotationC'> : 1\n",
            "> ===== Optimization Info: ====\n",
            "> Job type: Energy minimization\n",
            "> Maximum number of optimization cycles: 300\n",
            "> Initial / maximum trust radius (Angstrom): 0.100 / 0.300\n",
            "> Convergence Criteria:\n",
            "> Will converge when all 5 criteria are reached:\n",
            ">  |Delta-E| < 1.00e-06\n",
            ">  RMS-Grad  < 3.00e-04\n",
            ">  Max-Grad  < 4.50e-04\n",
            ">  RMS-Disp  < 1.20e-03\n",
            ">  Max-Disp  < 1.80e-03\n",
            "> === End Optimization Info ===\n"
          ]
        },
        {
          "output_type": "stream",
          "name": "stdout",
          "text": [
            "\n",
            "Geometry optimization cycle 1\n",
            "Cartesian coordinates (Angstrom)\n",
            " Atom        New coordinates             dX        dY        dZ\n",
            "   F   0.281445   4.622052   0.846831    0.000000  0.000000  0.000000\n",
            "   F  -2.857630   4.334535  -0.846830    0.000000  0.000000  0.000000\n",
            "   C  -0.571091   4.557138  -0.239908    0.000000  0.000000  0.000000\n",
            "   C  -2.005093   4.399441   0.239908    0.000000  0.000000  0.000000\n",
            "   H  -0.473155   5.489166  -0.835639    0.000000  0.000000  0.000000\n",
            "   H  -2.103031   3.467409   0.835633    0.000000  0.000000  0.000000\n",
            "   H  -0.287973   3.690172  -0.873453    0.000000  0.000000  0.000000\n",
            "   H  -2.288209   5.266404   0.873458    0.000000  0.000000 -0.000000\n",
            "New geometry\n",
            "   1 F      1.100095575471   4.704304925863   0.942703608703 AA    2.078879348486   8.889847916323   1.781451637088 Bohr\n",
            "\n",
            "   2 F     -2.038978685329   4.416787756760  -0.750957413597 AA   -3.853111289097   8.346519210609  -1.419103842910 Bohr\n",
            "\n",
            "   3 C      0.247560038357   4.639390210352  -0.144035005288 AA    0.467820671882   8.767176882554  -0.272186712344 Bohr\n",
            "\n",
            "   4 C     -1.186442257144   4.481693815667   0.335781018413 AA   -2.242050928614   8.469173885768   0.634534162627 Bohr\n",
            "\n",
            "   5 H      0.345495882463   5.571418772038  -0.739765671963 AA    0.652892595020  10.528455604413  -1.397954516366 Bohr\n",
            "\n",
            "   6 H     -1.284379639546   3.549662055430   0.931506489252 AA   -2.427125758709   6.707889119524   1.760292147941 Bohr\n",
            "\n",
            "   7 H      0.530677894948   3.772424576387  -0.777579509147 AA    1.002835881813   7.128849274949  -1.469412312362 Bohr\n",
            "\n",
            "   8 H     -1.469557934142   5.348656418081   0.969330587138 AA   -2.777062019709  10.107495764570   1.831769333854 Bohr\n",
            "\n",
            "\n",
            "\n",
            "******** <class 'pyscf.scf.hf.SymAdaptedRKS_Scanner'> ********\n",
            "method = SymAdaptedRKS_Scanner\n",
            "initial guess = minao\n",
            "damping factor = 0\n",
            "level_shift factor = 0\n",
            "DIIS = <class 'pyscf.scf.diis.CDIIS'>\n",
            "diis_start_cycle = 1\n",
            "diis_space = 8\n",
            "diis_damp = 0\n",
            "SCF conv_tol = 1e-09\n",
            "SCF conv_tol_grad = None\n",
            "SCF max_cycles = 150\n",
            "direct_scf = True\n",
            "direct_scf_tol = 1e-13\n",
            "chkfile to save SCF result = /content/drive/MyDrive/pyscf/cfcf.chk\n",
            "max_memory 4000 MB (current use 238 MB)\n",
            "XC library pyscf.dft.libxc version 7.0.0\n",
            "    S. Lehtola, C. Steigemann, M. J.T. Oliveira, and M. A.L. Marques.,  SoftwareX 7, 1–5 (2018)\n",
            "XC functionals = B3LYP\n",
            "    P. J. Stephens, F. J. Devlin, C. F. Chabalowski, and M. J. Frisch.,  J. Phys. Chem. 98, 11623 (1994)\n",
            "radial grids: \n",
            "    Treutler-Ahlrichs [JCP 102, 346 (1995); DOI:10.1063/1.469408] (M4) radial grids\n",
            "    \n",
            "becke partition: Becke, JCP 88, 2547 (1988); DOI:10.1063/1.454033\n",
            "pruning grids: <function nwchem_prune at 0x79f60453dda0>\n",
            "grids dens level: 3\n",
            "symmetrized grids: True\n",
            "atomic radii adjust function: <function treutler_atomic_radii_adjust at 0x79f60453e2a0>\n",
            "small_rho_cutoff = 1e-07\n",
            "Freeze 0 electrons in irreps []\n",
            "    34 free electrons in irreps A B\n",
            "Set gradient conv threshold to 3.16228e-05\n",
            "Initial guess from minao.\n",
            "tot grids = 95992\n",
            "init E= -278.457330104727\n",
            "HOMO (B) = -0.357238568442578  LUMO (B) = -0.00162742479931387\n",
            "cycle= 1 E= -278.203453874711  delta_E= 0.254  |g|= 0.661  |ddm|= 2.36\n",
            "HOMO (A) = -0.250232256218381  LUMO (A) = 0.086275800648868\n",
            "cycle= 2 E= -278.120731915048  delta_E= 0.0827  |g|= 0.993  |ddm|= 1.12\n",
            "HOMO (A) = -0.319313037841122  LUMO (B) = 0.080397209886528\n",
            "cycle= 3 E= -278.272707441285  delta_E= -0.152  |g|= 0.0553  |ddm|= 0.689\n",
            "HOMO (A) = -0.329233139260785  LUMO (B) = 0.0717184488869863\n",
            "cycle= 4 E= -278.27335200454  delta_E= -0.000645  |g|= 0.0206  |ddm|= 0.0626\n",
            "HOMO (A) = -0.325945595953733  LUMO (B) = 0.0751722525027698\n",
            "cycle= 5 E= -278.273457014231  delta_E= -0.000105  |g|= 0.00249  |ddm|= 0.0197\n",
            "HOMO (A) = -0.326283568404737  LUMO (B) = 0.0748746819866716\n",
            "cycle= 6 E= -278.273458214303  delta_E= -1.2e-06  |g|= 8.26e-05  |ddm|= 0.00187\n",
            "HOMO (A) = -0.326291794849471  LUMO (B) = 0.0748715706589359\n",
            "cycle= 7 E= -278.273458216238  delta_E= -1.94e-09  |g|= 2.35e-05  |ddm|= 0.000147\n",
            "HOMO (A) = -0.326291877197704  LUMO (B) = 0.0748709378576735\n",
            "cycle= 8 E= -278.273458216365  delta_E= -1.26e-10  |g|= 2.5e-06  |ddm|= 2.53e-05\n",
            "HOMO (A) = -0.326291268400536  LUMO (B) = 0.0748713441569443\n",
            "Extra cycle  E= -278.273458216366  delta_E= -1.88e-12  |g|= 2.12e-06  |ddm|= 3.78e-06\n",
            "converged SCF energy = -278.273458216366\n",
            "\n",
            "\n",
            "******** <class 'pyscf.grad.rhf.Gradients_Scanner'> for <class 'pyscf.scf.hf.SymAdaptedRKS_Scanner'> ********\n",
            "unit = Eh/Bohr\n",
            "max_memory 4000 MB (current use 261 MB)\n",
            "grid_response = False\n",
            "--------------- SymAdaptedRKS_Scanner gradients ---------------\n",
            "         x                y                z\n",
            "0 F     0.0018152499     0.0002383213    -0.0024445464\n",
            "1 F    -0.0018152658    -0.0002381672     0.0024445496\n",
            "2 C    -0.0013269968    -0.0004872955     0.0166814856\n",
            "3 C     0.0013270004     0.0004872605    -0.0166814863\n",
            "4 H    -0.0001466118     0.0077017396    -0.0039656892\n",
            "5 H     0.0001466846    -0.0077017859     0.0039656606\n",
            "6 H     0.0014076770    -0.0073985773    -0.0042831047\n",
            "7 H    -0.0014077387     0.0073985160     0.0042831310\n",
            "----------------------------------------------\n",
            "cycle 1: E = -278.273458216  dE = -278.273  norm(grad) = 0.0296556\n"
          ]
        },
        {
          "output_type": "stream",
          "name": "stderr",
          "text": [
            "Step    0 : Gradient = 1.048e-02/1.674e-02 (rms/max) Energy = -278.2734582164\n",
            "Hessian Eigenvalues: 2.30000e-02 5.00000e-02 5.00000e-02 ... 3.25494e-01 4.86008e-01 4.86008e-01\n"
          ]
        },
        {
          "output_type": "stream",
          "name": "stdout",
          "text": [
            "\n",
            "Geometry optimization cycle 2\n",
            "Cartesian coordinates (Angstrom)\n",
            " Atom        New coordinates             dX        dY        dZ\n",
            "   F   0.263241   4.620104   0.850333   -0.836855 -0.084201 -0.092370\n",
            "   F  -2.839426   4.336482  -0.850333   -0.800447 -0.080306 -0.099376\n",
            "   C  -0.574082   4.557028  -0.249340   -0.821642 -0.082362 -0.105305\n",
            "   C  -2.002103   4.399551   0.249340   -0.815660 -0.082143 -0.086441\n",
            "   H  -0.470930   5.475861  -0.838843   -0.816426 -0.095557 -0.099078\n",
            "   H  -2.105256   3.480715   0.838839   -0.820877 -0.068948 -0.092668\n",
            "   H  -0.288517   3.703773  -0.876092   -0.819195 -0.068652 -0.098513\n",
            "   H  -2.287665   5.252803   0.876097   -0.818107 -0.095853 -0.093234\n",
            "New geometry\n",
            "   1 F      1.081891714803   4.702356564549   0.946206434544 AA    2.044479037414   8.886166047047   1.788071018589 Bohr\n",
            "\n",
            "   2 F     -2.020774640858   4.418734332455  -0.754460276975 AA   -3.818710630687   8.350197705553  -1.425723295347 Bohr\n",
            "\n",
            "   3 C      0.244569267004   4.639280582556  -0.153467283890 AA    0.462168933123   8.766969716043  -0.290011135633 Bohr\n",
            "\n",
            "   4 C     -1.183451473644   4.481803325457   0.345213294534 AA   -2.236399166900   8.469380829278   0.652358581228 Bohr\n",
            "\n",
            "   5 H      0.347720918766   5.558114010449  -0.742970252769 AA    0.657097304250  10.503313248857  -1.404010296432 Bohr\n",
            "\n",
            "   6 H     -1.286605266797   3.562967218810   0.934711702919 AA   -2.431331584668   6.733032234354   1.766349123944 Bohr\n",
            "\n",
            "   7 H      0.530133912239   3.786025711428  -0.780219090985 AA    1.001807903477   7.154551695160  -1.474400399118 Bohr\n",
            "\n",
            "   8 H     -1.469013457394   5.335055822706   0.971969555904 AA   -2.776033107776  10.081794364180   1.836756262075 Bohr\n",
            "\n",
            "\n",
            "\n",
            "******** <class 'pyscf.scf.hf.SymAdaptedRKS_Scanner'> ********\n",
            "method = SymAdaptedRKS_Scanner\n",
            "initial guess = minao\n",
            "damping factor = 0\n",
            "level_shift factor = 0\n",
            "DIIS = <class 'pyscf.scf.diis.CDIIS'>\n",
            "diis_start_cycle = 1\n",
            "diis_space = 8\n",
            "diis_damp = 0\n",
            "SCF conv_tol = 1e-09\n",
            "SCF conv_tol_grad = None\n",
            "SCF max_cycles = 150\n",
            "direct_scf = True\n",
            "direct_scf_tol = 1e-13\n",
            "chkfile to save SCF result = /content/drive/MyDrive/pyscf/cfcf.chk\n",
            "max_memory 4000 MB (current use 217 MB)\n",
            "XC library pyscf.dft.libxc version 7.0.0\n",
            "    S. Lehtola, C. Steigemann, M. J.T. Oliveira, and M. A.L. Marques.,  SoftwareX 7, 1–5 (2018)\n",
            "XC functionals = B3LYP\n",
            "    P. J. Stephens, F. J. Devlin, C. F. Chabalowski, and M. J. Frisch.,  J. Phys. Chem. 98, 11623 (1994)\n",
            "radial grids: \n",
            "    Treutler-Ahlrichs [JCP 102, 346 (1995); DOI:10.1063/1.469408] (M4) radial grids\n",
            "    \n",
            "becke partition: Becke, JCP 88, 2547 (1988); DOI:10.1063/1.454033\n",
            "pruning grids: <function nwchem_prune at 0x79f60453dda0>\n",
            "grids dens level: 3\n",
            "symmetrized grids: True\n",
            "atomic radii adjust function: <function treutler_atomic_radii_adjust at 0x79f60453e2a0>\n",
            "small_rho_cutoff = 1e-07\n",
            "Freeze 0 electrons in irreps []\n",
            "    34 free electrons in irreps A B\n",
            "Set gradient conv threshold to 3.16228e-05\n",
            "tot grids = 95992\n",
            "init E= -278.290403165866\n",
            "HOMO (A) = -0.320511468741859  LUMO (B) = 0.0820194587555277\n",
            "cycle= 1 E= -278.274105460835  delta_E= 0.0163  |g|= 0.0135  |ddm|= 0.0612\n",
            "HOMO (A) = -0.325131519832685  LUMO (B) = 0.0758113315897603\n",
            "cycle= 2 E= -278.274082315364  delta_E= 2.31e-05  |g|= 0.0198  |ddm|= 0.0249\n",
            "HOMO (A) = -0.32571978538665  LUMO (B) = 0.0760376818759613\n",
            "cycle= 3 E= -278.274146399164  delta_E= -6.41e-05  |g|= 0.000912  |ddm|= 0.0124\n",
            "HOMO (A) = -0.325711374786159  LUMO (B) = 0.0760968449577116\n",
            "cycle= 4 E= -278.274146588645  delta_E= -1.89e-07  |g|= 0.000188  |ddm|= 0.000851\n",
            "HOMO (A) = -0.325660875090867  LUMO (B) = 0.0761441555187023\n",
            "cycle= 5 E= -278.274146595182  delta_E= -6.54e-09  |g|= 0.000103  |ddm|= 0.000258\n",
            "HOMO (A) = -0.3256786637405  LUMO (B) = 0.0761274224537729\n",
            "cycle= 6 E= -278.274146597841  delta_E= -2.66e-09  |g|= 8.8e-06  |ddm|= 0.000101\n",
            "HOMO (A) = -0.325677898733382  LUMO (B) = 0.0761280655609674\n",
            "cycle= 7 E= -278.274146597862  delta_E= -2.1e-11  |g|= 1.24e-06  |ddm|= 1.12e-05\n",
            "HOMO (A) = -0.325678130889144  LUMO (B) = 0.0761278631459777\n",
            "Extra cycle  E= -278.274146597861  delta_E= 3.98e-13  |g|= 6.57e-07  |ddm|= 1.5e-06\n",
            "converged SCF energy = -278.274146597861\n",
            "\n",
            "\n",
            "******** <class 'pyscf.grad.rhf.Gradients_Scanner'> for <class 'pyscf.scf.hf.SymAdaptedRKS_Scanner'> ********\n",
            "unit = Eh/Bohr\n",
            "max_memory 4000 MB (current use 260 MB)\n",
            "grid_response = False\n",
            "--------------- SymAdaptedRKS_Scanner gradients ---------------\n",
            "         x                y                z\n",
            "0 F    -0.0022063433    -0.0001803971    -0.0022219052\n",
            "1 F     0.0022063425     0.0001804054     0.0022219054\n",
            "2 C     0.0017580464     0.0001349288     0.0021913519\n",
            "3 C    -0.0017580527    -0.0001348678    -0.0021913506\n",
            "4 H     0.0001228699    -0.0000822299    -0.0004078881\n",
            "5 H    -0.0001228819     0.0000822005     0.0004078423\n",
            "6 H     0.0001018225     0.0001223876    -0.0004035413\n",
            "7 H    -0.0001018046    -0.0001224158     0.0004035860\n",
            "----------------------------------------------\n",
            "cycle 2: E = -278.274146598  dE = -0.000688381  norm(grad) = 0.00602075\n"
          ]
        },
        {
          "output_type": "stream",
          "name": "stderr",
          "text": [
            "Step    1 : Displace = \u001b[0m1.429e-02\u001b[0m/\u001b[0m1.717e-02\u001b[0m (rms/max) Trust = 1.000e-01 (=) Grad = \u001b[0m2.129e-03\u001b[0m/\u001b[0m3.136e-03\u001b[0m (rms/max) E (change) = -278.2741465979 (\u001b[0m-6.884e-04\u001b[0m) Quality = \u001b[0m0.970\u001b[0m\n",
            "Hessian Eigenvalues: 2.30000e-02 4.99534e-02 5.00000e-02 ... 3.25494e-01 4.86008e-01 5.10858e-01\n"
          ]
        },
        {
          "output_type": "stream",
          "name": "stdout",
          "text": [
            "\n",
            "Geometry optimization cycle 3\n",
            "Cartesian coordinates (Angstrom)\n",
            " Atom        New coordinates             dX        dY        dZ\n",
            "   F   0.266627   4.620390   0.853270   -0.815265 -0.081966 -0.092936\n",
            "   F  -2.842812   4.336194  -0.853270   -0.822037 -0.082540 -0.098810\n",
            "   C  -0.573737   4.557040  -0.248213   -0.818306 -0.082241 -0.094746\n",
            "   C  -2.002447   4.399539   0.248213   -0.818996 -0.082265 -0.097000\n",
            "   H  -0.470912   5.476105  -0.836065   -0.818633 -0.082009 -0.093094\n",
            "   H  -2.105275   3.480471   0.836061   -0.818669 -0.082496 -0.098651\n",
            "   H  -0.288438   3.703423  -0.873327   -0.818572 -0.082603 -0.093107\n",
            "   H  -2.287744   5.253154   0.873330   -0.818731 -0.081902 -0.098639\n",
            "New geometry\n",
            "   1 F      1.085278037460   4.702642897101   0.949143363582 AA    2.050878259805   8.886707137152   1.793621010119 Bohr\n",
            "\n",
            "   2 F     -2.024160861929   4.418447013014  -0.757397226760 AA   -3.825109661109   8.349654750499  -1.431273326082 Bohr\n",
            "\n",
            "   3 C      0.244913920331   4.639292230621  -0.152340268472 AA    0.462820233519   8.766991727695  -0.287881385155 Bohr\n",
            "\n",
            "   4 C     -1.183796099173   4.481791407337   0.344086273439 AA   -2.237050414765   8.469358307296   0.650228820022 Bohr\n",
            "\n",
            "   5 H      0.347739434759   5.558357934811  -0.740191557167 AA    0.657132294406  10.503774199095  -1.398759322760 Bohr\n",
            "\n",
            "   6 H     -1.286623681645   3.562723425662   0.931933621152 AA   -2.431366383689   6.732571532073   1.761099310251 Bohr\n",
            "\n",
            "   7 H      0.530213474989   3.785675462925  -0.777453497329 AA    1.001958255283   7.153889821415  -1.469174184537 Bohr\n",
            "\n",
            "   8 H     -1.469093148514   5.335406204488   0.969203353974 AA   -2.776183702167  10.082456489788   1.831528898022 Bohr\n",
            "\n",
            "\n",
            "\n",
            "******** <class 'pyscf.scf.hf.SymAdaptedRKS_Scanner'> ********\n",
            "method = SymAdaptedRKS_Scanner\n",
            "initial guess = minao\n",
            "damping factor = 0\n",
            "level_shift factor = 0\n",
            "DIIS = <class 'pyscf.scf.diis.CDIIS'>\n",
            "diis_start_cycle = 1\n",
            "diis_space = 8\n",
            "diis_damp = 0\n",
            "SCF conv_tol = 1e-09\n",
            "SCF conv_tol_grad = None\n",
            "SCF max_cycles = 150\n",
            "direct_scf = True\n",
            "direct_scf_tol = 1e-13\n",
            "chkfile to save SCF result = /content/drive/MyDrive/pyscf/cfcf.chk\n",
            "max_memory 4000 MB (current use 214 MB)\n",
            "XC library pyscf.dft.libxc version 7.0.0\n",
            "    S. Lehtola, C. Steigemann, M. J.T. Oliveira, and M. A.L. Marques.,  SoftwareX 7, 1–5 (2018)\n",
            "XC functionals = B3LYP\n",
            "    P. J. Stephens, F. J. Devlin, C. F. Chabalowski, and M. J. Frisch.,  J. Phys. Chem. 98, 11623 (1994)\n",
            "radial grids: \n",
            "    Treutler-Ahlrichs [JCP 102, 346 (1995); DOI:10.1063/1.469408] (M4) radial grids\n",
            "    \n",
            "becke partition: Becke, JCP 88, 2547 (1988); DOI:10.1063/1.454033\n",
            "pruning grids: <function nwchem_prune at 0x79f60453dda0>\n",
            "grids dens level: 3\n",
            "symmetrized grids: True\n",
            "atomic radii adjust function: <function treutler_atomic_radii_adjust at 0x79f60453e2a0>\n",
            "small_rho_cutoff = 1e-07\n",
            "Freeze 0 electrons in irreps []\n",
            "    34 free electrons in irreps A B\n",
            "Set gradient conv threshold to 3.16228e-05\n",
            "tot grids = 95992\n",
            "init E= -278.271386042843\n",
            "HOMO (A) = -0.326631542203603  LUMO (B) = 0.0741582882742913\n",
            "cycle= 1 E= -278.274175810693  delta_E= -0.00279  |g|= 0.00269  |ddm|= 0.00936\n",
            "HOMO (A) = -0.325812362281886  LUMO (B) = 0.0748586188142135\n",
            "cycle= 2 E= -278.274176527348  delta_E= -7.17e-07  |g|= 0.00197  |ddm|= 0.00393\n",
            "HOMO (A) = -0.326154891251736  LUMO (B) = 0.0745757006903787\n",
            "cycle= 3 E= -278.274177238223  delta_E= -7.11e-07  |g|= 0.000402  |ddm|= 0.00182\n",
            "HOMO (A) = -0.326102086796478  LUMO (B) = 0.0746067789562968\n",
            "cycle= 4 E= -278.274177262478  delta_E= -2.43e-08  |g|= 0.000102  |ddm|= 0.000313\n",
            "HOMO (A) = -0.326098735894816  LUMO (B) = 0.0746134273283751\n",
            "cycle= 5 E= -278.274177264323  delta_E= -1.84e-09  |g|= 1.68e-05  |ddm|= 7.52e-05\n",
            "HOMO (A) = -0.326100783457954  LUMO (B) = 0.074611545803151\n",
            "cycle= 6 E= -278.274177264394  delta_E= -7.05e-11  |g|= 1.61e-06  |ddm|= 1.54e-05\n",
            "HOMO (A) = -0.326100536743109  LUMO (B) = 0.0746116365832481\n",
            "Extra cycle  E= -278.274177264395  delta_E= -1.48e-12  |g|= 1.15e-06  |ddm|= 2.35e-06\n",
            "converged SCF energy = -278.274177264395\n",
            "\n",
            "\n",
            "******** <class 'pyscf.grad.rhf.Gradients_Scanner'> for <class 'pyscf.scf.hf.SymAdaptedRKS_Scanner'> ********\n",
            "unit = Eh/Bohr\n",
            "max_memory 4000 MB (current use 263 MB)\n",
            "grid_response = False\n",
            "--------------- SymAdaptedRKS_Scanner gradients ---------------\n",
            "         x                y                z\n",
            "0 F    -0.0003610480    -0.0000248931    -0.0005832342\n",
            "1 F     0.0003610459     0.0000249141     0.0005832346\n",
            "2 C     0.0009051577     0.0000716963     0.0010222443\n",
            "3 C    -0.0009051604    -0.0000716696    -0.0010222438\n",
            "4 H    -0.0001296654    -0.0002821445    -0.0001177887\n",
            "5 H     0.0001296472     0.0002821245     0.0001177542\n",
            "6 H    -0.0001848810     0.0002544622    -0.0001064740\n",
            "7 H     0.0001849030    -0.0002544795     0.0001065077\n",
            "----------------------------------------------\n",
            "cycle 3: E = -278.274177264  dE = -3.06665e-05  norm(grad) = 0.00226324\n"
          ]
        },
        {
          "output_type": "stream",
          "name": "stderr",
          "text": [
            "Step    2 : Displace = \u001b[0m2.666e-03\u001b[0m/\u001b[0m4.514e-03\u001b[0m (rms/max) Trust = 1.414e-01 (\u001b[92m+\u001b[0m) Grad = \u001b[0m8.002e-04\u001b[0m/\u001b[0m1.367e-03\u001b[0m (rms/max) E (change) = -278.2741772644 (\u001b[0m-3.067e-05\u001b[0m) Quality = \u001b[0m1.223\u001b[0m\n",
            "Hessian Eigenvalues: 2.30000e-02 4.82727e-02 5.00000e-02 ... 3.25494e-01 4.19692e-01 4.86008e-01\n"
          ]
        },
        {
          "output_type": "stream",
          "name": "stdout",
          "text": [
            "\n",
            "Geometry optimization cycle 4\n",
            "Cartesian coordinates (Angstrom)\n",
            " Atom        New coordinates             dX        dY        dZ\n",
            "   F   0.265791   4.620251   0.855784   -0.819487 -0.082392 -0.093359\n",
            "   F  -2.841976   4.336333  -0.855784   -0.817815 -0.082114 -0.098387\n",
            "   C  -0.573829   4.557026  -0.248008   -0.818743 -0.082267 -0.095667\n",
            "   C  -2.002355   4.399552   0.248008   -0.818559 -0.082239 -0.096079\n",
            "   H  -0.469401   5.477148  -0.834231   -0.817140 -0.081210 -0.094040\n",
            "   H  -2.106785   3.479428   0.834228   -0.820162 -0.083296 -0.097706\n",
            "   H  -0.286738   3.702634  -0.871532   -0.816952 -0.083041 -0.094079\n",
            "   H  -2.289444   5.253942   0.871535   -0.820350 -0.081464 -0.097668\n",
            "New geometry\n",
            "   1 F      1.084441888708   4.702503376405   0.951657093040 AA    2.049298167664   8.886443481249   1.798371270346 Bohr\n",
            "\n",
            "   2 F     -2.023324589562   4.418585332813  -0.759910981464 AA   -3.823529335370   8.349916137036  -1.436023634016 Bohr\n",
            "\n",
            "   3 C      0.244822261931   4.639278337115  -0.152134641380 AA    0.462647024245   8.766965472774  -0.287492806267 Bohr\n",
            "\n",
            "   4 C     -1.183704413108   4.481805032083   0.343880640697 AA   -2.236877153212   8.469384054335   0.649840230457 Bohr\n",
            "\n",
            "   5 H      0.349250290172   5.559401007724  -0.738358154635 AA    0.659987397350  10.505745321229  -1.395294694100 Bohr\n",
            "\n",
            "   6 H     -1.288134252587   3.561680495222   0.930100878524 AA   -2.434220949060   6.730600679176   1.757635928627 Bohr\n",
            "\n",
            "   7 H      0.531912594467   3.784886675811  -0.775659261586 AA    1.005169125749   7.152399229797  -1.465783570381 Bohr\n",
            "\n",
            "   8 H     -1.470792578336   5.336195100483   0.967408463613 AA   -2.779395159099  10.083947287159   1.828137046814 Bohr\n",
            "\n",
            "\n",
            "\n",
            "******** <class 'pyscf.scf.hf.SymAdaptedRKS_Scanner'> ********\n",
            "method = SymAdaptedRKS_Scanner\n",
            "initial guess = minao\n",
            "damping factor = 0\n",
            "level_shift factor = 0\n",
            "DIIS = <class 'pyscf.scf.diis.CDIIS'>\n",
            "diis_start_cycle = 1\n",
            "diis_space = 8\n",
            "diis_damp = 0\n",
            "SCF conv_tol = 1e-09\n",
            "SCF conv_tol_grad = None\n",
            "SCF max_cycles = 150\n",
            "direct_scf = True\n",
            "direct_scf_tol = 1e-13\n",
            "chkfile to save SCF result = /content/drive/MyDrive/pyscf/cfcf.chk\n",
            "max_memory 4000 MB (current use 218 MB)\n",
            "XC library pyscf.dft.libxc version 7.0.0\n",
            "    S. Lehtola, C. Steigemann, M. J.T. Oliveira, and M. A.L. Marques.,  SoftwareX 7, 1–5 (2018)\n",
            "XC functionals = B3LYP\n",
            "    P. J. Stephens, F. J. Devlin, C. F. Chabalowski, and M. J. Frisch.,  J. Phys. Chem. 98, 11623 (1994)\n",
            "radial grids: \n",
            "    Treutler-Ahlrichs [JCP 102, 346 (1995); DOI:10.1063/1.469408] (M4) radial grids\n",
            "    \n",
            "becke partition: Becke, JCP 88, 2547 (1988); DOI:10.1063/1.454033\n",
            "pruning grids: <function nwchem_prune at 0x79f60453dda0>\n",
            "grids dens level: 3\n",
            "symmetrized grids: True\n",
            "atomic radii adjust function: <function treutler_atomic_radii_adjust at 0x79f60453e2a0>\n",
            "small_rho_cutoff = 1e-07\n",
            "Freeze 0 electrons in irreps []\n",
            "    34 free electrons in irreps A B\n",
            "Set gradient conv threshold to 3.16228e-05\n",
            "tot grids = 95992\n",
            "init E= -278.27264310307\n",
            "HOMO (A) = -0.326549303491224  LUMO (B) = 0.0736831937757314\n",
            "cycle= 1 E= -278.274181823519  delta_E= -0.00154  |g|= 0.0019  |ddm|= 0.00555\n",
            "HOMO (A) = -0.326037481652102  LUMO (B) = 0.0740379364282197\n",
            "cycle= 2 E= -278.274181743645  delta_E= 7.99e-08  |g|= 0.00222  |ddm|= 0.00308\n",
            "HOMO (A) = -0.326205269699611  LUMO (B) = 0.0739603622730537\n",
            "cycle= 3 E= -278.274182478217  delta_E= -7.35e-07  |g|= 0.000353  |ddm|= 0.00155\n",
            "HOMO (A) = -0.326215773791567  LUMO (B) = 0.0739359737153668\n",
            "cycle= 4 E= -278.274182498763  delta_E= -2.05e-08  |g|= 7.77e-05  |ddm|= 0.000254\n",
            "HOMO (A) = -0.326205380274166  LUMO (B) = 0.0739469586519614\n",
            "cycle= 5 E= -278.274182500193  delta_E= -1.43e-09  |g|= 1.12e-05  |ddm|= 7.09e-05\n",
            "HOMO (A) = -0.326207591511748  LUMO (B) = 0.0739452372465977\n",
            "cycle= 6 E= -278.274182500222  delta_E= -2.93e-11  |g|= 1.1e-06  |ddm|= 1.17e-05\n",
            "HOMO (A) = -0.326207456170177  LUMO (B) = 0.0739452627826428\n",
            "Extra cycle  E= -278.274182500222  delta_E= -5.68e-13  |g|= 1.01e-06  |ddm|= 1.54e-06\n",
            "converged SCF energy = -278.274182500222\n",
            "\n",
            "\n",
            "******** <class 'pyscf.grad.rhf.Gradients_Scanner'> for <class 'pyscf.scf.hf.SymAdaptedRKS_Scanner'> ********\n",
            "unit = Eh/Bohr\n",
            "max_memory 4000 MB (current use 261 MB)\n",
            "grid_response = False\n",
            "--------------- SymAdaptedRKS_Scanner gradients ---------------\n",
            "         x                y                z\n",
            "0 F     0.0000413392     0.0000051552    -0.0000428066\n",
            "1 F    -0.0000413392    -0.0000051552     0.0000428066\n",
            "2 C     0.0001630560     0.0000139950     0.0001326807\n",
            "3 C    -0.0001630560    -0.0000139950    -0.0001326807\n",
            "4 H    -0.0000397332    -0.0000144358    -0.0000423792\n",
            "5 H     0.0000397332     0.0000144358     0.0000423792\n",
            "6 H    -0.0000420213     0.0000077923    -0.0000419119\n",
            "7 H     0.0000420213    -0.0000077923     0.0000419119\n",
            "----------------------------------------------\n",
            "cycle 4: E = -278.2741825  dE = -5.23583e-06  norm(grad) = 0.000332028\n"
          ]
        },
        {
          "output_type": "stream",
          "name": "stderr",
          "text": [
            "Step    3 : Displace = \u001b[92m9.297e-04\u001b[0m/\u001b[92m1.046e-03\u001b[0m (rms/max) Trust = 2.000e-01 (\u001b[92m+\u001b[0m) Grad = \u001b[92m1.174e-04\u001b[0m/\u001b[92m2.107e-04\u001b[0m (rms/max) E (change) = -278.2741825002 (\u001b[0m-5.236e-06\u001b[0m) Quality = \u001b[0m1.132\u001b[0m\n",
            "Hessian Eigenvalues: 2.30000e-02 3.71076e-02 5.00000e-02 ... 3.25494e-01 4.50836e-01 4.86008e-01\n"
          ]
        },
        {
          "output_type": "stream",
          "name": "stdout",
          "text": [
            "\n",
            "Geometry optimization cycle 5\n",
            "Cartesian coordinates (Angstrom)\n",
            " Atom        New coordinates             dX        dY        dZ\n",
            "   F   0.264331   4.620050   0.858162   -0.820111 -0.082453 -0.093495\n",
            "   F  -2.840515   4.336533  -0.858162   -0.817191 -0.082052 -0.098251\n",
            "   C  -0.573677   4.557024  -0.247174   -0.818499 -0.082255 -0.095040\n",
            "   C  -2.002507   4.399554   0.247174   -0.818803 -0.082251 -0.096706\n",
            "   H  -0.468114   5.477407  -0.832740   -0.817365 -0.081994 -0.094382\n",
            "   H  -2.108072   3.479169   0.832737   -0.819937 -0.082511 -0.097364\n",
            "   H  -0.285420   3.702581  -0.870048   -0.817333 -0.082305 -0.094389\n",
            "   H  -2.290762   5.253995   0.870051   -0.819970 -0.082200 -0.097357\n",
            "New geometry\n",
            "   1 F      1.552423001047   0.141758718696   0.858162130170 AA    2.933654301455   0.267885154104   1.621691396495 Bohr\n",
            "\n",
            "   2 F     -1.552423001047  -0.141758718696  -0.858162130170 AA   -2.933654301455  -0.267885154104  -1.621691396495 Bohr\n",
            "\n",
            "   3 C      0.714414927396   0.078734739422  -0.247174379773 AA    1.350048552079   0.148787093997  -0.467091882780 Bohr\n",
            "\n",
            "   4 C     -0.714414927396  -0.078734739422   0.247174379773 AA   -1.350048552079  -0.148787093997   0.467091882780 Bohr\n",
            "\n",
            "   5 H      0.819978716779   0.999118640423  -0.832738570493 AA    1.549535202684   1.888060596347  -1.573647831594 Bohr\n",
            "\n",
            "   6 H     -0.819978716779  -0.999118640423   0.832738570493 AA   -1.549535202684  -1.888060596347   1.573647831594 Bohr\n",
            "\n",
            "   7 H      1.002671063064  -0.775707006537  -0.870049458193 AA    1.894773702217  -1.465873795260  -1.644155190812 Bohr\n",
            "\n",
            "   8 H     -1.002671063064   0.775707006537   0.870049458193 AA   -1.894773702217   1.465873795260   1.644155190812 Bohr\n",
            "\n",
            "\n",
            "\n",
            "******** <class 'pyscf.scf.hf.SymAdaptedRKS_Scanner'> ********\n",
            "method = SymAdaptedRKS_Scanner\n",
            "initial guess = minao\n",
            "damping factor = 0\n",
            "level_shift factor = 0\n",
            "DIIS = <class 'pyscf.scf.diis.CDIIS'>\n",
            "diis_start_cycle = 1\n",
            "diis_space = 8\n",
            "diis_damp = 0\n",
            "SCF conv_tol = 1e-09\n",
            "SCF conv_tol_grad = None\n",
            "SCF max_cycles = 150\n",
            "direct_scf = True\n",
            "direct_scf_tol = 1e-13\n",
            "chkfile to save SCF result = /content/drive/MyDrive/pyscf/cfcf.chk\n",
            "max_memory 4000 MB (current use 214 MB)\n",
            "XC library pyscf.dft.libxc version 7.0.0\n",
            "    S. Lehtola, C. Steigemann, M. J.T. Oliveira, and M. A.L. Marques.,  SoftwareX 7, 1–5 (2018)\n",
            "XC functionals = B3LYP\n",
            "    P. J. Stephens, F. J. Devlin, C. F. Chabalowski, and M. J. Frisch.,  J. Phys. Chem. 98, 11623 (1994)\n",
            "radial grids: \n",
            "    Treutler-Ahlrichs [JCP 102, 346 (1995); DOI:10.1063/1.469408] (M4) radial grids\n",
            "    \n",
            "becke partition: Becke, JCP 88, 2547 (1988); DOI:10.1063/1.454033\n",
            "pruning grids: <function nwchem_prune at 0x79f60453dda0>\n",
            "grids dens level: 3\n",
            "symmetrized grids: True\n",
            "atomic radii adjust function: <function treutler_atomic_radii_adjust at 0x79f60453e2a0>\n",
            "small_rho_cutoff = 1e-07\n",
            "Freeze 0 electrons in irreps []\n",
            "    34 free electrons in irreps A B\n",
            "Set gradient conv threshold to 3.16228e-05\n",
            "tot grids = 95992\n",
            "init E= -278.274025610422\n",
            "HOMO (A) = -0.326257526248327  LUMO (B) = 0.0738193257354922\n",
            "cycle= 1 E= -278.274182688704  delta_E= -0.000157  |g|= 0.000565  |ddm|= 0.00345\n",
            "HOMO (A) = -0.326203448756527  LUMO (B) = 0.0738380139754748\n",
            "cycle= 2 E= -278.274182717665  delta_E= -2.9e-08  |g|= 0.000547  |ddm|= 0.000872\n",
            "HOMO (A) = -0.326238154868758  LUMO (B) = 0.0738268423353017\n",
            "cycle= 3 E= -278.274182761656  delta_E= -4.4e-08  |g|= 0.000153  |ddm|= 0.000421\n",
            "HOMO (A) = -0.326235408174854  LUMO (B) = 0.0738232763866653\n",
            "cycle= 4 E= -278.27418276541  delta_E= -3.75e-09  |g|= 2.04e-05  |ddm|= 9.96e-05\n",
            "HOMO (A) = -0.326232230175756  LUMO (B) = 0.0738268222751096\n",
            "cycle= 5 E= -278.274182765491  delta_E= -8.05e-11  |g|= 9.43e-06  |ddm|= 2.53e-05\n",
            "HOMO (A) = -0.326235183247293  LUMO (B) = 0.0738239104934704\n",
            "Extra cycle  E= -278.274182765488  delta_E= 2.56e-12  |g|= 1.04e-05  |ddm|= 1.69e-05\n",
            "converged SCF energy = -278.274182765488\n",
            "\n",
            "\n",
            "******** <class 'pyscf.grad.rhf.Gradients_Scanner'> for <class 'pyscf.scf.hf.SymAdaptedRKS_Scanner'> ********\n",
            "unit = Eh/Bohr\n",
            "max_memory 4000 MB (current use 261 MB)\n",
            "grid_response = False\n",
            "--------------- SymAdaptedRKS_Scanner gradients ---------------\n",
            "         x                y                z\n",
            "0 F     0.0000599247     0.0000054359     0.0000348439\n",
            "1 F    -0.0000599247    -0.0000054359    -0.0000348439\n",
            "2 C    -0.0000578281    -0.0000037539    -0.0001045867\n",
            "3 C     0.0000578281     0.0000037539     0.0001045867\n",
            "4 H    -0.0000137306     0.0000113547    -0.0000004593\n",
            "5 H     0.0000137306    -0.0000113547     0.0000004593\n",
            "6 H    -0.0000111327    -0.0000138836    -0.0000009899\n",
            "7 H     0.0000111327     0.0000138836     0.0000009899\n",
            "----------------------------------------------\n",
            "cycle 5: E = -278.274182765  dE = -2.65266e-07  norm(grad) = 0.000198829\n"
          ]
        },
        {
          "output_type": "stream",
          "name": "stderr",
          "text": [
            "Step    4 : Displace = \u001b[92m2.303e-04\u001b[0m/\u001b[92m3.545e-04\u001b[0m (rms/max) Trust = 2.828e-01 (\u001b[92m+\u001b[0m) Grad = \u001b[92m7.030e-05\u001b[0m/\u001b[92m1.196e-04\u001b[0m (rms/max) E (change) = -278.2741827655 (\u001b[92m-2.653e-07\u001b[0m) Quality = \u001b[0m0.532\u001b[0m\n",
            "Hessian Eigenvalues: 2.30000e-02 3.71076e-02 5.00000e-02 ... 3.25494e-01 4.50836e-01 4.86008e-01\n",
            "Converged! =D\n",
            "\n",
            "    #==========================================================================#\n",
            "    #| If this code has benefited your research, please support us by citing: |#\n",
            "    #|                                                                        |#\n",
            "    #| Wang, L.-P.; Song, C.C. (2016) \"Geometry optimization made simple with |#\n",
            "    #| translation and rotation coordinates\", J. Chem, Phys. 144, 214108.     |#\n",
            "    #| http://dx.doi.org/10.1063/1.4952956                                    |#\n",
            "    #==========================================================================#\n",
            "    Time elapsed since start of run_optimizer: 82.348 seconds\n"
          ]
        },
        {
          "output_type": "execute_result",
          "data": {
            "text/plain": [
              "<pyscf.gto.mole.Mole at 0x79f60527edd0>"
            ]
          },
          "metadata": {},
          "execution_count": 20
        }
      ]
    },
    {
      "cell_type": "code",
      "source": [
        "# エネルギー収束のプロット\n",
        "plt.figure(figsize=(10, 5))\n",
        "plt.plot(energies, marker='o')\n",
        "plt.title('Energy Convergence During Geometry Optimization')\n",
        "plt.xlabel('Optimization Step')\n",
        "plt.ylabel('Total Energy (Hartree)')\n",
        "plt.grid(True)\n",
        "plt.show()"
      ],
      "metadata": {
        "colab": {
          "base_uri": "https://localhost:8080/",
          "height": 487
        },
        "id": "F172zMMT_3WV",
        "outputId": "a260ecb3-217c-4762-f1a3-51f561a9b2f2"
      },
      "execution_count": 21,
      "outputs": [
        {
          "output_type": "display_data",
          "data": {
            "text/plain": [
              "<Figure size 1000x500 with 1 Axes>"
            ],
            "image/png": "[encoded data removed]"
          },
          "metadata": {}
        }
      ]
    },
    {
      "cell_type": "code",
      "source": [
        "# ジオメトリーの保存\n",
        "for i, coords in enumerate(geometries):\n",
        "    filename = f\"{path}_geometry_step_{i+1}.xyz\"\n",
        "    with open(filename, 'w') as f:\n",
        "        f.write(f\"{mol.natm}\\\\\\\\n\")\n",
        "        f.write(f\"Step {i+1} Energy: {energies[i]}\\\\\\\\n\")\n",
        "\n",
        "        for j in range(mol.natm):\n",
        "            symbol = mol.atom_pure_symbol(j)\n",
        "            x, y, z = coords[j]\n",
        "            f.write(f\"{symbol} {x:.6f} {y:.6f} {z:.6f}\\\\\\\\n\")\n",
        "print(\"All geometries have been saved.\")"
      ],
      "metadata": {
        "colab": {
          "base_uri": "https://localhost:8080/"
        },
        "id": "ju7OdLdb1n-S",
        "outputId": "a9cb78e3-460f-4f75-fdaf-e9b0d3f71621"
      },
      "execution_count": 22,
      "outputs": [
        {
          "output_type": "stream",
          "name": "stdout",
          "text": [
            "All geometries have been saved.\n"
          ]
        }
      ]
    },
    {
      "cell_type": "markdown",
      "source": [
        "## 分子構造の可視化"
      ],
      "metadata": {
        "id": "vGaKLU3Sw8qd"
      }
    },
    {
      "cell_type": "code",
      "source": [
        "import ipywidgets\n",
        "from ipywidgets import interact\n",
        "import py3Dmol\n",
        "\n",
        "# モデルのXYZ座標をファイルから読み込む\n",
        "def read_xyz(file_path):\n",
        "    try:\n",
        "        with open(file_path, 'r') as file:\n",
        "            return file.read()\n",
        "    except FileNotFoundError:\n",
        "        print(f\"Error: File not found at {file_path}. Please check the file path and ensure the file exists.\")\n",
        "        return \"\" # ファイルが見つからない場合は空文字列を返す\n",
        "\n",
        "# py3Dmolでのビューアを設定する関数\n",
        "def show_structure(xyz_content, style):\n",
        "    if not xyz_content: # XYZコンテンツが空の場合は表示しない\n",
        "        print(\"No structure data to display.\")\n",
        "        return\n",
        "\n",
        "    view = py3Dmol.view(width=800, height=400)\n",
        "    view.addModel(xyz_content, 'xyz')\n",
        "\n",
        "    if style == 'ball and stick':\n",
        "        view.setStyle({'stick':{}, 'sphere':{'radius': 0.5}})\n",
        "    elif style == 'stick':\n",
        "        view.setStyle({'stick': {}})\n",
        "    elif style == 'line':\n",
        "        view.setStyle({'line': {'linewidth': 5}})\n",
        "    elif style == 'sphere':\n",
        "        view.setStyle({'sphere': {}})\n",
        "\n",
        "    view.setBackgroundColor('white')\n",
        "    view.zoomTo()\n",
        "    return view.show()\n",
        "\n",
        "# ファイルパスを設定\n",
        "filename_template = f\"{path}_geometry_step_\"\n",
        "\n",
        "# 最適化ステップの数に応じたインタラクション\n",
        "def style_selector(idx, s):\n",
        "    filename = f\"{filename_template}{idx}.xyz\"\n",
        "    print(f\"Loading file: {filename}\")\n",
        "    xyz_content = read_xyz(filename)\n",
        "    show_structure(xyz_content, s)\n",
        "\n",
        "actual_max_steps = 5\n",
        "\n",
        "# インタラクションウィジェットの設定\n",
        "interact(style_selector,\n",
        "         idx=ipywidgets.IntSlider(min=1, max=actual_max_steps, step=1, value=1, description='Step'),\n",
        "         s=ipywidgets.Dropdown(\n",
        "             options=['ball and stick', 'stick','line', 'sphere'],\n",
        "             value='ball and stick',\n",
        "             description='Style:')\n",
        "        )"
      ],
      "metadata": {
        "colab": {
          "base_uri": "https://localhost:8080/",
          "height": 586,
          "referenced_widgets": [
            "8bfea2b3cbff481f973704428b7ec10a",
            "4f11e71d7c244f5f9f5b5b893f400024",
            "5011887ee4fb41a5958eb6d85a0aa61f",
            "e22ba5d2bd7a47589b7554afe346f445",
            "7c787e90c5ca4f149e5b53dd51b9562d",
            "e8fc6ea26be24b8e99c77dc3bb05c11a",
            "c3062ca6c7ce47a2b8680ad280496270",
            "2e027e55f2b04670baa66f88aaa811c0",
            "d9a87e9b45ad474290b955258009bb57",
            "351db1ed258d4abdb43d7b3680ab0f28"
          ]
        },
        "id": "dwNWDpRY47ze",
        "outputId": "adcee112-93de-4223-e3f8-6e89c2676bf0"
      },
      "execution_count": 23,
      "outputs": [
        {
          "output_type": "display_data",
          "data": {
            "text/plain": [
              "interactive(children=(IntSlider(value=1, description='Step', max=5, min=1), Dropdown(description='Style:', opt…"
            ],
            "application/vnd.jupyter.widget-view+json": {
              "version_major": 2,
              "version_minor": 0,
              "model_id": "8bfea2b3cbff481f973704428b7ec10a"
            }
          },
          "metadata": {}
        },
        {
          "output_type": "execute_result",
          "data": {
            "text/plain": [
              "<function __main__.style_selector(idx, s)>"
            ],
            "text/html": [
              "<div style=\"max-width:800px; border: 1px solid var(--colab-border-color);\"><style>\n",
              "      pre.function-repr-contents {\n",
              "        overflow-x: auto;\n",
              "        padding: 8px 12px;\n",
              "        max-height: 500px;\n",
              "      }\n",
              "\n",
              "      pre.function-repr-contents.function-repr-contents-collapsed {\n",
              "        cursor: pointer;\n",
              "        max-height: 100px;\n",
              "      }\n",
              "    </style>\n",
              "    <pre style=\"white-space: initial; background:\n",
              "         var(--colab-secondary-surface-color); padding: 8px 12px;\n",
              "         border-bottom: 1px solid var(--colab-border-color);\"><b>style_selector</b><br/>def style_selector(idx, s)</pre><pre class=\"function-repr-contents function-repr-contents-collapsed\" style=\"\"><a class=\"filepath\" style=\"display:none\" href=\"#\">/content/&lt;ipython-input-23-3912424600&gt;</a>&lt;no docstring&gt;</pre></div>"
            ]
          },
          "metadata": {},
          "execution_count": 23
        }
      ]
    },
    {
      "cell_type": "markdown",
      "source": [
        "## 振動数計算の実行"
      ],
      "metadata": {
        "id": "RgmMe2o0MNQ2"
      }
    },
    {
      "cell_type": "code",
      "source": [
        "from pyscf import dft, lib\n",
        "from pyscf.hessian import rks, thermo"
      ],
      "metadata": {
        "id": "62_DMLFo8YWw"
      },
      "execution_count": 25,
      "outputs": []
    },
    {
      "cell_type": "code",
      "source": [
        "# チェックポイントファイルから分子の読み込み\n",
        "mol = lib.chkfile.load_mol(path + '.chk')"
      ],
      "metadata": {
        "id": "At2rO2s1Mn9g"
      },
      "execution_count": 26,
      "outputs": []
    },
    {
      "cell_type": "code",
      "source": [
        "# DFT計算の設定\n",
        "mf = dft.RKS(mol)\n",
        "mf.chkfile = path + '.chk'\n",
        "mf.xc = \"B3LYP\""
      ],
      "metadata": {
        "id": "38in2uDYM0QW"
      },
      "execution_count": 28,
      "outputs": []
    },
    {
      "cell_type": "code",
      "source": [
        "# 振動数計算の実行\n",
        "mf.kernel()"
      ],
      "metadata": {
        "colab": {
          "base_uri": "https://localhost:8080/"
        },
        "id": "TWFV9jD2NZtd",
        "outputId": "c3d8c745-d762-414f-b58d-080d59ba64f9"
      },
      "execution_count": 29,
      "outputs": [
        {
          "output_type": "stream",
          "name": "stdout",
          "text": [
            "\n",
            "\n",
            "******** <class 'pyscf.dft.rks_symm.SymAdaptedRKS'> ********\n",
            "method = SymAdaptedRKS\n",
            "initial guess = minao\n",
            "damping factor = 0\n",
            "level_shift factor = 0\n",
            "DIIS = <class 'pyscf.scf.diis.CDIIS'>\n",
            "diis_start_cycle = 1\n",
            "diis_space = 8\n",
            "diis_damp = 0\n",
            "SCF conv_tol = 1e-09\n",
            "SCF conv_tol_grad = None\n",
            "SCF max_cycles = 50\n",
            "direct_scf = True\n",
            "direct_scf_tol = 1e-13\n",
            "chkfile to save SCF result = /content/drive/MyDrive/pyscf/cfcf.chk\n",
            "max_memory 4000 MB (current use 237 MB)\n",
            "XC library pyscf.dft.libxc version 7.0.0\n",
            "    S. Lehtola, C. Steigemann, M. J.T. Oliveira, and M. A.L. Marques.,  SoftwareX 7, 1–5 (2018)\n",
            "XC functionals = B3LYP\n",
            "    P. J. Stephens, F. J. Devlin, C. F. Chabalowski, and M. J. Frisch.,  J. Phys. Chem. 98, 11623 (1994)\n",
            "radial grids: \n",
            "    Treutler-Ahlrichs [JCP 102, 346 (1995); DOI:10.1063/1.469408] (M4) radial grids\n",
            "    \n",
            "becke partition: Becke, JCP 88, 2547 (1988); DOI:10.1063/1.454033\n",
            "pruning grids: <function nwchem_prune at 0x79f60453dda0>\n",
            "grids dens level: 3\n",
            "symmetrized grids: C2\n",
            "atomic radii adjust function: <function treutler_atomic_radii_adjust at 0x79f60453e2a0>\n",
            "small_rho_cutoff = 1e-07\n",
            "Freeze 0 electrons in irreps []\n",
            "    34 free electrons in irreps A B\n",
            "Set gradient conv threshold to 3.16228e-05\n",
            "Initial guess from minao.\n",
            "tot grids = 95992\n",
            "init E= -278.469758780947\n",
            "HOMO (B) = -0.362987010461793  LUMO (B) = -0.0047726442519153\n",
            "cycle= 1 E= -278.203749092401  delta_E= 0.266  |g|= 0.663  |ddm|= 2.36\n",
            "HOMO (A) = -0.246991644593886  LUMO (B) = 0.0873710497486442\n",
            "cycle= 2 E= -278.121386235132  delta_E= 0.0824  |g|= 0.994  |ddm|= 1.12\n",
            "HOMO (A) = -0.319146464426086  LUMO (B) = 0.0796082094699081\n",
            "cycle= 3 E= -278.273408680535  delta_E= -0.152  |g|= 0.0563  |ddm|= 0.689\n",
            "HOMO (A) = -0.329108869530738  LUMO (B) = 0.0707022209330883\n",
            "cycle= 4 E= -278.274080825336  delta_E= -0.000672  |g|= 0.0202  |ddm|= 0.0627\n",
            "HOMO (A) = -0.325888438226211  LUMO (B) = 0.0741181950958072\n",
            "cycle= 5 E= -278.274181620872  delta_E= -0.000101  |g|= 0.00244  |ddm|= 0.0192\n",
            "HOMO (A) = -0.326225332494357  LUMO (B) = 0.0738287190937956\n",
            "cycle= 6 E= -278.274182763582  delta_E= -1.14e-06  |g|= 7.99e-05  |ddm|= 0.00182\n",
            "HOMO (A) = -0.326234099656419  LUMO (B) = 0.073825854759138\n",
            "cycle= 7 E= -278.274182765404  delta_E= -1.82e-09  |g|= 2.31e-05  |ddm|= 0.000145\n",
            "HOMO (A) = -0.326234113442505  LUMO (B) = 0.0738251253514917\n",
            "cycle= 8 E= -278.274182765526  delta_E= -1.22e-10  |g|= 2.39e-06  |ddm|= 2.46e-05\n",
            "HOMO (A) = -0.326233519676945  LUMO (B) = 0.0738255294673865\n",
            "Extra cycle  E= -278.274182765529  delta_E= -2.84e-12  |g|= 1.95e-06  |ddm|= 3.53e-06\n",
            "converged SCF energy = -278.274182765529\n"
          ]
        },
        {
          "output_type": "execute_result",
          "data": {
            "text/plain": [
              "np.float64(-278.27418276552885)"
            ]
          },
          "metadata": {},
          "execution_count": 29
        }
      ]
    },
    {
      "cell_type": "code",
      "source": [
        "# 振動数計算のためのHessianオブジェクトの作成\n",
        "hessian = rks.Hessian(mf)"
      ],
      "metadata": {
        "id": "5teGsNaINpkv"
      },
      "execution_count": 30,
      "outputs": []
    },
    {
      "cell_type": "code",
      "source": [
        "# 振動数計算の実行\n",
        "freqs = hessian.kernel()\n",
        "freq_info = thermo.harmonic_analysis(mf.mol, freqs)"
      ],
      "metadata": {
        "id": "R_vF-9TiOA7G"
      },
      "execution_count": 31,
      "outputs": []
    },
    {
      "cell_type": "code",
      "source": [
        "# 振動数計算の結果を表示する関数\n",
        "def display_vibrational_frequencies(freq_info):\n",
        "    # エラーの有無に応じたメッセージ表示\n",
        "    if freq_info['freq_error'] == 0:\n",
        "        print(\"振動数計算は正常に完了しました。\")\n",
        "    else:\n",
        "        print(\"振動数計算結果に虚振動がありました。\")\n",
        "\n",
        "    # 振動数の表示\n",
        "    print(\"振動数の結果:\")\n",
        "    print(\"{:>10} {:>15} {:>15}\".format(\"Index\", \"Freq (cm^-1)\", \"Type\"))\n",
        "\n",
        "    for i, (freq, wavenumber) in enumerate(zip(freq_info['freq_au'], freq_info['freq_wavenumber'])):\n",
        "        if freq >= 0:\n",
        "            freq_type = \"Real\"\n",
        "        else:\n",
        "            freq_type = \"Imaginary\"\n",
        "\n",
        "        print(\"{:>10} {:>15.2f} {:>15}\".format(i + 1, wavenumber, freq_type))"
      ],
      "metadata": {
        "id": "qWcGGWIoOrJW"
      },
      "execution_count": 32,
      "outputs": []
    },
    {
      "cell_type": "code",
      "source": [
        "# 結果を表示\n",
        "display_vibrational_frequencies(freq_info)"
      ],
      "metadata": {
        "colab": {
          "base_uri": "https://localhost:8080/"
        },
        "id": "XQYLyiSrQEdv",
        "outputId": "8fea55c9-c125-4dc2-cca0-d4a1c7f7a0a2"
      },
      "execution_count": 33,
      "outputs": [
        {
          "output_type": "stream",
          "name": "stdout",
          "text": [
            "振動数計算は正常に完了しました。\n",
            "振動数の結果:\n",
            "     Index    Freq (cm^-1)            Type\n",
            "         1          134.43            Real\n",
            "         2          274.21            Real\n",
            "         3          455.78            Real\n",
            "         4          824.11            Real\n",
            "         5         1084.61            Real\n",
            "         6         1087.92            Real\n",
            "         7         1098.03            Real\n",
            "         8         1191.10            Real\n",
            "         9         1239.86            Real\n",
            "        10         1311.98            Real\n",
            "        11         1381.64            Real\n",
            "        12         1479.14            Real\n",
            "        13         1549.22            Real\n",
            "        14         1560.67            Real\n",
            "        15         3060.93            Real\n",
            "        16         3066.67            Real\n",
            "        17         3101.35            Real\n",
            "        18         3127.09            Real\n"
          ]
        }
      ]
    },
    {
      "cell_type": "code",
      "source": [],
      "metadata": {
        "id": "oTQDf7p_QFjR"
      },
      "execution_count": null,
      "outputs": []
    }
  ]
}
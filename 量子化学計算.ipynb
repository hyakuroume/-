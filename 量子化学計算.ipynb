{
  "nbformat": 4,
  "nbformat_minor": 0,
  "metadata": {
    "colab": {
      "provenance": [],
      "authorship_tag": "ABX9TyML7Geddi69eJqMPPvQfWtv",
      "include_colab_link": true
    },
    "kernelspec": {
      "name": "python3",
      "display_name": "Python 3"
    },
    "language_info": {
      "name": "python"
    }
  },
  "cells": [
    {
      "cell_type": "markdown",
      "metadata": {
        "id": "view-in-github",
        "colab_type": "text"
      },
      "source": [
        "<a href=\"https://colab.research.google.com/github/hyakuroume/-/blob/main/%E9%87%8F%E5%AD%90%E5%8C%96%E5%AD%A6%E8%A8%88%E7%AE%97.ipynb\" target=\"_parent\"><img src=\"https://colab.research.google.com/assets/colab-badge.svg\" alt=\"Open In Colab\"/></a>"
      ]
    },
    {
      "cell_type": "code",
      "execution_count": 1,
      "metadata": {
        "id": "mszZaPCoJZfl"
      },
      "outputs": [],
      "source": [
        "!pip install pyscf > /dev/null"
      ]
    },
    {
      "cell_type": "code",
      "source": [
        "from pyscf import gto, scf, dft"
      ],
      "metadata": {
        "id": "GmdlZva5Jf4n"
      },
      "execution_count": 6,
      "outputs": []
    },
    {
      "cell_type": "code",
      "source": [
        "# 分子の定義\n",
        "mol = gto.M(atom=\"H 0 0 0; F 0 0 1.1\", basis=\"ccpvdz\")"
      ],
      "metadata": {
        "id": "1K8Q-23eJj1i"
      },
      "execution_count": 3,
      "outputs": []
    },
    {
      "cell_type": "code",
      "source": [
        "# hartree-fock計算の実行\n",
        "mf = scf.RHF(mol)\n",
        "energy = mf.kernel()\n",
        "\n",
        "print(\"Energy:\", energy)"
      ],
      "metadata": {
        "colab": {
          "base_uri": "https://localhost:8080/"
        },
        "id": "ABwvCAsQR8xU",
        "outputId": "5a95f001-6348-4f39-f23c-ff7dc1ea7253"
      },
      "execution_count": 4,
      "outputs": [
        {
          "output_type": "stream",
          "name": "stdout",
          "text": [
            "converged SCF energy = -99.9873974403488\n",
            "Energy: -99.9873974403488\n"
          ]
        }
      ]
    },
    {
      "cell_type": "code",
      "source": [
        "# H2O分子の定義\n",
        "h2o_mol = gto.M(\n",
        "    atom = \"\"\"\n",
        "    O 0.0 0.0 0.1173\n",
        "    H 0.0 0.7572 -0.4692\n",
        "    H 0.0 -0.7572 -0.4692\n",
        "    \"\"\",\n",
        "    basis = \"cc-pVDZ\",\n",
        "    charge=0,\n",
        "    spin=0\n",
        ")"
      ],
      "metadata": {
        "id": "hNMWr-vQSRfN"
      },
      "execution_count": 5,
      "outputs": []
    },
    {
      "cell_type": "code",
      "source": [
        "# DFT計算の設定\n",
        "mf = dft.RKS(h2o_mol)\n",
        "mf.xc = 'B3LYP'\n",
        "energy = mf.kernel()\n",
        "\n",
        "print('DFT Energy with B3YLP functional:', energy)"
      ],
      "metadata": {
        "colab": {
          "base_uri": "https://localhost:8080/"
        },
        "id": "b8wk5uthVois",
        "outputId": "9b138685-82fb-4d1d-cada-3ae79ffd36de"
      },
      "execution_count": 8,
      "outputs": [
        {
          "output_type": "stream",
          "name": "stderr",
          "text": [
            "/usr/local/lib/python3.11/dist-packages/pyscf/dft/libxc.py:512: UserWarning: Since PySCF-2.3, B3LYP (and B3P86) are changed to the VWN-RPA variant, corresponding to the original definition by Stephens et al. (issue 1480) and the same as the B3LYP functional in Gaussian. To restore the VWN5 definition, you can put the setting \"B3LYP_WITH_VWN5 = True\" in pyscf_conf.py\n",
            "  warnings.warn('Since PySCF-2.3, B3LYP (and B3P86) are changed to the VWN-RPA variant, '\n"
          ]
        },
        {
          "output_type": "stream",
          "name": "stdout",
          "text": [
            "converged SCF energy = -76.4203688915021\n",
            "DFT Energy with B3YLP functional: -76.42036889150205\n"
          ]
        }
      ]
    },
    {
      "cell_type": "code",
      "source": [
        "# 分子の定義\n",
        "h2O_mol = gto.M(\n",
        "    atom='''O 0.0 0.0 0.0; H 0.0 -0.757 0.587; H 0.0 0.757 0.587''',\n",
        "    basis='cc-pVDZ'\n",
        ")"
      ],
      "metadata": {
        "id": "M9hn8BLOYJwc"
      },
      "execution_count": 9,
      "outputs": []
    },
    {
      "cell_type": "code",
      "source": [
        "# 計算方法の選択と実行\n",
        "mf = dft.RKS(h2o_mol)\n",
        "mf.xc = 'B3LYP'\n",
        "energy = mf.kernel()\n",
        "\n",
        "print(\"Energy:\", energy)"
      ],
      "metadata": {
        "colab": {
          "base_uri": "https://localhost:8080/"
        },
        "id": "77QQRMViZ1cJ",
        "outputId": "dd2a27ae-629a-4c47-ea71-8a86435eb8a7"
      },
      "execution_count": 12,
      "outputs": [
        {
          "output_type": "stream",
          "name": "stdout",
          "text": [
            "converged SCF energy = -76.4203688915021\n",
            "Energy: -76.42036889150208\n"
          ]
        }
      ]
    },
    {
      "cell_type": "code",
      "source": [
        "hartree_to_eV = 27.2114\n",
        "\n",
        "energy_ev = energy * hartree_to_eV\n",
        "\n",
        "print(\"Energy (eV):\", energy_ev)"
      ],
      "metadata": {
        "colab": {
          "base_uri": "https://localhost:8080/"
        },
        "id": "vjpJlnBYdUWL",
        "outputId": "f9fbb819-a6ef-407a-8c14-ab2c005013ce"
      },
      "execution_count": 13,
      "outputs": [
        {
          "output_type": "stream",
          "name": "stdout",
          "text": [
            "Energy (eV): -2079.5052260542197\n"
          ]
        }
      ]
    },
    {
      "cell_type": "code",
      "source": [],
      "metadata": {
        "id": "yMav4QZVfyuG"
      },
      "execution_count": null,
      "outputs": []
    }
  ]
}
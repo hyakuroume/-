{
  "nbformat": 4,
  "nbformat_minor": 0,
  "metadata": {
    "colab": {
      "provenance": [],
      "mount_file_id": "1OOm2HdskGTDiQwabRPVg_8A71hb9iQxN",
      "authorship_tag": "ABX9TyOXLVvjCkAnvsHaph44F4BX",
      "include_colab_link": true
    },
    "kernelspec": {
      "name": "python3",
      "display_name": "Python 3"
    },
    "language_info": {
      "name": "python"
    }
  },
  "cells": [
    {
      "cell_type": "markdown",
      "metadata": {
        "id": "view-in-github",
        "colab_type": "text"
      },
      "source": [
        "<a href=\"https://colab.research.google.com/github/hyakuroume/-/blob/main/BioPython_Seq.ipynb\" target=\"_parent\"><img src=\"https://colab.research.google.com/assets/colab-badge.svg\" alt=\"Open In Colab\"/></a>"
      ]
    },
    {
      "cell_type": "code",
      "execution_count": 4,
      "metadata": {
        "id": "UOULKoeFQNmN"
      },
      "outputs": [],
      "source": [
        "!pip install -q  biopython"
      ]
    },
    {
      "cell_type": "code",
      "source": [
        "!unzip /content/drive/MyDrive/BioPython/Python_bio.zip"
      ],
      "metadata": {
        "colab": {
          "base_uri": "https://localhost:8080/"
        },
        "id": "LIa9GniHZycw",
        "outputId": "5538aa94-c6ec-4459-9c5e-ea7913f314a4"
      },
      "execution_count": 5,
      "outputs": [
        {
          "output_type": "stream",
          "name": "stdout",
          "text": [
            "Archive:  /content/drive/MyDrive/BioPython/Python_bio.zip\n",
            "   creating: Python_bio/\n",
            "   creating: Python_bio/chapter05/\n",
            "  inflating: Python_bio/chapter05/s288c.protein.faa  \n",
            "   creating: __MACOSX/\n",
            "   creating: __MACOSX/Python_bio/\n",
            "   creating: __MACOSX/Python_bio/chapter05/\n",
            "  inflating: __MACOSX/Python_bio/chapter05/._s288c.protein.faa  \n",
            "  inflating: Python_bio/chapter05/s288c.fna  \n",
            "  inflating: __MACOSX/Python_bio/chapter05/._s288c.fna  \n",
            "  inflating: Python_bio/chapter05/s288c.gbk  \n",
            "  inflating: __MACOSX/Python_bio/chapter05/._s288c.gbk  \n",
            "  inflating: Python_bio/chapter05/code05.py  \n",
            "  inflating: Python_bio/chapter05/sample.gff3  \n",
            "   creating: Python_bio/chapter03/\n",
            "  inflating: Python_bio/chapter03/code03.py  \n",
            "   creating: __MACOSX/Python_bio/chapter03/\n",
            "  inflating: __MACOSX/Python_bio/chapter03/._code03.py  \n",
            "   creating: Python_bio/chapter04/\n",
            "  inflating: Python_bio/chapter04/SRR453566.sam  \n",
            "   creating: __MACOSX/Python_bio/chapter04/\n",
            "  inflating: __MACOSX/Python_bio/chapter04/._SRR453566.sam  \n",
            "  inflating: Python_bio/chapter04/s288c_n20.gff  \n",
            "  inflating: __MACOSX/Python_bio/chapter04/._s288c_n20.gff  \n",
            "  inflating: Python_bio/chapter04/code04.py  \n",
            "  inflating: Python_bio/.DS_Store    \n",
            "  inflating: __MACOSX/Python_bio/._.DS_Store  \n",
            "   creating: Python_bio/chapter10/\n",
            "   creating: Python_bio/chapter10/scRNAseq/\n",
            "   creating: Python_bio/chapter10/scRNAseq/T6_7D/\n",
            "  inflating: Python_bio/chapter10/scRNAseq/T6_7D/genes.tsv  \n",
            "  inflating: Python_bio/chapter10/scRNAseq/T6_7D/barcodes.tsv  \n",
            "  inflating: Python_bio/chapter10/scRNAseq/T6_7D/matrix.mtx  \n",
            "   creating: Python_bio/chapter10/scRNAseq/T8_9E/\n",
            "  inflating: Python_bio/chapter10/scRNAseq/T8_9E/genes.tsv  \n",
            "  inflating: Python_bio/chapter10/scRNAseq/T8_9E/barcodes.tsv  \n",
            "  inflating: Python_bio/chapter10/scRNAseq/T8_9E/matrix.mtx  \n",
            "  inflating: Python_bio/chapter10/scRNAseq/.DS_Store  \n",
            "   creating: __MACOSX/Python_bio/chapter10/\n",
            "   creating: __MACOSX/Python_bio/chapter10/scRNAseq/\n",
            "  inflating: __MACOSX/Python_bio/chapter10/scRNAseq/._.DS_Store  \n",
            "   creating: Python_bio/chapter10/scRNAseq/T4_5C/\n",
            "  inflating: Python_bio/chapter10/scRNAseq/T4_5C/genes.tsv  \n",
            "  inflating: Python_bio/chapter10/scRNAseq/T4_5C/barcodes.tsv  \n",
            "  inflating: Python_bio/chapter10/scRNAseq/T4_5C/matrix.mtx  \n",
            "   creating: Python_bio/chapter10/scRNAseq/T2_3B/\n",
            "  inflating: Python_bio/chapter10/scRNAseq/T2_3B/genes.tsv  \n",
            "  inflating: Python_bio/chapter10/scRNAseq/T2_3B/barcodes.tsv  \n",
            "  inflating: Python_bio/chapter10/scRNAseq/T2_3B/matrix.mtx  \n",
            "   creating: Python_bio/chapter10/scRNAseq/T0_1A/\n",
            "  inflating: Python_bio/chapter10/scRNAseq/T0_1A/genes.tsv  \n",
            "  inflating: Python_bio/chapter10/scRNAseq/T0_1A/barcodes.tsv  \n",
            "  inflating: Python_bio/chapter10/scRNAseq/T0_1A/matrix.mtx  \n",
            "  inflating: Python_bio/chapter10/code10.py  \n",
            "   creating: Python_bio/chapter_app_b/\n",
            "  inflating: Python_bio/chapter_app_b/code_app_b.py  \n",
            "   creating: Python_bio/chapter_app_b/scRNAseq/\n",
            "   creating: Python_bio/chapter_app_b/scRNAseq/T6_7D/\n",
            "  inflating: Python_bio/chapter_app_b/scRNAseq/T6_7D/genes.tsv  \n",
            "  inflating: Python_bio/chapter_app_b/scRNAseq/T6_7D/barcodes.tsv  \n",
            "  inflating: Python_bio/chapter_app_b/scRNAseq/T6_7D/matrix.mtx  \n",
            "   creating: Python_bio/chapter_app_b/scRNAseq/T8_9E/\n",
            "  inflating: Python_bio/chapter_app_b/scRNAseq/T8_9E/genes.tsv  \n",
            "  inflating: Python_bio/chapter_app_b/scRNAseq/T8_9E/barcodes.tsv  \n",
            "  inflating: Python_bio/chapter_app_b/scRNAseq/T8_9E/matrix.mtx  \n",
            "  inflating: Python_bio/chapter_app_b/scRNAseq/.DS_Store  \n",
            "   creating: __MACOSX/Python_bio/chapter_app_b/\n",
            "   creating: __MACOSX/Python_bio/chapter_app_b/scRNAseq/\n",
            "  inflating: __MACOSX/Python_bio/chapter_app_b/scRNAseq/._.DS_Store  \n",
            "   creating: Python_bio/chapter_app_b/scRNAseq/T4_5C/\n",
            "  inflating: Python_bio/chapter_app_b/scRNAseq/T4_5C/genes.tsv  \n",
            "  inflating: Python_bio/chapter_app_b/scRNAseq/T4_5C/barcodes.tsv  \n",
            "  inflating: Python_bio/chapter_app_b/scRNAseq/T4_5C/matrix.mtx  \n",
            "   creating: Python_bio/chapter_app_b/scRNAseq/T2_3B/\n",
            "  inflating: Python_bio/chapter_app_b/scRNAseq/T2_3B/genes.tsv  \n",
            "  inflating: Python_bio/chapter_app_b/scRNAseq/T2_3B/barcodes.tsv  \n",
            "  inflating: Python_bio/chapter_app_b/scRNAseq/T2_3B/matrix.mtx  \n",
            "   creating: Python_bio/chapter_app_b/scRNAseq/T0_1A/\n",
            "  inflating: Python_bio/chapter_app_b/scRNAseq/T0_1A/genes.tsv  \n",
            "  inflating: Python_bio/chapter_app_b/scRNAseq/T0_1A/barcodes.tsv  \n",
            "  inflating: Python_bio/chapter_app_b/scRNAseq/T0_1A/matrix.mtx  \n",
            "   creating: Python_bio/chapter11/\n",
            "  inflating: Python_bio/chapter11/code11.py  \n",
            "   creating: Python_bio/chapter08/\n",
            "  inflating: Python_bio/chapter08/code08.py  \n",
            "   creating: Python_bio/chapter06/\n",
            "  inflating: Python_bio/chapter06/code06.py  \n",
            "  inflating: Python_bio/chapter06/test_matrix_data.tsv  \n",
            "   creating: __MACOSX/Python_bio/chapter06/\n",
            "  inflating: __MACOSX/Python_bio/chapter06/._test_matrix_data.tsv  \n",
            "   creating: Python_bio/chapter07/\n",
            "  inflating: Python_bio/chapter07/gene_id_product.tsv  \n",
            "   creating: __MACOSX/Python_bio/chapter07/\n",
            "  inflating: __MACOSX/Python_bio/chapter07/._gene_id_product.tsv  \n",
            "  inflating: Python_bio/chapter07/code07.py  \n",
            "  inflating: Python_bio/chapter07/counts.txt  \n",
            "  inflating: __MACOSX/Python_bio/chapter07/._counts.txt  \n",
            "  inflating: Python_bio/chapter07/GCF_000146045.2_R64_genomic.gff  \n",
            "  inflating: __MACOSX/Python_bio/chapter07/._GCF_000146045.2_R64_genomic.gff  \n",
            "   creating: Python_bio/chapter09/\n",
            "  inflating: Python_bio/chapter09/code09.py  \n",
            "  inflating: Python_bio/chapter09/count_raw.tsv  \n",
            "  inflating: Python_bio/chapter09/count_tpm.tsv  \n",
            "   creating: Python_bio/chapter_app_a/\n",
            "  inflating: Python_bio/chapter_app_a/code_app_a.py  \n",
            "   creating: Python_bio/chapter12/\n",
            "  inflating: Python_bio/chapter12/code12.py  \n"
          ]
        }
      ]
    },
    {
      "cell_type": "code",
      "source": [
        "from Bio import SeqIO"
      ],
      "metadata": {
        "id": "COQWvfl0QPuX"
      },
      "execution_count": 6,
      "outputs": []
    },
    {
      "cell_type": "code",
      "source": [
        "# SeqRecordオブジェクトの作成\n",
        "fasta_file_name = 'Python_bio/chapter05/s288c.fna'\n",
        "records = SeqIO.parse(fasta_file_name, 'fasta')"
      ],
      "metadata": {
        "id": "6Z4SFdmjQhuL"
      },
      "execution_count": 7,
      "outputs": []
    },
    {
      "cell_type": "code",
      "source": [
        "type(records)"
      ],
      "metadata": {
        "colab": {
          "base_uri": "https://localhost:8080/",
          "height": 121
        },
        "id": "Kflq4NBNVu7n",
        "outputId": "14a0f202-41f5-496b-bc99-e29d1cb3089d"
      },
      "execution_count": 8,
      "outputs": [
        {
          "output_type": "execute_result",
          "data": {
            "text/plain": [
              "Bio.SeqIO.FastaIO.FastaIterator"
            ],
            "text/html": [
              "<div style=\"max-width:800px; border: 1px solid var(--colab-border-color);\"><style>\n",
              "      pre.function-repr-contents {\n",
              "        overflow-x: auto;\n",
              "        padding: 8px 12px;\n",
              "        max-height: 500px;\n",
              "      }\n",
              "\n",
              "      pre.function-repr-contents.function-repr-contents-collapsed {\n",
              "        cursor: pointer;\n",
              "        max-height: 100px;\n",
              "      }\n",
              "    </style>\n",
              "    <pre style=\"white-space: initial; background:\n",
              "         var(--colab-secondary-surface-color); padding: 8px 12px;\n",
              "         border-bottom: 1px solid var(--colab-border-color);\"><b>Bio.SeqIO.FastaIO.FastaIterator</b><br/>def __init__(source: _TextIOSource, alphabet: None=None) -&gt; None</pre><pre class=\"function-repr-contents function-repr-contents-collapsed\" style=\"\"><a class=\"filepath\" style=\"display:none\" href=\"#\">/usr/local/lib/python3.10/dist-packages/Bio/SeqIO/FastaIO.py</a>Parser for Fasta files.</pre>\n",
              "      <script>\n",
              "      if (google.colab.kernel.accessAllowed && google.colab.files && google.colab.files.view) {\n",
              "        for (const element of document.querySelectorAll('.filepath')) {\n",
              "          element.style.display = 'block'\n",
              "          element.onclick = (event) => {\n",
              "            event.preventDefault();\n",
              "            event.stopPropagation();\n",
              "            google.colab.files.view(element.textContent, 139);\n",
              "          };\n",
              "        }\n",
              "      }\n",
              "      for (const element of document.querySelectorAll('.function-repr-contents')) {\n",
              "        element.onclick = (event) => {\n",
              "          event.preventDefault();\n",
              "          event.stopPropagation();\n",
              "          element.classList.toggle('function-repr-contents-collapsed');\n",
              "        };\n",
              "      }\n",
              "      </script>\n",
              "      </div>"
            ]
          },
          "metadata": {},
          "execution_count": 8
        }
      ]
    },
    {
      "cell_type": "code",
      "source": [
        "r1 = next(records)\n",
        "r1"
      ],
      "metadata": {
        "colab": {
          "base_uri": "https://localhost:8080/"
        },
        "id": "AO7j2v-Ga_Kr",
        "outputId": "53272105-51da-4168-a5bf-9a75472ee3fa"
      },
      "execution_count": 9,
      "outputs": [
        {
          "output_type": "execute_result",
          "data": {
            "text/plain": [
              "SeqRecord(seq=Seq('ccacaccacacccacacacccacacaccacaccacacaccacaccacacccaca...ggg'), id='NC_001133.9', name='NC_001133.9', description='NC_001133.9 Saccharomyces cerevisiae S288C chromosome I, complete sequence', dbxrefs=[])"
            ]
          },
          "metadata": {},
          "execution_count": 9
        }
      ]
    },
    {
      "cell_type": "code",
      "source": [
        "print(f'ID:{r1.id}')\n",
        "print(f'Description:{r1.description}')\n",
        "print(f'Length:{len(r1)}')\n",
        "print(f'Features:{r1.features}')"
      ],
      "metadata": {
        "colab": {
          "base_uri": "https://localhost:8080/"
        },
        "id": "RVS96-TybObn",
        "outputId": "093f8d0c-bcc2-4aba-bf7e-708a611c46db"
      },
      "execution_count": 10,
      "outputs": [
        {
          "output_type": "stream",
          "name": "stdout",
          "text": [
            "ID:NC_001133.9\n",
            "Description:NC_001133.9 Saccharomyces cerevisiae S288C chromosome I, complete sequence\n",
            "Length:230218\n",
            "Features:[]\n"
          ]
        }
      ]
    },
    {
      "cell_type": "code",
      "source": [
        "r1_seq = r1.seq\n",
        "r1_seq"
      ],
      "metadata": {
        "colab": {
          "base_uri": "https://localhost:8080/"
        },
        "id": "KgdjdZWzcKCE",
        "outputId": "9a608a05-3340-45a1-e279-ec550b0ec45e"
      },
      "execution_count": 11,
      "outputs": [
        {
          "output_type": "execute_result",
          "data": {
            "text/plain": [
              "Seq('ccacaccacacccacacacccacacaccacaccacacaccacaccacacccaca...ggg')"
            ]
          },
          "metadata": {},
          "execution_count": 11
        }
      ]
    },
    {
      "cell_type": "code",
      "source": [
        "r1?"
      ],
      "metadata": {
        "id": "b-h5BURofbeE"
      },
      "execution_count": 12,
      "outputs": []
    },
    {
      "cell_type": "markdown",
      "source": [
        "### 遺伝子コード領域の切り出し"
      ],
      "metadata": {
        "id": "LrqYCXc1cpmp"
      }
    },
    {
      "cell_type": "code",
      "source": [
        "# タンパク質配列\n",
        "r1_seq[1806:2169]"
      ],
      "metadata": {
        "colab": {
          "base_uri": "https://localhost:8080/"
        },
        "id": "u80yHUA7cdAW",
        "outputId": "d8bb4f49-d2a6-49ba-9cfc-40f8a4271218"
      },
      "execution_count": 13,
      "outputs": [
        {
          "output_type": "execute_result",
          "data": {
            "text/plain": [
              "Seq('CTAGTTTGCGATAGTGTAGATACCGTCCTTGGATAGAGCACTGGAGATGGCTGG...Cat')"
            ]
          },
          "metadata": {},
          "execution_count": 13
        }
      ]
    },
    {
      "cell_type": "code",
      "source": [
        "# 相補鎖へ変換\n",
        "r1_seq[1806:2169].reverse_complement()"
      ],
      "metadata": {
        "colab": {
          "base_uri": "https://localhost:8080/"
        },
        "id": "k6GWQDFQcwKf",
        "outputId": "cbf55caa-cb53-4cae-c58f-c00ddb29d05c"
      },
      "execution_count": 14,
      "outputs": [
        {
          "output_type": "execute_result",
          "data": {
            "text/plain": [
              "Seq('atGGTCAAATTAACTTCAATCGCCGCTGGTGTCGCTGCCATCGCTGCTACTGCT...TAG')"
            ]
          },
          "metadata": {},
          "execution_count": 14
        }
      ]
    },
    {
      "cell_type": "code",
      "source": [
        "# アミノ酸配列への翻訳\n",
        "r1_seq[1806:2169].reverse_complement().translate()"
      ],
      "metadata": {
        "colab": {
          "base_uri": "https://localhost:8080/"
        },
        "id": "U7-4-w5ceq1S",
        "outputId": "a20c6d5a-8914-4e43-db44-0643e8ea144c"
      },
      "execution_count": 15,
      "outputs": [
        {
          "output_type": "execute_result",
          "data": {
            "text/plain": [
              "Seq('MVKLTSIAAGVAAIAATASATTTLAQSDERVNLVELGVYVSDIRAHLAQYYMFQ...AN*')"
            ]
          },
          "metadata": {},
          "execution_count": 15
        }
      ]
    },
    {
      "cell_type": "code",
      "source": [
        "# フォーマットの変換\n",
        "records = SeqIO.parse(fasta_file_name, 'fasta')\n",
        "r1 = next(records)\n",
        "print(r1.format('fasta-2line')[:300])"
      ],
      "metadata": {
        "colab": {
          "base_uri": "https://localhost:8080/"
        },
        "id": "H2_ErdWXfT4T",
        "outputId": "48fabe4c-2940-4320-dc2e-e76ceb8e5a77"
      },
      "execution_count": 16,
      "outputs": [
        {
          "output_type": "stream",
          "name": "stdout",
          "text": [
            ">NC_001133.9 Saccharomyces cerevisiae S288C chromosome I, complete sequence\n",
            "ccacaccacacccacacacccacacaccacaccacacaccacaccacacccacacacacacatCCTAACACTACCCTAACACAGCCCTAATCTAACCCTGGCCAACCTGTCTCTCAACTTACCCTCCATTACCCTGCCTCCACTCGTTACCCTGTCCCATTCAACCATACCACTCCGAACCACCATCCATCCCTCTACTTACTACCACTCACCCACCGTTACCC\n"
          ]
        }
      ]
    },
    {
      "cell_type": "markdown",
      "source": [
        "### FASTAファイルの読み書き"
      ],
      "metadata": {
        "id": "5tjFogo6yLdy"
      }
    },
    {
      "cell_type": "code",
      "source": [
        "records = SeqIO.parse(fasta_file_name, 'fasta')\n",
        "\n",
        "for r in records:\n",
        "    print(\"Seq ID=\", r.id)\n",
        "    print(\"Length =\", len(r))\n",
        "    print(r.seq[:50] + '...')\n",
        "    print('-' * 60)"
      ],
      "metadata": {
        "id": "m-2MMpU8f-Sf",
        "colab": {
          "base_uri": "https://localhost:8080/"
        },
        "outputId": "83d8b5d1-2038-4f1b-b91a-bc0a745d5cee"
      },
      "execution_count": 17,
      "outputs": [
        {
          "output_type": "stream",
          "name": "stdout",
          "text": [
            "Seq ID= NC_001133.9\n",
            "Length = 230218\n",
            "ccacaccacacccacacacccacacaccacaccacacaccacaccacacc...\n",
            "------------------------------------------------------------\n",
            "Seq ID= NC_001134.8\n",
            "Length = 813184\n",
            "AAATAGCCCTCATGTACGTCTCCTCCAAGCCCTGTTGTCTCTTACCCGGA...\n",
            "------------------------------------------------------------\n",
            "Seq ID= NC_001135.5\n",
            "Length = 316620\n",
            "cccacacaccacacccacaccacacccacacaccacacacaccacaccca...\n",
            "------------------------------------------------------------\n",
            "Seq ID= NC_001136.10\n",
            "Length = 1531933\n",
            "acaccacacccacaccacacccacacacaccacacccacacaccacaccc...\n",
            "------------------------------------------------------------\n",
            "Seq ID= NC_001137.3\n",
            "Length = 576874\n",
            "CGTCTCCTCCAAGCCCTGTTGTCTCTTACCCGGATGTTCAACCAAAAGCT...\n",
            "------------------------------------------------------------\n",
            "Seq ID= NC_001138.5\n",
            "Length = 270161\n",
            "GATCTCGCAAGTGCATTCCTAGACTTAATTCATATCTGCTCCTCAACTGT...\n",
            "------------------------------------------------------------\n",
            "Seq ID= NC_001139.9\n",
            "Length = 1090940\n",
            "ccacacccacacacaccacacccacacccacacactACCCTAACACTACC...\n",
            "------------------------------------------------------------\n",
            "Seq ID= NC_001140.6\n",
            "Length = 562643\n",
            "cccacacacaccacacccacacaccacacccacactTTTCACATCTACCT...\n",
            "------------------------------------------------------------\n",
            "Seq ID= NC_001141.2\n",
            "Length = 439888\n",
            "cacacacaccacacccacaccacaccacaccacacccacacccacacaca...\n",
            "------------------------------------------------------------\n",
            "Seq ID= NC_001142.9\n",
            "Length = 745751\n",
            "CCcacacacacaccacacccacacccacacacaccacacccacacaccac...\n",
            "------------------------------------------------------------\n",
            "Seq ID= NC_001143.9\n",
            "Length = 666816\n",
            "caccacacccacacaccacacccacacacacaccacacccacacaccaca...\n",
            "------------------------------------------------------------\n",
            "Seq ID= NC_001144.5\n",
            "Length = 1078177\n",
            "cacacacacacaccacccacacaccacaccacacaccacaccacacacca...\n",
            "------------------------------------------------------------\n",
            "Seq ID= NC_001145.3\n",
            "Length = 924431\n",
            "Ccacacacacaccacacccacaccacacccacacccacacccacacccac...\n",
            "------------------------------------------------------------\n",
            "Seq ID= NC_001146.8\n",
            "Length = 784333\n",
            "CCGGCTTTCTGAccgaaattaaaaaaaaaaaatgaaaatgaaaccCTGTT...\n",
            "------------------------------------------------------------\n",
            "Seq ID= NC_001147.6\n",
            "Length = 1091291\n",
            "acaccacacccacaccacacccacacccacacaccacacccacacacaca...\n",
            "------------------------------------------------------------\n",
            "Seq ID= NC_001148.4\n",
            "Length = 948066\n",
            "AAATAGCCCTCATGTACGTCTCCTCCAAGCCCTGTTGTCTCTTACCCGGA...\n",
            "------------------------------------------------------------\n",
            "Seq ID= NC_001224.1\n",
            "Length = 85779\n",
            "TTCATAATTAATTTTTTATATATATATTATATTATAATATTAATTTATAT...\n",
            "------------------------------------------------------------\n"
          ]
        }
      ]
    },
    {
      "cell_type": "code",
      "source": [
        "# 配列の最後を取り出す\n",
        "records = list(SeqIO.parse(fasta_file_name, 'fasta'))\n",
        "records[-1]"
      ],
      "metadata": {
        "colab": {
          "base_uri": "https://localhost:8080/"
        },
        "id": "ozs9zwn6ytvG",
        "outputId": "c27fe63a-5725-4ce7-8fb6-322261b43751"
      },
      "execution_count": 18,
      "outputs": [
        {
          "output_type": "execute_result",
          "data": {
            "text/plain": [
              "SeqRecord(seq=Seq('TTCATAATTAATTTTTTATATATATATTATATTATAATATTAATTTATATTATA...ATA'), id='NC_001224.1', name='NC_001224.1', description='NC_001224.1 Saccharomyces cerevisiae S288c mitochondrion, complete genome', dbxrefs=[])"
            ]
          },
          "metadata": {},
          "execution_count": 18
        }
      ]
    },
    {
      "cell_type": "code",
      "source": [
        "# 出芽酵母S288C株の遺伝子タンパク質ファイルから1000アミノ酸残基の長さを持つものを抽出しファイルに書き込む\n",
        "protein_fasta_file = \"/content/Python_bio/chapter05/s288c.fna\"\n",
        "output_file_name = \"s288c.protein.long.faa\"\n",
        "\n",
        "records = SeqIO.parse(protein_fasta_file, 'fasta')\n",
        "threshold = 1000 # 閾値\n",
        "\n",
        "# 条件に合う配列のみのリストを作成\n",
        "records = [r for r in records if len(r) >= threshold]\n",
        "\n",
        "records = sorted(records, key=len, reverse=True) #長さでソート\n",
        "\n",
        "# ファイルに書き込み\n",
        "with open (output_file_name, 'w') as f:\n",
        "    SeqIO.write(records, f, 'fasta')"
      ],
      "metadata": {
        "id": "VyKMrB1CzZEh"
      },
      "execution_count": 19,
      "outputs": []
    },
    {
      "cell_type": "code",
      "source": [
        "genome_fasta_file = '/content/Python_bio/chapter05/s288c.fna'\n",
        "records = SeqIO.parse(genome_fasta_file, 'fasta')\n",
        "\n",
        "N = 50\n",
        "\n",
        "list_length = [len(r) for r in records] # 各配列の長さを要素としたリストを作成\n",
        "\n",
        "list_length = sorted(list_length, reverse=True)\n",
        "\n",
        "total_length = sum(list_length)\n",
        "cumulative_sum = 0\n",
        "\n",
        "for length in list_length:\n",
        "    cumulative_sum += length\n",
        "\n",
        "    if cumulative_sum >= total_length * N / 100:\n",
        "        break\n",
        "print(f'N{N} : {length}bp')"
      ],
      "metadata": {
        "colab": {
          "base_uri": "https://localhost:8080/"
        },
        "id": "TsuA_IaT1XW9",
        "outputId": "6ac9743f-4447-458f-cd18-951c77838227"
      },
      "execution_count": 20,
      "outputs": [
        {
          "output_type": "stream",
          "name": "stdout",
          "text": [
            "N50 : 924431bp\n"
          ]
        }
      ]
    },
    {
      "cell_type": "markdown",
      "source": [
        "## FASTAファイルへのランダムアクセス"
      ],
      "metadata": {
        "id": "NabBDj3XwxoR"
      }
    },
    {
      "cell_type": "markdown",
      "source": [
        "#### 辞書を用いたやり方"
      ],
      "metadata": {
        "id": "rOqGWOrZxeDY"
      }
    },
    {
      "cell_type": "code",
      "source": [
        "records = SeqIO.parse(fasta_file_name, \"fasta\")\n",
        "dict_records = SeqIO.to_dict(records)"
      ],
      "metadata": {
        "id": "l5VJ9ZCj3jDa"
      },
      "execution_count": 21,
      "outputs": []
    },
    {
      "cell_type": "code",
      "source": [
        "dict_records.keys()"
      ],
      "metadata": {
        "colab": {
          "base_uri": "https://localhost:8080/"
        },
        "id": "c_YM7J9GxFgJ",
        "outputId": "da7819b3-b734-47b1-d98c-1370e8118e14"
      },
      "execution_count": 22,
      "outputs": [
        {
          "output_type": "execute_result",
          "data": {
            "text/plain": [
              "dict_keys(['NC_001133.9', 'NC_001134.8', 'NC_001135.5', 'NC_001136.10', 'NC_001137.3', 'NC_001138.5', 'NC_001139.9', 'NC_001140.6', 'NC_001141.2', 'NC_001142.9', 'NC_001143.9', 'NC_001144.5', 'NC_001145.3', 'NC_001146.8', 'NC_001147.6', 'NC_001148.4', 'NC_001224.1'])"
            ]
          },
          "metadata": {},
          "execution_count": 22
        }
      ]
    },
    {
      "cell_type": "code",
      "source": [
        "dict_records['NC_001224.1']"
      ],
      "metadata": {
        "colab": {
          "base_uri": "https://localhost:8080/"
        },
        "id": "rkeLdXGVxIR9",
        "outputId": "dbeaae01-2f70-46f7-ea30-11f972400fc5"
      },
      "execution_count": 23,
      "outputs": [
        {
          "output_type": "execute_result",
          "data": {
            "text/plain": [
              "SeqRecord(seq=Seq('TTCATAATTAATTTTTTATATATATATTATATTATAATATTAATTTATATTATA...ATA'), id='NC_001224.1', name='NC_001224.1', description='NC_001224.1 Saccharomyces cerevisiae S288c mitochondrion, complete genome', dbxrefs=[])"
            ]
          },
          "metadata": {},
          "execution_count": 23
        }
      ]
    },
    {
      "cell_type": "markdown",
      "source": [
        "#### インデックスを用いたやり方"
      ],
      "metadata": {
        "id": "u0WifLdDxhWH"
      }
    },
    {
      "cell_type": "code",
      "source": [
        "idx_records = SeqIO.index(fasta_file_name, \"fasta\")\n",
        "idx_records['NC_001224.1']"
      ],
      "metadata": {
        "colab": {
          "base_uri": "https://localhost:8080/"
        },
        "id": "eILUjDtsxYXd",
        "outputId": "3a7bf2ed-6cb8-43bf-b576-3166c2cdb24d"
      },
      "execution_count": 24,
      "outputs": [
        {
          "output_type": "execute_result",
          "data": {
            "text/plain": [
              "SeqRecord(seq=Seq('TTCATAATTAATTTTTTATATATATATTATATTATAATATTAATTTATATTATA...ATA'), id='NC_001224.1', name='NC_001224.1', description='NC_001224.1 Saccharomyces cerevisiae S288c mitochondrion, complete genome', dbxrefs=[])"
            ]
          },
          "metadata": {},
          "execution_count": 24
        }
      ]
    },
    {
      "cell_type": "markdown",
      "source": [
        "#### pyfaidxを用いたやり方"
      ],
      "metadata": {
        "id": "huPhUXsjyngn"
      }
    },
    {
      "cell_type": "code",
      "source": [
        "!pip install -q pyfaidx"
      ],
      "metadata": {
        "id": "IV79Ag_gxwAh"
      },
      "execution_count": 25,
      "outputs": []
    },
    {
      "cell_type": "code",
      "source": [
        "from pyfaidx import Fasta\n",
        "records = Fasta(fasta_file_name)"
      ],
      "metadata": {
        "id": "VKIEdgvHyjo5"
      },
      "execution_count": 26,
      "outputs": []
    },
    {
      "cell_type": "code",
      "source": [
        "records.keys()"
      ],
      "metadata": {
        "colab": {
          "base_uri": "https://localhost:8080/"
        },
        "id": "78e2_Lg2y1qr",
        "outputId": "66999b87-c3ec-457a-f381-8e3b4bfd3293"
      },
      "execution_count": 27,
      "outputs": [
        {
          "output_type": "execute_result",
          "data": {
            "text/plain": [
              "odict_keys(['NC_001133.9', 'NC_001134.8', 'NC_001135.5', 'NC_001136.10', 'NC_001137.3', 'NC_001138.5', 'NC_001139.9', 'NC_001140.6', 'NC_001141.2', 'NC_001142.9', 'NC_001143.9', 'NC_001144.5', 'NC_001145.3', 'NC_001146.8', 'NC_001147.6', 'NC_001148.4', 'NC_001224.1'])"
            ]
          },
          "metadata": {},
          "execution_count": 27
        }
      ]
    },
    {
      "cell_type": "code",
      "source": [
        "record = records[\"NC_001133.9\"]\n",
        "record"
      ],
      "metadata": {
        "colab": {
          "base_uri": "https://localhost:8080/"
        },
        "id": "xhnZ6Ny2y6--",
        "outputId": "1c6e4398-fd3b-48c1-c17a-60605a92b0c4"
      },
      "execution_count": 28,
      "outputs": [
        {
          "output_type": "execute_result",
          "data": {
            "text/plain": [
              "FastaRecord(\"NC_001133.9\")"
            ]
          },
          "metadata": {},
          "execution_count": 28
        }
      ]
    },
    {
      "cell_type": "code",
      "source": [
        "# 部分配列の切り出し\n",
        "subseq = record[100:200]\n",
        "print(\"Name:\", subseq.name)\n",
        "print(f\"Location:, {subseq.start}..{subseq.end}\")\n",
        "print('Fancy name:', subseq.fancy_name)\n",
        "print('Seq:', subseq.seq)"
      ],
      "metadata": {
        "colab": {
          "base_uri": "https://localhost:8080/"
        },
        "id": "C1gA20RbzBar",
        "outputId": "1bc96811-ece7-44a5-f32b-afdb6e6c6574"
      },
      "execution_count": 29,
      "outputs": [
        {
          "output_type": "stream",
          "name": "stdout",
          "text": [
            "Name: NC_001133.9\n",
            "Location:, 101..200\n",
            "Fancy name: NC_001133.9:101-200\n",
            "Seq: GCCAACCTGTCTCTCAACTTACCCTCCATTACCCTGCCTCCACTCGTTACCCTGTCCCATTCAACCATACCACTCCGAACCACCATCCATCCCTCTACTT\n"
          ]
        }
      ]
    },
    {
      "cell_type": "code",
      "source": [
        "# 相補鎖配列への変換\n",
        "subseq.reverse.complement"
      ],
      "metadata": {
        "colab": {
          "base_uri": "https://localhost:8080/"
        },
        "id": "h40JM3tqzpw_",
        "outputId": "6a96621a-c04b-493a-9f10-bf403e185fe6"
      },
      "execution_count": 30,
      "outputs": [
        {
          "output_type": "execute_result",
          "data": {
            "text/plain": [
              ">NC_001133.9:200-101 (complement)\n",
              "AAGTAGAGGGATGGATGGTGGTTCGGAGTGGTATGGTTGAATGGGACAGGGTAACGAGTGGAGGCAGGGTAATGGAGGGTAAGTTGAGAGACAGGTTGGC"
            ]
          },
          "metadata": {},
          "execution_count": 30
        }
      ]
    },
    {
      "cell_type": "code",
      "source": [
        "# get_seq()による部分切り出し\n",
        "subseq2 = records.get_seq(\"NC_001133.9\", 101, 200)\n",
        "subseq2"
      ],
      "metadata": {
        "colab": {
          "base_uri": "https://localhost:8080/"
        },
        "id": "cE5r9wt9zwKt",
        "outputId": "4547d23b-1668-4952-a2b0-19a7b80c472c"
      },
      "execution_count": 31,
      "outputs": [
        {
          "output_type": "execute_result",
          "data": {
            "text/plain": [
              ">NC_001133.9:101-200\n",
              "GCCAACCTGTCTCTCAACTTACCCTCCATTACCCTGCCTCCACTCGTTACCCTGTCCCATTCAACCATACCACTCCGAACCACCATCCATCCCTCTACTT"
            ]
          },
          "metadata": {},
          "execution_count": 31
        }
      ]
    },
    {
      "cell_type": "code",
      "source": [
        "# 相補鎖配列への変換\n",
        "subseq2_rc = records.get_seq(\"NC_001133.9\", 101, 200, rc=True)\n",
        "subseq2_rc"
      ],
      "metadata": {
        "colab": {
          "base_uri": "https://localhost:8080/"
        },
        "id": "XgbFWnSq0IEL",
        "outputId": "ae6f6a62-0bb0-4a71-c5aa-e6844ded7ee9"
      },
      "execution_count": 32,
      "outputs": [
        {
          "output_type": "execute_result",
          "data": {
            "text/plain": [
              ">NC_001133.9:200-101 (complement)\n",
              "AAGTAGAGGGATGGATGGTGGTTCGGAGTGGTATGGTTGAATGGGACAGGGTAACGAGTGGAGGCAGGGTAATGGAGGGTAAGTTGAGAGACAGGTTGGC"
            ]
          },
          "metadata": {},
          "execution_count": 32
        }
      ]
    },
    {
      "cell_type": "markdown",
      "source": [
        "## GenBankファイルの読み込み"
      ],
      "metadata": {
        "id": "W_vme6d5-Svq"
      }
    },
    {
      "cell_type": "code",
      "source": [
        "!ls /content/Python_bio/chapter05"
      ],
      "metadata": {
        "colab": {
          "base_uri": "https://localhost:8080/"
        },
        "id": "9zGbGf3y0UTk",
        "outputId": "416dca37-d0f7-4387-adef-bd1c2aa34550"
      },
      "execution_count": 33,
      "outputs": [
        {
          "output_type": "stream",
          "name": "stdout",
          "text": [
            "code05.py  s288c.fna  s288c.fna.fai  s288c.gbk\ts288c.protein.faa  sample.gff3\n"
          ]
        }
      ]
    },
    {
      "cell_type": "code",
      "source": [
        "# GenBankファイルの読み込み\n",
        "gbk_file_name = '/content/Python_bio/chapter05/s288c.gbk'\n",
        "records = SeqIO.parse(gbk_file_name, 'genbank')"
      ],
      "metadata": {
        "id": "Zfc8HHtC_d1P"
      },
      "execution_count": 34,
      "outputs": []
    },
    {
      "cell_type": "code",
      "source": [
        "# 1件目のデータ\n",
        "r1 = next(records)\n",
        "r1"
      ],
      "metadata": {
        "colab": {
          "base_uri": "https://localhost:8080/"
        },
        "id": "fZWjpYwq_Sl6",
        "outputId": "f9f1d150-1ef2-4965-efd3-3df6f03b5c44"
      },
      "execution_count": 35,
      "outputs": [
        {
          "output_type": "execute_result",
          "data": {
            "text/plain": [
              "SeqRecord(seq=Seq('CCACACCACACCCACACACCCACACACCACACCACACACCACACCACACCCACA...GGG'), id='NC_001133.9', name='NC_001133', description='Saccharomyces cerevisiae S288C chromosome I, complete sequence', dbxrefs=['BioProject:PRJNA128', 'Assembly:GCF_000146045.2'])"
            ]
          },
          "metadata": {},
          "execution_count": 35
        }
      ]
    },
    {
      "cell_type": "code",
      "source": [
        "# 付随情報\n",
        "r1.annotations"
      ],
      "metadata": {
        "colab": {
          "base_uri": "https://localhost:8080/"
        },
        "id": "HKGr8Ui-_5xw",
        "outputId": "9916a37e-437f-42a7-8856-48fdfd4e867b"
      },
      "execution_count": 36,
      "outputs": [
        {
          "output_type": "execute_result",
          "data": {
            "text/plain": [
              "{'molecule_type': 'DNA',\n",
              " 'topology': 'linear',\n",
              " 'data_file_division': 'CON',\n",
              " 'date': '06-APR-2018',\n",
              " 'accessions': ['NC_001133'],\n",
              " 'sequence_version': 9,\n",
              " 'keywords': ['RefSeq'],\n",
              " 'source': 'Saccharomyces cerevisiae S288C',\n",
              " 'organism': 'Saccharomyces cerevisiae S288C',\n",
              " 'taxonomy': ['Eukaryota',\n",
              "  'Fungi',\n",
              "  'Dikarya',\n",
              "  'Ascomycota',\n",
              "  'Saccharomycotina',\n",
              "  'Saccharomycetes',\n",
              "  'Saccharomycetales',\n",
              "  'Saccharomycetaceae',\n",
              "  'Saccharomyces'],\n",
              " 'references': [Reference(title='Life with 6000 genes', ...),\n",
              "  Reference(title='The nucleotide sequence of chromosome I from Saccharomyces cerevisiae', ...),\n",
              "  Reference(title='Direct Submission', ...),\n",
              "  Reference(title='Direct Submission', ...),\n",
              "  Reference(title='Direct Submission', ...)],\n",
              " 'comment': 'REVIEWED REFSEQ: This record has been curated by SGD. The reference\\nsequence is identical to BK006935.\\nOn Apr 26, 2011 this sequence version replaced NC_001133.8.\\nCOMPLETENESS: full length.',\n",
              " 'structured_comment': defaultdict(dict,\n",
              "             {'Genome-Annotation-Data': {'Annotation Provider': 'SGD',\n",
              "               'Annotation Status': 'Full Annotation',\n",
              "               'Annotation Version': 'R64-2-1',\n",
              "               'URL': 'http://www.yeastgenome.org/'}}),\n",
              " 'contig': 'join(BK006935.2:1..230218)'}"
            ]
          },
          "metadata": {},
          "execution_count": 36
        }
      ]
    },
    {
      "cell_type": "code",
      "source": [
        "r1.annotations[\"taxonomy\"]"
      ],
      "metadata": {
        "colab": {
          "base_uri": "https://localhost:8080/"
        },
        "id": "4kan54ZP__5x",
        "outputId": "e86d924c-fdeb-4411-fff9-2aed17b29e1d"
      },
      "execution_count": 37,
      "outputs": [
        {
          "output_type": "execute_result",
          "data": {
            "text/plain": [
              "['Eukaryota',\n",
              " 'Fungi',\n",
              " 'Dikarya',\n",
              " 'Ascomycota',\n",
              " 'Saccharomycotina',\n",
              " 'Saccharomycetes',\n",
              " 'Saccharomycetales',\n",
              " 'Saccharomycetaceae',\n",
              " 'Saccharomyces']"
            ]
          },
          "metadata": {},
          "execution_count": 37
        }
      ]
    },
    {
      "cell_type": "code",
      "source": [
        "r1.annotations[\"references\"]"
      ],
      "metadata": {
        "colab": {
          "base_uri": "https://localhost:8080/"
        },
        "id": "pcsFOHegBCrS",
        "outputId": "e412be70-3eca-42fc-fae4-db971cffa786"
      },
      "execution_count": 38,
      "outputs": [
        {
          "output_type": "execute_result",
          "data": {
            "text/plain": [
              "[Reference(title='Life with 6000 genes', ...),\n",
              " Reference(title='The nucleotide sequence of chromosome I from Saccharomyces cerevisiae', ...),\n",
              " Reference(title='Direct Submission', ...),\n",
              " Reference(title='Direct Submission', ...),\n",
              " Reference(title='Direct Submission', ...)]"
            ]
          },
          "metadata": {},
          "execution_count": 38
        }
      ]
    },
    {
      "cell_type": "code",
      "source": [
        "# アノテーションされた遺伝子情報\n",
        "len(r1.features)"
      ],
      "metadata": {
        "colab": {
          "base_uri": "https://localhost:8080/"
        },
        "id": "p78CIhvJBGQZ",
        "outputId": "c00a65f4-92ed-47a6-f5b8-7a689152a24f"
      },
      "execution_count": 39,
      "outputs": [
        {
          "output_type": "execute_result",
          "data": {
            "text/plain": [
              "324"
            ]
          },
          "metadata": {},
          "execution_count": 39
        }
      ]
    },
    {
      "cell_type": "code",
      "source": [
        "r1.features[:10]"
      ],
      "metadata": {
        "colab": {
          "base_uri": "https://localhost:8080/"
        },
        "id": "0WkfSKdhBNiY",
        "outputId": "7e298d17-a438-48f4-e675-3972f5ab4e7b"
      },
      "execution_count": 40,
      "outputs": [
        {
          "output_type": "execute_result",
          "data": {
            "text/plain": [
              "[SeqFeature(SimpleLocation(ExactPosition(0), ExactPosition(230218), strand=1), type='source', qualifiers=...),\n",
              " SeqFeature(SimpleLocation(ExactPosition(0), ExactPosition(801), strand=-1), type='telomere', qualifiers=...),\n",
              " SeqFeature(SimpleLocation(ExactPosition(706), ExactPosition(776), strand=1), type='rep_origin', qualifiers=...),\n",
              " SeqFeature(SimpleLocation(BeforePosition(1806), AfterPosition(2169), strand=-1), type='gene', qualifiers=...),\n",
              " SeqFeature(SimpleLocation(BeforePosition(1806), AfterPosition(2169), strand=-1), type='mRNA', qualifiers=...),\n",
              " SeqFeature(SimpleLocation(ExactPosition(1806), ExactPosition(2169), strand=-1), type='CDS', qualifiers=...),\n",
              " SeqFeature(SimpleLocation(BeforePosition(2479), AfterPosition(2707), strand=1), type='gene', qualifiers=...),\n",
              " SeqFeature(SimpleLocation(BeforePosition(2479), AfterPosition(2707), strand=1), type='mRNA', qualifiers=...),\n",
              " SeqFeature(SimpleLocation(ExactPosition(2479), ExactPosition(2707), strand=1), type='CDS', qualifiers=...),\n",
              " SeqFeature(SimpleLocation(BeforePosition(7234), AfterPosition(9016), strand=-1), type='gene', qualifiers=...)]"
            ]
          },
          "metadata": {},
          "execution_count": 40
        }
      ]
    },
    {
      "cell_type": "code",
      "source": [
        "f0 = r1.features[0]\n",
        "print(f0)"
      ],
      "metadata": {
        "colab": {
          "base_uri": "https://localhost:8080/"
        },
        "id": "KJiBC0hVBPpF",
        "outputId": "8e1e3a25-e491-4930-c4f3-8caec2eb2d94"
      },
      "execution_count": 41,
      "outputs": [
        {
          "output_type": "stream",
          "name": "stdout",
          "text": [
            "type: source\n",
            "location: [0:230218](+)\n",
            "qualifiers:\n",
            "    Key: chromosome, Value: ['I']\n",
            "    Key: db_xref, Value: ['taxon:559292']\n",
            "    Key: mol_type, Value: ['genomic DNA']\n",
            "    Key: organism, Value: ['Saccharomyces cerevisiae S288C']\n",
            "    Key: strain, Value: ['S288C']\n",
            "\n"
          ]
        }
      ]
    },
    {
      "cell_type": "code",
      "source": [
        "f3, f4, f5 = r1.features[3:6]\n",
        "print(f3, \"\\n\", f4, \"\\n\", f5, \"\\n\")"
      ],
      "metadata": {
        "colab": {
          "base_uri": "https://localhost:8080/"
        },
        "id": "_BHCXVTABS91",
        "outputId": "ee45c517-7945-4781-9302-47e68c79ccc9"
      },
      "execution_count": 42,
      "outputs": [
        {
          "output_type": "stream",
          "name": "stdout",
          "text": [
            "type: gene\n",
            "location: [<1806:>2169](-)\n",
            "qualifiers:\n",
            "    Key: db_xref, Value: ['GeneID:851229']\n",
            "    Key: gene, Value: ['PAU8']\n",
            "    Key: locus_tag, Value: ['YAL068C']\n",
            " \n",
            " type: mRNA\n",
            "location: [<1806:>2169](-)\n",
            "qualifiers:\n",
            "    Key: db_xref, Value: ['GeneID:851229']\n",
            "    Key: gene, Value: ['PAU8']\n",
            "    Key: locus_tag, Value: ['YAL068C']\n",
            "    Key: product, Value: ['seripauperin PAU8']\n",
            "    Key: transcript_id, Value: ['NM_001180043.1']\n",
            " \n",
            " type: CDS\n",
            "location: [1806:2169](-)\n",
            "qualifiers:\n",
            "    Key: codon_start, Value: ['1']\n",
            "    Key: db_xref, Value: ['GeneID:851229', 'SGD:S000002142']\n",
            "    Key: gene, Value: ['PAU8']\n",
            "    Key: locus_tag, Value: ['YAL068C']\n",
            "    Key: note, Value: ['hypothetical protein; member of the seripauperin multigene family encoded mainly in subtelomeric regions']\n",
            "    Key: product, Value: ['seripauperin PAU8']\n",
            "    Key: protein_id, Value: ['NP_009332.1']\n",
            "    Key: translation, Value: ['MVKLTSIAAGVAAIAATASATTTLAQSDERVNLVELGVYVSDIRAHLAQYYMFQAAHPTETYPVEVAEAVFNYGDFTTMLTGIAPDQVTRMITGVPWYSSRLKPAISSALSKDGIYTIAN']\n",
            " \n",
            "\n"
          ]
        }
      ]
    },
    {
      "cell_type": "code",
      "source": [
        "f5.type"
      ],
      "metadata": {
        "colab": {
          "base_uri": "https://localhost:8080/",
          "height": 35
        },
        "id": "dsWTRMzSBwUV",
        "outputId": "181519d4-8ecd-4abd-bf14-45d399bbaf09"
      },
      "execution_count": 43,
      "outputs": [
        {
          "output_type": "execute_result",
          "data": {
            "text/plain": [
              "'CDS'"
            ],
            "application/vnd.google.colaboratory.intrinsic+json": {
              "type": "string"
            }
          },
          "metadata": {},
          "execution_count": 43
        }
      ]
    },
    {
      "cell_type": "code",
      "source": [
        "f5.location"
      ],
      "metadata": {
        "colab": {
          "base_uri": "https://localhost:8080/"
        },
        "id": "MDKSkL3zCItm",
        "outputId": "c47837af-5db0-4f55-f5bf-f5a280a36e5e"
      },
      "execution_count": 44,
      "outputs": [
        {
          "output_type": "execute_result",
          "data": {
            "text/plain": [
              "SimpleLocation(ExactPosition(1806), ExactPosition(2169), strand=-1)"
            ]
          },
          "metadata": {},
          "execution_count": 44
        }
      ]
    },
    {
      "cell_type": "code",
      "source": [
        "r1.seq[1806:2169].reverse_complement()"
      ],
      "metadata": {
        "colab": {
          "base_uri": "https://localhost:8080/"
        },
        "id": "mZLwdUIbCKKT",
        "outputId": "45617d74-de1b-4997-90da-daca9cdb355b"
      },
      "execution_count": 45,
      "outputs": [
        {
          "output_type": "execute_result",
          "data": {
            "text/plain": [
              "Seq('ATGGTCAAATTAACTTCAATCGCCGCTGGTGTCGCTGCCATCGCTGCTACTGCT...TAG')"
            ]
          },
          "metadata": {},
          "execution_count": 45
        }
      ]
    },
    {
      "cell_type": "code",
      "source": [
        "f5.extract(r1.seq)"
      ],
      "metadata": {
        "colab": {
          "base_uri": "https://localhost:8080/"
        },
        "id": "9JohUgVpCRhQ",
        "outputId": "ee4d693d-bd2c-4654-8f5c-dd87a7eb772d"
      },
      "execution_count": 46,
      "outputs": [
        {
          "output_type": "execute_result",
          "data": {
            "text/plain": [
              "Seq('ATGGTCAAATTAACTTCAATCGCCGCTGGTGTCGCTGCCATCGCTGCTACTGCT...TAG')"
            ]
          },
          "metadata": {},
          "execution_count": 46
        }
      ]
    },
    {
      "cell_type": "code",
      "source": [
        "f5.extract(r1).features"
      ],
      "metadata": {
        "colab": {
          "base_uri": "https://localhost:8080/"
        },
        "id": "ppEFhnZPCgJz",
        "outputId": "92be0352-53e5-4d18-e2b6-d2796224c3fe"
      },
      "execution_count": 47,
      "outputs": [
        {
          "output_type": "execute_result",
          "data": {
            "text/plain": [
              "[SeqFeature(SimpleLocation(BeforePosition(0), AfterPosition(363), strand=1), type='gene', qualifiers=...),\n",
              " SeqFeature(SimpleLocation(BeforePosition(0), AfterPosition(363), strand=1), type='mRNA', qualifiers=...),\n",
              " SeqFeature(SimpleLocation(ExactPosition(0), ExactPosition(363), strand=1), type='CDS', qualifiers=...)]"
            ]
          },
          "metadata": {},
          "execution_count": 47
        }
      ]
    },
    {
      "cell_type": "code",
      "source": [
        "#クオリファイア\n",
        "f5.qualifiers"
      ],
      "metadata": {
        "colab": {
          "base_uri": "https://localhost:8080/"
        },
        "id": "5nY9uYS9CpMB",
        "outputId": "56fb4757-1b3f-459c-f827-1bdc979b45fb"
      },
      "execution_count": 48,
      "outputs": [
        {
          "output_type": "execute_result",
          "data": {
            "text/plain": [
              "{'gene': ['PAU8'],\n",
              " 'locus_tag': ['YAL068C'],\n",
              " 'note': ['hypothetical protein; member of the seripauperin multigene family encoded mainly in subtelomeric regions'],\n",
              " 'codon_start': ['1'],\n",
              " 'product': ['seripauperin PAU8'],\n",
              " 'protein_id': ['NP_009332.1'],\n",
              " 'db_xref': ['GeneID:851229', 'SGD:S000002142'],\n",
              " 'translation': ['MVKLTSIAAGVAAIAATASATTTLAQSDERVNLVELGVYVSDIRAHLAQYYMFQAAHPTETYPVEVAEAVFNYGDFTTMLTGIAPDQVTRMITGVPWYSSRLKPAISSALSKDGIYTIAN']}"
            ]
          },
          "metadata": {},
          "execution_count": 48
        }
      ]
    },
    {
      "cell_type": "code",
      "source": [
        "f5.qualifiers[\"db_xref\"]"
      ],
      "metadata": {
        "id": "5X5cZMcRCxvh",
        "colab": {
          "base_uri": "https://localhost:8080/"
        },
        "outputId": "85416531-8a2f-42b4-df8e-a471261a3efe"
      },
      "execution_count": 49,
      "outputs": [
        {
          "output_type": "execute_result",
          "data": {
            "text/plain": [
              "['GeneID:851229', 'SGD:S000002142']"
            ]
          },
          "metadata": {},
          "execution_count": 49
        }
      ]
    },
    {
      "cell_type": "code",
      "source": [
        "f5.qualifiers[\"product\"]"
      ],
      "metadata": {
        "colab": {
          "base_uri": "https://localhost:8080/"
        },
        "id": "8dZp-yKPFkIZ",
        "outputId": "f44c2e6d-486f-45f9-97b4-c27cb4f4cf3c"
      },
      "execution_count": 50,
      "outputs": [
        {
          "output_type": "execute_result",
          "data": {
            "text/plain": [
              "['seripauperin PAU8']"
            ]
          },
          "metadata": {},
          "execution_count": 50
        }
      ]
    },
    {
      "cell_type": "code",
      "source": [
        "f5.qualifiers[\"product\"][0]"
      ],
      "metadata": {
        "colab": {
          "base_uri": "https://localhost:8080/",
          "height": 35
        },
        "id": "yl_r9BtMFv5b",
        "outputId": "06a75ca0-2d41-4194-9316-3d36296a2703"
      },
      "execution_count": 51,
      "outputs": [
        {
          "output_type": "execute_result",
          "data": {
            "text/plain": [
              "'seripauperin PAU8'"
            ],
            "application/vnd.google.colaboratory.intrinsic+json": {
              "type": "string"
            }
          },
          "metadata": {},
          "execution_count": 51
        }
      ]
    },
    {
      "cell_type": "code",
      "source": [
        "f5.qualifiers[\"note\"].append(\"Test\")\n",
        "f5"
      ],
      "metadata": {
        "colab": {
          "base_uri": "https://localhost:8080/"
        },
        "id": "iktp10dPF3Ix",
        "outputId": "799d6438-b6d9-4964-a5db-0da7b08f2d4a"
      },
      "execution_count": 52,
      "outputs": [
        {
          "output_type": "execute_result",
          "data": {
            "text/plain": [
              "SeqFeature(SimpleLocation(ExactPosition(1806), ExactPosition(2169), strand=-1), type='CDS', qualifiers=...)"
            ]
          },
          "metadata": {},
          "execution_count": 52
        }
      ]
    },
    {
      "cell_type": "code",
      "source": [
        "# 翻訳されたアミノ酸配列\n",
        "f5.qualifiers[\"translation\"][0]"
      ],
      "metadata": {
        "colab": {
          "base_uri": "https://localhost:8080/",
          "height": 35
        },
        "id": "dwlcNbooGFew",
        "outputId": "27b666b0-9ce7-46ab-b994-d5e936348a8c"
      },
      "execution_count": 53,
      "outputs": [
        {
          "output_type": "execute_result",
          "data": {
            "text/plain": [
              "'MVKLTSIAAGVAAIAATASATTTLAQSDERVNLVELGVYVSDIRAHLAQYYMFQAAHPTETYPVEVAEAVFNYGDFTTMLTGIAPDQVTRMITGVPWYSSRLKPAISSALSKDGIYTIAN'"
            ],
            "application/vnd.google.colaboratory.intrinsic+json": {
              "type": "string"
            }
          },
          "metadata": {},
          "execution_count": 53
        }
      ]
    },
    {
      "cell_type": "code",
      "source": [
        "f5.translate(r1.seq)"
      ],
      "metadata": {
        "colab": {
          "base_uri": "https://localhost:8080/"
        },
        "id": "ONUNU_GzGRQd",
        "outputId": "04ee0e1f-0430-492e-d4df-4d641e95de7c"
      },
      "execution_count": 54,
      "outputs": [
        {
          "output_type": "execute_result",
          "data": {
            "text/plain": [
              "Seq('MVKLTSIAAGVAAIAATASATTTLAQSDERVNLVELGVYVSDIRAHLAQYYMFQ...IAN')"
            ]
          },
          "metadata": {},
          "execution_count": 54
        }
      ]
    },
    {
      "cell_type": "code",
      "source": [
        "str(f5.translate(r1.seq))"
      ],
      "metadata": {
        "colab": {
          "base_uri": "https://localhost:8080/",
          "height": 35
        },
        "id": "5iA-VKg8Gaxu",
        "outputId": "fed07fae-c5d6-4c46-f415-dfb9b62ed196"
      },
      "execution_count": 55,
      "outputs": [
        {
          "output_type": "execute_result",
          "data": {
            "text/plain": [
              "'MVKLTSIAAGVAAIAATASATTTLAQSDERVNLVELGVYVSDIRAHLAQYYMFQAAHPTETYPVEVAEAVFNYGDFTTMLTGIAPDQVTRMITGVPWYSSRLKPAISSALSKDGIYTIAN'"
            ],
            "application/vnd.google.colaboratory.intrinsic+json": {
              "type": "string"
            }
          },
          "metadata": {},
          "execution_count": 55
        }
      ]
    },
    {
      "cell_type": "code",
      "source": [
        "f130 = r1.features[130]"
      ],
      "metadata": {
        "id": "RVtvR_BrGgQQ"
      },
      "execution_count": 56,
      "outputs": []
    },
    {
      "cell_type": "code",
      "source": [
        "print(\"Location\", f130.location)\n",
        "print(\"Type\", f130.translate(r1.seq))\n",
        "print(\"qualifiers\", f130.qualifiers[\"translation\"][0])"
      ],
      "metadata": {
        "colab": {
          "base_uri": "https://localhost:8080/"
        },
        "id": "9Tsgym5mGtzU",
        "outputId": "cf838be9-cbc0-49e6-b2f3-d47100a8d9ee"
      },
      "execution_count": 57,
      "outputs": [
        {
          "output_type": "stream",
          "name": "stdout",
          "text": [
            "Location join{[87285:87387](+), [87500:87752](+)}\n",
            "Type MSSSTPFDPYALSEHDEERPQNVQSKSRTAELQAEIDDTVGIMRDNINKVAERGERLTSIEDKADNLAVSAQGFKRGANRVRKAMWYKDLKMKMCLALVIIILLVVIIVPIAVHFSR\n",
            "qualifiers MSSSTPFDPYALSEHDEERPQNVQSKSRTAELQAEIDDTVGIMRDNINKVAERGERLTSIEDKADNLAVSAQGFKRGANRVRKAMWYKDLKMKMCLALVIIILLVVIIVPIAVHFSR\n"
          ]
        }
      ]
    },
    {
      "cell_type": "markdown",
      "source": [
        "#### CDS内のfeatureから全てのアミノ酸配列を取得"
      ],
      "metadata": {
        "id": "PwXGybviHFz-"
      }
    },
    {
      "cell_type": "code",
      "source": [
        "D = {}\n",
        "\n",
        "for r in SeqIO.parse(gbk_file_name, 'genbank'):\n",
        "    for f in r.features:\n",
        "        translation = f.qualifiers.get('translation', [''])[0]\n",
        "        locus_tag = f.qualifiers.get('locus_tag', [''])[0]\n",
        "\n",
        "        if locus_tag and translation:\n",
        "            D[locus_tag] = translation\n",
        "\n",
        "print(f\"Number of CDS: {len(D)}\")"
      ],
      "metadata": {
        "colab": {
          "base_uri": "https://localhost:8080/"
        },
        "id": "djzYczlfG8vD",
        "outputId": "411bab39-4963-4334-c80f-27f1f9d32132"
      },
      "execution_count": 58,
      "outputs": [
        {
          "output_type": "stream",
          "name": "stdout",
          "text": [
            "Number of CDS: 6002\n"
          ]
        }
      ]
    },
    {
      "cell_type": "code",
      "source": [
        "D = {}\n",
        "\n",
        "for r in SeqIO.parse(gbk_file_name, 'genbank'):\n",
        "    for f in r.features:\n",
        "        if f.type == 'CDS':\n",
        "            try:\n",
        "                locus_tag = f.qualifiers['locus_tag'][0]\n",
        "                translation = f.qualifiers['translation'][0]\n",
        "                D[locus_tag] = translation\n",
        "\n",
        "            except KeyError as e:\n",
        "                print(f)\n",
        "                raise e"
      ],
      "metadata": {
        "colab": {
          "base_uri": "https://localhost:8080/",
          "height": 474
        },
        "id": "gdqp4Y_6IENh",
        "outputId": "195f6aba-ce26-4bd4-f2b6-7069391beef1"
      },
      "execution_count": 59,
      "outputs": [
        {
          "output_type": "stream",
          "name": "stdout",
          "text": [
            "type: CDS\n",
            "location: [721070:721481](-)\n",
            "qualifiers:\n",
            "    Key: codon_start, Value: ['1']\n",
            "    Key: db_xref, Value: ['GeneID:851712', 'SGD:S000002541']\n",
            "    Key: locus_tag, Value: ['YDR134C']\n",
            "    Key: note, Value: ['Cell wall protein; YDR134C has a paralog, CCW12, that arose from the whole genome duplication; S. cerevisiae genome reference strain S288C contains an internal in-frame stop at codon 67, which in other strains encodes glutamine']\n",
            "    Key: pseudo, Value: ['']\n",
            "\n"
          ]
        },
        {
          "output_type": "error",
          "ename": "KeyError",
          "evalue": "'translation'",
          "traceback": [
            "\u001b[0;31m---------------------------------------------------------------------------\u001b[0m",
            "\u001b[0;31mKeyError\u001b[0m                                  Traceback (most recent call last)",
            "\u001b[0;32m<ipython-input-59-ec0d05a47b50>\u001b[0m in \u001b[0;36m<cell line: 3>\u001b[0;34m()\u001b[0m\n\u001b[1;32m     11\u001b[0m             \u001b[0;32mexcept\u001b[0m \u001b[0mKeyError\u001b[0m \u001b[0;32mas\u001b[0m \u001b[0me\u001b[0m\u001b[0;34m:\u001b[0m\u001b[0;34m\u001b[0m\u001b[0;34m\u001b[0m\u001b[0m\n\u001b[1;32m     12\u001b[0m                 \u001b[0mprint\u001b[0m\u001b[0;34m(\u001b[0m\u001b[0mf\u001b[0m\u001b[0;34m)\u001b[0m\u001b[0;34m\u001b[0m\u001b[0;34m\u001b[0m\u001b[0m\n\u001b[0;32m---> 13\u001b[0;31m                 \u001b[0;32mraise\u001b[0m \u001b[0me\u001b[0m\u001b[0;34m\u001b[0m\u001b[0;34m\u001b[0m\u001b[0m\n\u001b[0m",
            "\u001b[0;32m<ipython-input-59-ec0d05a47b50>\u001b[0m in \u001b[0;36m<cell line: 3>\u001b[0;34m()\u001b[0m\n\u001b[1;32m      6\u001b[0m             \u001b[0;32mtry\u001b[0m\u001b[0;34m:\u001b[0m\u001b[0;34m\u001b[0m\u001b[0;34m\u001b[0m\u001b[0m\n\u001b[1;32m      7\u001b[0m                 \u001b[0mlocus_tag\u001b[0m \u001b[0;34m=\u001b[0m \u001b[0mf\u001b[0m\u001b[0;34m.\u001b[0m\u001b[0mqualifiers\u001b[0m\u001b[0;34m[\u001b[0m\u001b[0;34m'locus_tag'\u001b[0m\u001b[0;34m]\u001b[0m\u001b[0;34m[\u001b[0m\u001b[0;36m0\u001b[0m\u001b[0;34m]\u001b[0m\u001b[0;34m\u001b[0m\u001b[0;34m\u001b[0m\u001b[0m\n\u001b[0;32m----> 8\u001b[0;31m                 \u001b[0mtranslation\u001b[0m \u001b[0;34m=\u001b[0m \u001b[0mf\u001b[0m\u001b[0;34m.\u001b[0m\u001b[0mqualifiers\u001b[0m\u001b[0;34m[\u001b[0m\u001b[0;34m'translation'\u001b[0m\u001b[0;34m]\u001b[0m\u001b[0;34m[\u001b[0m\u001b[0;36m0\u001b[0m\u001b[0;34m]\u001b[0m\u001b[0;34m\u001b[0m\u001b[0;34m\u001b[0m\u001b[0m\n\u001b[0m\u001b[1;32m      9\u001b[0m                 \u001b[0mD\u001b[0m\u001b[0;34m[\u001b[0m\u001b[0mlocus_tag\u001b[0m\u001b[0;34m]\u001b[0m \u001b[0;34m=\u001b[0m \u001b[0mtranslation\u001b[0m\u001b[0;34m\u001b[0m\u001b[0;34m\u001b[0m\u001b[0m\n\u001b[1;32m     10\u001b[0m \u001b[0;34m\u001b[0m\u001b[0m\n",
            "\u001b[0;31mKeyError\u001b[0m: 'translation'"
          ]
        }
      ]
    },
    {
      "cell_type": "code",
      "source": [
        "# genbankファイルの中からアミノ酸配列、ローカスタグ、遺伝子産物名を取得\n",
        "gbk_file_name = \"/content/Python_bio/chapter05/s288c.gbk\"\n",
        "faa_file_name = \"/content/Python_bio/chapter05/s288c.protein.faa\"\n",
        "\n",
        "result = ''"
      ],
      "metadata": {
        "id": "27iyBurCJF0H"
      },
      "execution_count": 60,
      "outputs": []
    },
    {
      "cell_type": "code",
      "source": [
        "for r in SeqIO.parse(gbk_file_name, 'genbank'):\n",
        "    for f in r.features:\n",
        "        if f.type != 'CDS':\n",
        "            continue\n",
        "\n",
        "        if 'pseudo' in f.qualifiers:\n",
        "            continue\n",
        "\n",
        "        locus_tag = f.qualifiers['locus_tag'][0]\n",
        "        translation = f.qualifiers['translation'][0]\n",
        "        product = f.qualifiers['product'][0]\n",
        "        result += f'>{locus_tag} {product}\\n{translation}\\n'\n",
        "\n",
        "with open(faa_file_name, 'w') as fh:\n",
        "    fh.write(result)"
      ],
      "metadata": {
        "id": "4kjFzEcjJ1xV"
      },
      "execution_count": 61,
      "outputs": []
    },
    {
      "cell_type": "code",
      "source": [
        "!pip install -q bcbio-gff"
      ],
      "metadata": {
        "colab": {
          "base_uri": "https://localhost:8080/"
        },
        "id": "NJE4Dnb7LJU7",
        "outputId": "97f58a06-332b-4752-efef-aef0010e4201"
      },
      "execution_count": 3,
      "outputs": [
        {
          "output_type": "stream",
          "name": "stdout",
          "text": [
            "\u001b[?25l     \u001b[90m━━━━━━━━━━━━━━━━━━━━━━━━━━━━━━━━━━━━━━━━\u001b[0m \u001b[32m0.0/3.2 MB\u001b[0m \u001b[31m?\u001b[0m eta \u001b[36m-:--:--\u001b[0m\r\u001b[2K     \u001b[91m━━\u001b[0m\u001b[90m╺\u001b[0m\u001b[90m━━━━━━━━━━━━━━━━━━━━━━━━━━━━━━━━━━━━━\u001b[0m \u001b[32m0.2/3.2 MB\u001b[0m \u001b[31m5.5 MB/s\u001b[0m eta \u001b[36m0:00:01\u001b[0m\r\u001b[2K     \u001b[91m━━━━━━━━━━━━━━━━━━━━━\u001b[0m\u001b[91m╸\u001b[0m\u001b[90m━━━━━━━━━━━━━━━━━━\u001b[0m \u001b[32m1.7/3.2 MB\u001b[0m \u001b[31m24.0 MB/s\u001b[0m eta \u001b[36m0:00:01\u001b[0m\r\u001b[2K     \u001b[91m━━━━━━━━━━━━━━━━━━━━━━━━━━━━━━━━━━━━━━━\u001b[0m\u001b[91m╸\u001b[0m \u001b[32m3.2/3.2 MB\u001b[0m \u001b[31m34.5 MB/s\u001b[0m eta \u001b[36m0:00:01\u001b[0m\r\u001b[2K     \u001b[90m━━━━━━━━━━━━━━━━━━━━━━━━━━━━━━━━━━━━━━━━\u001b[0m \u001b[32m3.2/3.2 MB\u001b[0m \u001b[31m25.2 MB/s\u001b[0m eta \u001b[36m0:00:00\u001b[0m\n",
            "\u001b[?25h"
          ]
        }
      ]
    },
    {
      "cell_type": "markdown",
      "source": [
        "#### GFFファイルの読み込み"
      ],
      "metadata": {
        "id": "CoF-sUstzMoW"
      }
    },
    {
      "cell_type": "code",
      "source": [
        "from BCBio import GFF"
      ],
      "metadata": {
        "id": "cU5ZPommx7sQ"
      },
      "execution_count": 62,
      "outputs": []
    },
    {
      "cell_type": "code",
      "source": [
        "gff_file_name = \"/content/Python_bio/chapter05/sample.gff3\"\n",
        "records = GFF.parse(open(gff_file_name))"
      ],
      "metadata": {
        "id": "FMPJWNeay8WN"
      },
      "execution_count": 63,
      "outputs": []
    },
    {
      "cell_type": "code",
      "source": [],
      "metadata": {
        "id": "yX3FBvOEzJfy"
      },
      "execution_count": null,
      "outputs": []
    }
  ]
}
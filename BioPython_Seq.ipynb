{
  "nbformat": 4,
  "nbformat_minor": 0,
  "metadata": {
    "colab": {
      "provenance": [],
      "mount_file_id": "1OOm2HdskGTDiQwabRPVg_8A71hb9iQxN",
      "authorship_tag": "ABX9TyPV3mqM2LAWOWxKUBpJVsun",
      "include_colab_link": true
    },
    "kernelspec": {
      "name": "python3",
      "display_name": "Python 3"
    },
    "language_info": {
      "name": "python"
    }
  },
  "cells": [
    {
      "cell_type": "markdown",
      "metadata": {
        "id": "view-in-github",
        "colab_type": "text"
      },
      "source": [
        "<a href=\"https://colab.research.google.com/github/hyakuroume/-/blob/main/BioPython_Seq.ipynb\" target=\"_parent\"><img src=\"https://colab.research.google.com/assets/colab-badge.svg\" alt=\"Open In Colab\"/></a>"
      ]
    },
    {
      "cell_type": "code",
      "execution_count": null,
      "metadata": {
        "colab": {
          "base_uri": "https://localhost:8080/"
        },
        "id": "UOULKoeFQNmN",
        "outputId": "a6c79e82-78f4-40b6-b99f-763cdf1821f7"
      },
      "outputs": [
        {
          "output_type": "stream",
          "name": "stdout",
          "text": [
            "\u001b[2K     \u001b[90m━━━━━━━━━━━━━━━━━━━━━━━━━━━━━━━━━━━━━━━━\u001b[0m \u001b[32m3.1/3.1 MB\u001b[0m \u001b[31m10.5 MB/s\u001b[0m eta \u001b[36m0:00:00\u001b[0m\n",
            "\u001b[?25h"
          ]
        }
      ],
      "source": [
        "!pip install -q  biopython"
      ]
    },
    {
      "cell_type": "code",
      "source": [
        "!unzip /content/drive/MyDrive/BioPython/Python_bio.zip"
      ],
      "metadata": {
        "colab": {
          "base_uri": "https://localhost:8080/"
        },
        "id": "LIa9GniHZycw",
        "outputId": "dedb39eb-9fdf-463f-f82e-762efd530076"
      },
      "execution_count": null,
      "outputs": [
        {
          "output_type": "stream",
          "name": "stdout",
          "text": [
            "Archive:  /content/drive/MyDrive/BioPython/Python_bio.zip\n",
            "   creating: Python_bio/\n",
            "   creating: Python_bio/chapter05/\n",
            "  inflating: Python_bio/chapter05/s288c.protein.faa  \n",
            "   creating: __MACOSX/\n",
            "   creating: __MACOSX/Python_bio/\n",
            "   creating: __MACOSX/Python_bio/chapter05/\n",
            "  inflating: __MACOSX/Python_bio/chapter05/._s288c.protein.faa  \n",
            "  inflating: Python_bio/chapter05/s288c.fna  \n",
            "  inflating: __MACOSX/Python_bio/chapter05/._s288c.fna  \n",
            "  inflating: Python_bio/chapter05/s288c.gbk  \n",
            "  inflating: __MACOSX/Python_bio/chapter05/._s288c.gbk  \n",
            "  inflating: Python_bio/chapter05/code05.py  \n",
            "  inflating: Python_bio/chapter05/sample.gff3  \n",
            "   creating: Python_bio/chapter03/\n",
            "  inflating: Python_bio/chapter03/code03.py  \n",
            "   creating: __MACOSX/Python_bio/chapter03/\n",
            "  inflating: __MACOSX/Python_bio/chapter03/._code03.py  \n",
            "   creating: Python_bio/chapter04/\n",
            "  inflating: Python_bio/chapter04/SRR453566.sam  \n",
            "   creating: __MACOSX/Python_bio/chapter04/\n",
            "  inflating: __MACOSX/Python_bio/chapter04/._SRR453566.sam  \n",
            "  inflating: Python_bio/chapter04/s288c_n20.gff  \n",
            "  inflating: __MACOSX/Python_bio/chapter04/._s288c_n20.gff  \n",
            "  inflating: Python_bio/chapter04/code04.py  \n",
            "  inflating: Python_bio/.DS_Store    \n",
            "  inflating: __MACOSX/Python_bio/._.DS_Store  \n",
            "   creating: Python_bio/chapter10/\n",
            "   creating: Python_bio/chapter10/scRNAseq/\n",
            "   creating: Python_bio/chapter10/scRNAseq/T6_7D/\n",
            "  inflating: Python_bio/chapter10/scRNAseq/T6_7D/genes.tsv  \n",
            "  inflating: Python_bio/chapter10/scRNAseq/T6_7D/barcodes.tsv  \n",
            "  inflating: Python_bio/chapter10/scRNAseq/T6_7D/matrix.mtx  \n",
            "   creating: Python_bio/chapter10/scRNAseq/T8_9E/\n",
            "  inflating: Python_bio/chapter10/scRNAseq/T8_9E/genes.tsv  \n",
            "  inflating: Python_bio/chapter10/scRNAseq/T8_9E/barcodes.tsv  \n",
            "  inflating: Python_bio/chapter10/scRNAseq/T8_9E/matrix.mtx  \n",
            "  inflating: Python_bio/chapter10/scRNAseq/.DS_Store  \n",
            "   creating: __MACOSX/Python_bio/chapter10/\n",
            "   creating: __MACOSX/Python_bio/chapter10/scRNAseq/\n",
            "  inflating: __MACOSX/Python_bio/chapter10/scRNAseq/._.DS_Store  \n",
            "   creating: Python_bio/chapter10/scRNAseq/T4_5C/\n",
            "  inflating: Python_bio/chapter10/scRNAseq/T4_5C/genes.tsv  \n",
            "  inflating: Python_bio/chapter10/scRNAseq/T4_5C/barcodes.tsv  \n",
            "  inflating: Python_bio/chapter10/scRNAseq/T4_5C/matrix.mtx  \n",
            "   creating: Python_bio/chapter10/scRNAseq/T2_3B/\n",
            "  inflating: Python_bio/chapter10/scRNAseq/T2_3B/genes.tsv  \n",
            "  inflating: Python_bio/chapter10/scRNAseq/T2_3B/barcodes.tsv  \n",
            "  inflating: Python_bio/chapter10/scRNAseq/T2_3B/matrix.mtx  \n",
            "   creating: Python_bio/chapter10/scRNAseq/T0_1A/\n",
            "  inflating: Python_bio/chapter10/scRNAseq/T0_1A/genes.tsv  \n",
            "  inflating: Python_bio/chapter10/scRNAseq/T0_1A/barcodes.tsv  \n",
            "  inflating: Python_bio/chapter10/scRNAseq/T0_1A/matrix.mtx  \n",
            "  inflating: Python_bio/chapter10/code10.py  \n",
            "   creating: Python_bio/chapter_app_b/\n",
            "  inflating: Python_bio/chapter_app_b/code_app_b.py  \n",
            "   creating: Python_bio/chapter_app_b/scRNAseq/\n",
            "   creating: Python_bio/chapter_app_b/scRNAseq/T6_7D/\n",
            "  inflating: Python_bio/chapter_app_b/scRNAseq/T6_7D/genes.tsv  \n",
            "  inflating: Python_bio/chapter_app_b/scRNAseq/T6_7D/barcodes.tsv  \n",
            "  inflating: Python_bio/chapter_app_b/scRNAseq/T6_7D/matrix.mtx  \n",
            "   creating: Python_bio/chapter_app_b/scRNAseq/T8_9E/\n",
            "  inflating: Python_bio/chapter_app_b/scRNAseq/T8_9E/genes.tsv  \n",
            "  inflating: Python_bio/chapter_app_b/scRNAseq/T8_9E/barcodes.tsv  \n",
            "  inflating: Python_bio/chapter_app_b/scRNAseq/T8_9E/matrix.mtx  \n",
            "  inflating: Python_bio/chapter_app_b/scRNAseq/.DS_Store  \n",
            "   creating: __MACOSX/Python_bio/chapter_app_b/\n",
            "   creating: __MACOSX/Python_bio/chapter_app_b/scRNAseq/\n",
            "  inflating: __MACOSX/Python_bio/chapter_app_b/scRNAseq/._.DS_Store  \n",
            "   creating: Python_bio/chapter_app_b/scRNAseq/T4_5C/\n",
            "  inflating: Python_bio/chapter_app_b/scRNAseq/T4_5C/genes.tsv  \n",
            "  inflating: Python_bio/chapter_app_b/scRNAseq/T4_5C/barcodes.tsv  \n",
            "  inflating: Python_bio/chapter_app_b/scRNAseq/T4_5C/matrix.mtx  \n",
            "   creating: Python_bio/chapter_app_b/scRNAseq/T2_3B/\n",
            "  inflating: Python_bio/chapter_app_b/scRNAseq/T2_3B/genes.tsv  \n",
            "  inflating: Python_bio/chapter_app_b/scRNAseq/T2_3B/barcodes.tsv  \n",
            "  inflating: Python_bio/chapter_app_b/scRNAseq/T2_3B/matrix.mtx  \n",
            "   creating: Python_bio/chapter_app_b/scRNAseq/T0_1A/\n",
            "  inflating: Python_bio/chapter_app_b/scRNAseq/T0_1A/genes.tsv  \n",
            "  inflating: Python_bio/chapter_app_b/scRNAseq/T0_1A/barcodes.tsv  \n",
            "  inflating: Python_bio/chapter_app_b/scRNAseq/T0_1A/matrix.mtx  \n",
            "   creating: Python_bio/chapter11/\n",
            "  inflating: Python_bio/chapter11/code11.py  \n",
            "   creating: Python_bio/chapter08/\n",
            "  inflating: Python_bio/chapter08/code08.py  \n",
            "   creating: Python_bio/chapter06/\n",
            "  inflating: Python_bio/chapter06/code06.py  \n",
            "  inflating: Python_bio/chapter06/test_matrix_data.tsv  \n",
            "   creating: __MACOSX/Python_bio/chapter06/\n",
            "  inflating: __MACOSX/Python_bio/chapter06/._test_matrix_data.tsv  \n",
            "   creating: Python_bio/chapter07/\n",
            "  inflating: Python_bio/chapter07/gene_id_product.tsv  \n",
            "   creating: __MACOSX/Python_bio/chapter07/\n",
            "  inflating: __MACOSX/Python_bio/chapter07/._gene_id_product.tsv  \n",
            "  inflating: Python_bio/chapter07/code07.py  \n",
            "  inflating: Python_bio/chapter07/counts.txt  \n",
            "  inflating: __MACOSX/Python_bio/chapter07/._counts.txt  \n",
            "  inflating: Python_bio/chapter07/GCF_000146045.2_R64_genomic.gff  \n",
            "  inflating: __MACOSX/Python_bio/chapter07/._GCF_000146045.2_R64_genomic.gff  \n",
            "   creating: Python_bio/chapter09/\n",
            "  inflating: Python_bio/chapter09/code09.py  \n",
            "  inflating: Python_bio/chapter09/count_raw.tsv  \n",
            "  inflating: Python_bio/chapter09/count_tpm.tsv  \n",
            "   creating: Python_bio/chapter_app_a/\n",
            "  inflating: Python_bio/chapter_app_a/code_app_a.py  \n",
            "   creating: Python_bio/chapter12/\n",
            "  inflating: Python_bio/chapter12/code12.py  \n"
          ]
        }
      ]
    },
    {
      "cell_type": "code",
      "source": [
        "from Bio import SeqIO"
      ],
      "metadata": {
        "id": "COQWvfl0QPuX"
      },
      "execution_count": null,
      "outputs": []
    },
    {
      "cell_type": "code",
      "source": [
        "# SeqRecordオブジェクトの作成\n",
        "fasta_file_name = 'Python_bio/chapter05/s288c.fna'\n",
        "records = SeqIO.parse(fasta_file_name, 'fasta')"
      ],
      "metadata": {
        "id": "6Z4SFdmjQhuL"
      },
      "execution_count": null,
      "outputs": []
    },
    {
      "cell_type": "code",
      "source": [
        "type(records)"
      ],
      "metadata": {
        "colab": {
          "base_uri": "https://localhost:8080/",
          "height": 121
        },
        "id": "Kflq4NBNVu7n",
        "outputId": "2b760548-d2c9-463f-b59a-ba353fdf3721"
      },
      "execution_count": null,
      "outputs": [
        {
          "output_type": "execute_result",
          "data": {
            "text/plain": [
              "Bio.SeqIO.FastaIO.FastaIterator"
            ],
            "text/html": [
              "<div style=\"max-width:800px; border: 1px solid var(--colab-border-color);\"><style>\n",
              "      pre.function-repr-contents {\n",
              "        overflow-x: auto;\n",
              "        padding: 8px 12px;\n",
              "        max-height: 500px;\n",
              "      }\n",
              "\n",
              "      pre.function-repr-contents.function-repr-contents-collapsed {\n",
              "        cursor: pointer;\n",
              "        max-height: 100px;\n",
              "      }\n",
              "    </style>\n",
              "    <pre style=\"white-space: initial; background:\n",
              "         var(--colab-secondary-surface-color); padding: 8px 12px;\n",
              "         border-bottom: 1px solid var(--colab-border-color);\"><b>Bio.SeqIO.FastaIO.FastaIterator</b><br/>def __init__(source: _TextIOSource, alphabet: None=None) -&gt; None</pre><pre class=\"function-repr-contents function-repr-contents-collapsed\" style=\"\"><a class=\"filepath\" style=\"display:none\" href=\"#\">/usr/local/lib/python3.10/dist-packages/Bio/SeqIO/FastaIO.py</a>Parser for Fasta files.</pre>\n",
              "      <script>\n",
              "      if (google.colab.kernel.accessAllowed && google.colab.files && google.colab.files.view) {\n",
              "        for (const element of document.querySelectorAll('.filepath')) {\n",
              "          element.style.display = 'block'\n",
              "          element.onclick = (event) => {\n",
              "            event.preventDefault();\n",
              "            event.stopPropagation();\n",
              "            google.colab.files.view(element.textContent, 142);\n",
              "          };\n",
              "        }\n",
              "      }\n",
              "      for (const element of document.querySelectorAll('.function-repr-contents')) {\n",
              "        element.onclick = (event) => {\n",
              "          event.preventDefault();\n",
              "          event.stopPropagation();\n",
              "          element.classList.toggle('function-repr-contents-collapsed');\n",
              "        };\n",
              "      }\n",
              "      </script>\n",
              "      </div>"
            ]
          },
          "metadata": {},
          "execution_count": 5
        }
      ]
    },
    {
      "cell_type": "code",
      "source": [
        "r1 = next(records)\n",
        "r1"
      ],
      "metadata": {
        "colab": {
          "base_uri": "https://localhost:8080/"
        },
        "id": "AO7j2v-Ga_Kr",
        "outputId": "e9fdbf55-e6be-46b6-b685-a0d09ecef827"
      },
      "execution_count": null,
      "outputs": [
        {
          "output_type": "execute_result",
          "data": {
            "text/plain": [
              "SeqRecord(seq=Seq('ccacaccacacccacacacccacacaccacaccacacaccacaccacacccaca...ggg'), id='NC_001133.9', name='NC_001133.9', description='NC_001133.9 Saccharomyces cerevisiae S288C chromosome I, complete sequence', dbxrefs=[])"
            ]
          },
          "metadata": {},
          "execution_count": 6
        }
      ]
    },
    {
      "cell_type": "code",
      "source": [
        "print(f'ID:{r1.id}')\n",
        "print(f'Description:{r1.description}')\n",
        "print(f'Length:{len(r1)}')\n",
        "print(f'Features:{r1.features}')"
      ],
      "metadata": {
        "colab": {
          "base_uri": "https://localhost:8080/"
        },
        "id": "RVS96-TybObn",
        "outputId": "415d6011-3d07-46e7-afe3-f3131e356b45"
      },
      "execution_count": null,
      "outputs": [
        {
          "output_type": "stream",
          "name": "stdout",
          "text": [
            "ID:NC_001133.9\n",
            "Description:NC_001133.9 Saccharomyces cerevisiae S288C chromosome I, complete sequence\n",
            "Length:230218\n",
            "Features:[]\n"
          ]
        }
      ]
    },
    {
      "cell_type": "code",
      "source": [
        "r1_seq = r1.seq\n",
        "r1_seq"
      ],
      "metadata": {
        "colab": {
          "base_uri": "https://localhost:8080/"
        },
        "id": "KgdjdZWzcKCE",
        "outputId": "52c01ae2-2339-4a5a-fd29-d8b5299bd1ce"
      },
      "execution_count": null,
      "outputs": [
        {
          "output_type": "execute_result",
          "data": {
            "text/plain": [
              "Seq('ccacaccacacccacacacccacacaccacaccacacaccacaccacacccaca...ggg')"
            ]
          },
          "metadata": {},
          "execution_count": 8
        }
      ]
    },
    {
      "cell_type": "code",
      "source": [
        "r1?"
      ],
      "metadata": {
        "id": "b-h5BURofbeE"
      },
      "execution_count": null,
      "outputs": []
    },
    {
      "cell_type": "markdown",
      "source": [
        "### 遺伝子コード領域の切り出し"
      ],
      "metadata": {
        "id": "LrqYCXc1cpmp"
      }
    },
    {
      "cell_type": "code",
      "source": [
        "# タンパク質配列\n",
        "r1_seq[1806:2169]"
      ],
      "metadata": {
        "colab": {
          "base_uri": "https://localhost:8080/"
        },
        "id": "u80yHUA7cdAW",
        "outputId": "55990836-dcec-4a73-c2a6-59349a5460fd"
      },
      "execution_count": null,
      "outputs": [
        {
          "output_type": "execute_result",
          "data": {
            "text/plain": [
              "Seq('CTAGTTTGCGATAGTGTAGATACCGTCCTTGGATAGAGCACTGGAGATGGCTGG...Cat')"
            ]
          },
          "metadata": {},
          "execution_count": 10
        }
      ]
    },
    {
      "cell_type": "code",
      "source": [
        "# 相補鎖へ変換\n",
        "r1_seq[1806:2169].reverse_complement()"
      ],
      "metadata": {
        "colab": {
          "base_uri": "https://localhost:8080/"
        },
        "id": "k6GWQDFQcwKf",
        "outputId": "0097c7b7-ab10-457a-c1f6-d983faac92d9"
      },
      "execution_count": null,
      "outputs": [
        {
          "output_type": "execute_result",
          "data": {
            "text/plain": [
              "Seq('atGGTCAAATTAACTTCAATCGCCGCTGGTGTCGCTGCCATCGCTGCTACTGCT...TAG')"
            ]
          },
          "metadata": {},
          "execution_count": 11
        }
      ]
    },
    {
      "cell_type": "code",
      "source": [
        "# アミノ酸配列への翻訳\n",
        "r1_seq[1806:2169].reverse_complement().translate()"
      ],
      "metadata": {
        "colab": {
          "base_uri": "https://localhost:8080/"
        },
        "id": "U7-4-w5ceq1S",
        "outputId": "36b76ba0-49a9-45d6-b3c1-cfb529af5562"
      },
      "execution_count": null,
      "outputs": [
        {
          "output_type": "execute_result",
          "data": {
            "text/plain": [
              "Seq('MVKLTSIAAGVAAIAATASATTTLAQSDERVNLVELGVYVSDIRAHLAQYYMFQ...AN*')"
            ]
          },
          "metadata": {},
          "execution_count": 12
        }
      ]
    },
    {
      "cell_type": "code",
      "source": [
        "# フォーマットの変換\n",
        "records = SeqIO.parse(fasta_file_name, 'fasta')\n",
        "r1 = next(records)\n",
        "print(r1.format('fasta-2line')[:300])"
      ],
      "metadata": {
        "colab": {
          "base_uri": "https://localhost:8080/"
        },
        "id": "H2_ErdWXfT4T",
        "outputId": "e8344413-3f8a-4db2-f02f-6ad90728f585"
      },
      "execution_count": null,
      "outputs": [
        {
          "output_type": "stream",
          "name": "stdout",
          "text": [
            ">NC_001133.9 Saccharomyces cerevisiae S288C chromosome I, complete sequence\n",
            "ccacaccacacccacacacccacacaccacaccacacaccacaccacacccacacacacacatCCTAACACTACCCTAACACAGCCCTAATCTAACCCTGGCCAACCTGTCTCTCAACTTACCCTCCATTACCCTGCCTCCACTCGTTACCCTGTCCCATTCAACCATACCACTCCGAACCACCATCCATCCCTCTACTTACTACCACTCACCCACCGTTACCC\n"
          ]
        }
      ]
    },
    {
      "cell_type": "markdown",
      "source": [
        "### FASTAファイルの読み書き"
      ],
      "metadata": {
        "id": "5tjFogo6yLdy"
      }
    },
    {
      "cell_type": "code",
      "source": [
        "records = SeqIO.parse(fasta_file_name, 'fasta')\n",
        "\n",
        "for r in records:\n",
        "    print(\"Seq ID=\", r.id)\n",
        "    print(\"Length =\", len(r))\n",
        "    print(r.seq[:50] + '...')\n",
        "    print('-' * 60)"
      ],
      "metadata": {
        "id": "m-2MMpU8f-Sf",
        "colab": {
          "base_uri": "https://localhost:8080/"
        },
        "outputId": "6e761d9a-bb78-4985-d5d7-072ec6edf2ed"
      },
      "execution_count": null,
      "outputs": [
        {
          "output_type": "stream",
          "name": "stdout",
          "text": [
            "Seq ID= NC_001133.9\n",
            "Length = 230218\n",
            "ccacaccacacccacacacccacacaccacaccacacaccacaccacacc...\n",
            "------------------------------------------------------------\n",
            "Seq ID= NC_001134.8\n",
            "Length = 813184\n",
            "AAATAGCCCTCATGTACGTCTCCTCCAAGCCCTGTTGTCTCTTACCCGGA...\n",
            "------------------------------------------------------------\n",
            "Seq ID= NC_001135.5\n",
            "Length = 316620\n",
            "cccacacaccacacccacaccacacccacacaccacacacaccacaccca...\n",
            "------------------------------------------------------------\n",
            "Seq ID= NC_001136.10\n",
            "Length = 1531933\n",
            "acaccacacccacaccacacccacacacaccacacccacacaccacaccc...\n",
            "------------------------------------------------------------\n",
            "Seq ID= NC_001137.3\n",
            "Length = 576874\n",
            "CGTCTCCTCCAAGCCCTGTTGTCTCTTACCCGGATGTTCAACCAAAAGCT...\n",
            "------------------------------------------------------------\n",
            "Seq ID= NC_001138.5\n",
            "Length = 270161\n",
            "GATCTCGCAAGTGCATTCCTAGACTTAATTCATATCTGCTCCTCAACTGT...\n",
            "------------------------------------------------------------\n",
            "Seq ID= NC_001139.9\n",
            "Length = 1090940\n",
            "ccacacccacacacaccacacccacacccacacactACCCTAACACTACC...\n",
            "------------------------------------------------------------\n",
            "Seq ID= NC_001140.6\n",
            "Length = 562643\n",
            "cccacacacaccacacccacacaccacacccacactTTTCACATCTACCT...\n",
            "------------------------------------------------------------\n",
            "Seq ID= NC_001141.2\n",
            "Length = 439888\n",
            "cacacacaccacacccacaccacaccacaccacacccacacccacacaca...\n",
            "------------------------------------------------------------\n",
            "Seq ID= NC_001142.9\n",
            "Length = 745751\n",
            "CCcacacacacaccacacccacacccacacacaccacacccacacaccac...\n",
            "------------------------------------------------------------\n",
            "Seq ID= NC_001143.9\n",
            "Length = 666816\n",
            "caccacacccacacaccacacccacacacacaccacacccacacaccaca...\n",
            "------------------------------------------------------------\n",
            "Seq ID= NC_001144.5\n",
            "Length = 1078177\n",
            "cacacacacacaccacccacacaccacaccacacaccacaccacacacca...\n",
            "------------------------------------------------------------\n",
            "Seq ID= NC_001145.3\n",
            "Length = 924431\n",
            "Ccacacacacaccacacccacaccacacccacacccacacccacacccac...\n",
            "------------------------------------------------------------\n",
            "Seq ID= NC_001146.8\n",
            "Length = 784333\n",
            "CCGGCTTTCTGAccgaaattaaaaaaaaaaaatgaaaatgaaaccCTGTT...\n",
            "------------------------------------------------------------\n",
            "Seq ID= NC_001147.6\n",
            "Length = 1091291\n",
            "acaccacacccacaccacacccacacccacacaccacacccacacacaca...\n",
            "------------------------------------------------------------\n",
            "Seq ID= NC_001148.4\n",
            "Length = 948066\n",
            "AAATAGCCCTCATGTACGTCTCCTCCAAGCCCTGTTGTCTCTTACCCGGA...\n",
            "------------------------------------------------------------\n",
            "Seq ID= NC_001224.1\n",
            "Length = 85779\n",
            "TTCATAATTAATTTTTTATATATATATTATATTATAATATTAATTTATAT...\n",
            "------------------------------------------------------------\n"
          ]
        }
      ]
    },
    {
      "cell_type": "code",
      "source": [
        "# 配列の最後を取り出す\n",
        "records = list(SeqIO.parse(fasta_file_name, 'fasta'))\n",
        "records[-1]"
      ],
      "metadata": {
        "colab": {
          "base_uri": "https://localhost:8080/"
        },
        "id": "ozs9zwn6ytvG",
        "outputId": "8bd7312f-535e-47fb-c7cb-789ab4222bc8"
      },
      "execution_count": null,
      "outputs": [
        {
          "output_type": "execute_result",
          "data": {
            "text/plain": [
              "SeqRecord(seq=Seq('TTCATAATTAATTTTTTATATATATATTATATTATAATATTAATTTATATTATA...ATA'), id='NC_001224.1', name='NC_001224.1', description='NC_001224.1 Saccharomyces cerevisiae S288c mitochondrion, complete genome', dbxrefs=[])"
            ]
          },
          "metadata": {},
          "execution_count": 16
        }
      ]
    },
    {
      "cell_type": "code",
      "source": [
        "# 出芽酵母S288C株の遺伝子タンパク質ファイルから1000アミノ酸残基の長さを持つものを抽出しファイルに書き込む\n",
        "protein_fasta_file = \"/content/Python_bio/chapter05/s288c.fna\"\n",
        "output_file_name = \"s288c.protein.long.faa\"\n",
        "\n",
        "records = SeqIO.parse(protein_fasta_file, 'fasta')\n",
        "threshold = 1000 # 閾値\n",
        "\n",
        "# 条件に合う配列のみのリストを作成\n",
        "records = [r for r in records if len(r) >= threshold]\n",
        "\n",
        "records = sorted(records, key=len, reverse=True) #長さでソート\n",
        "\n",
        "# ファイルに書き込み\n",
        "with open (output_file_name, 'w') as f:\n",
        "    SeqIO.write(records, f, 'fasta')"
      ],
      "metadata": {
        "id": "VyKMrB1CzZEh"
      },
      "execution_count": null,
      "outputs": []
    },
    {
      "cell_type": "code",
      "source": [
        "genome_fasta_file = '/content/Python_bio/chapter05/s288c.fna'\n",
        "records = SeqIO.parse(genome_fasta_file, 'fasta')\n",
        "\n",
        "N = 50\n",
        "\n",
        "list_length = [len(r) for r in records] # 各配列の長さを要素としたリストを作成\n",
        "\n",
        "list_length = sorted(list_length, reverse=True)\n",
        "\n",
        "total_length = sum(list_length)\n",
        "cumulative_sum = 0\n",
        "\n",
        "for length in list_length:\n",
        "    cumulative_sum += length\n",
        "\n",
        "    if cumulative_sum >= total_length * N / 100:\n",
        "        break\n",
        "print(f'N{N} : {length}bp')"
      ],
      "metadata": {
        "colab": {
          "base_uri": "https://localhost:8080/"
        },
        "id": "TsuA_IaT1XW9",
        "outputId": "4926c306-6aa9-4291-c693-444f4d743dd3"
      },
      "execution_count": null,
      "outputs": [
        {
          "output_type": "stream",
          "name": "stdout",
          "text": [
            "N50 : 924431bp\n"
          ]
        }
      ]
    },
    {
      "cell_type": "code",
      "source": [],
      "metadata": {
        "id": "l5VJ9ZCj3jDa"
      },
      "execution_count": null,
      "outputs": []
    }
  ]
}